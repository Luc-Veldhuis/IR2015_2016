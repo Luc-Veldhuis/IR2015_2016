{
 "cells": [
  {
   "cell_type": "markdown",
   "metadata": {},
   "source": [
    "# Link analysis"
   ]
  },
  {
   "cell_type": "markdown",
   "metadata": {},
   "source": [
    "Inspired by and borrowed heavily from: Collective Intelligence - [Luís F. Simões](mailto:luis.simoes@vu.nl)  \n",
    "IR version and assignments by J.E. Hoeksema, 2014-11-12\n",
    "\n",
    "*******"
   ]
  },
  {
   "cell_type": "markdown",
   "metadata": {},
   "source": [
    "This notebook's purpose is to give examples of how to use graph algorithms to improve search engine. We look at two graphs in particular: the co-authorship, and citations networks."
   ]
  },
  {
   "cell_type": "markdown",
   "metadata": {},
   "source": [
    "## Loading modules & datasets"
   ]
  },
  {
   "cell_type": "code",
   "execution_count": 1,
   "metadata": {
    "collapsed": false
   },
   "outputs": [],
   "source": [
    "import cPickle, bz2\n",
    "from collections import *\n",
    "\n",
    "import numpy as np\n",
    "import matplotlib.pyplot as plt\n",
    "\n",
    "# show plots inline within the notebook\n",
    "%matplotlib inline\n",
    "# set plots' resolution\n",
    "plt.rcParams['savefig.dpi'] = 100\n",
    "\n",
    "from IPython.display import display, HTML"
   ]
  },
  {
   "cell_type": "code",
   "execution_count": 2,
   "metadata": {
    "collapsed": false
   },
   "outputs": [],
   "source": [
    "search_term = 'evolution'\n",
    "\n",
    "Ids_file       = search_term + '__Ids.pkl.bz2'\n",
    "Summaries_file = search_term + '__Summaries.pkl.bz2'\n",
    "Citations_file = search_term + '__Citations.pkl.bz2'"
   ]
  },
  {
   "cell_type": "code",
   "execution_count": 3,
   "metadata": {
    "collapsed": false
   },
   "outputs": [],
   "source": [
    "Ids = cPickle.load( bz2.BZ2File( Ids_file, 'rb' ) )"
   ]
  },
  {
   "cell_type": "code",
   "execution_count": 4,
   "metadata": {
    "collapsed": false
   },
   "outputs": [],
   "source": [
    "Summaries = cPickle.load( bz2.BZ2File( Summaries_file, 'rb' ) )\n",
    "\n",
    "paper = namedtuple( 'paper', ['title', 'authors', 'year', 'doi'] )\n",
    "\n",
    "for (id, paper_info) in Summaries.iteritems():\n",
    "    Summaries[id] = paper( *paper_info )"
   ]
  },
  {
   "cell_type": "code",
   "execution_count": 5,
   "metadata": {
    "collapsed": false
   },
   "outputs": [],
   "source": [
    "Citations = cPickle.load( bz2.BZ2File( Citations_file, 'rb' ) )"
   ]
  },
  {
   "cell_type": "markdown",
   "metadata": {},
   "source": [
    "## Auxiliary functions"
   ]
  },
  {
   "cell_type": "markdown",
   "metadata": {},
   "source": [
    "The function below will allow us to display paper summaries in an IPython-aware way.\n",
    "\n",
    "You can find examples [here](http://nbviewer.ipython.org/urls/raw.github.com/ipython/ipython/1.x/examples/notebooks/Part%205%20-%20Rich%20Display%20System.ipynb) of how to use IPython's Rich Display System, or the whole set of examples [here](https://github.com/ipython/ipython/tree/1.x/examples/notebooks)."
   ]
  },
  {
   "cell_type": "code",
   "execution_count": 6,
   "metadata": {
    "collapsed": false
   },
   "outputs": [],
   "source": [
    "def display_summary( id, extra_text='' ):\n",
    "    \"\"\"\n",
    "    Function for printing a paper's summary through IPython's Rich Display System.\n",
    "    Trims long titles or author lists, and links to the paper's  DOI (when available).\n",
    "    \"\"\"\n",
    "    s = Summaries[ id ]\n",
    "    \n",
    "    title = ( s.title if s.title[-1]!='.' else s.title[:-1] )\n",
    "    title = title[:150].rstrip() + ('' if len(title)<=150 else '...')\n",
    "    if s.doi!='':\n",
    "        title = '<a href=http://dx.doi.org/%s>%s</a>' % (s.doi, title)\n",
    "    \n",
    "    authors = ', '.join( s.authors[:5] ) + ('' if len(s.authors)<=5 else ', ...')\n",
    "    \n",
    "    lines = [\n",
    "        title,\n",
    "        authors,\n",
    "        str(s.year),\n",
    "        '<small>id: %d%s</small>' % (id, extra_text)\n",
    "        ]\n",
    "    \n",
    "    display( HTML( '<blockquote>%s</blockquote>' % '<br>'.join(lines) ) )"
   ]
  },
  {
   "cell_type": "code",
   "execution_count": 7,
   "metadata": {
    "collapsed": false
   },
   "outputs": [
    {
     "data": {
      "text/html": [
       "<blockquote><a href=http://dx.doi.org/10.1007/s12065-012-0071-x>Embodied artificial evolution: Artificial evolutionary systems in the 21st Century</a><br>Eiben AE, Kernbach S, Haasdijk E<br>2012<br><small>id: 23144668</small></blockquote>"
      ],
      "text/plain": [
       "<IPython.core.display.HTML at 0x10548b4d0>"
      ]
     },
     "metadata": {},
     "output_type": "display_data"
    }
   ],
   "source": [
    "# usage example\n",
    "display_summary( 23144668 )"
   ]
  },
  {
   "cell_type": "markdown",
   "metadata": {},
   "source": [
    "## Co-authorship network"
   ]
  },
  {
   "cell_type": "markdown",
   "metadata": {},
   "source": [
    "`Summaries` maps paper *ids* to paper *summaries*. Let us now create here mappings by different criteria.\n",
    "\n",
    "We'll start by building a mapping from *authors*, to the set of *ids* of papers they authored. \n",
    "We'll be using Python's [sets](http://docs.python.org/2/library/stdtypes.html#set-types-set-frozenset) for that purpose."
   ]
  },
  {
   "cell_type": "code",
   "execution_count": 8,
   "metadata": {
    "collapsed": false
   },
   "outputs": [],
   "source": [
    "papers_of_author = defaultdict(set)\n",
    "\n",
    "for id,p in Summaries.iteritems():\n",
    "    for a in p.authors:\n",
    "        papers_of_author[ a ].add( id )"
   ]
  },
  {
   "cell_type": "code",
   "execution_count": 9,
   "metadata": {
    "collapsed": false
   },
   "outputs": [
    {
     "data": {
      "text/plain": [
       "{10021763, 23144668}"
      ]
     },
     "execution_count": 9,
     "metadata": {},
     "output_type": "execute_result"
    }
   ],
   "source": [
    "papers_of_author['Eiben AE']"
   ]
  },
  {
   "cell_type": "code",
   "execution_count": 10,
   "metadata": {
    "collapsed": false
   },
   "outputs": [
    {
     "data": {
      "text/html": [
       "<blockquote>Empirical investigation of multiparent recombination operators in evolution strategies<br>Eiben AE, Bäck T<br>1997<br><small>id: 10021763</small></blockquote>"
      ],
      "text/plain": [
       "<IPython.core.display.HTML at 0x10548b510>"
      ]
     },
     "metadata": {},
     "output_type": "display_data"
    },
    {
     "data": {
      "text/html": [
       "<blockquote><a href=http://dx.doi.org/10.1007/s12065-012-0071-x>Embodied artificial evolution: Artificial evolutionary systems in the 21st Century</a><br>Eiben AE, Kernbach S, Haasdijk E<br>2012<br><small>id: 23144668</small></blockquote>"
      ],
      "text/plain": [
       "<IPython.core.display.HTML at 0x10548b690>"
      ]
     },
     "metadata": {},
     "output_type": "display_data"
    }
   ],
   "source": [
    "for id in papers_of_author['Eiben AE']:\n",
    "    display_summary( id )"
   ]
  },
  {
   "cell_type": "markdown",
   "metadata": {},
   "source": [
    "We now build a co-authorship network, a graph linking *authors*, to the set of *co-authors* they have published with."
   ]
  },
  {
   "cell_type": "code",
   "execution_count": 11,
   "metadata": {
    "collapsed": false
   },
   "outputs": [],
   "source": [
    "coauthors = defaultdict(set)\n",
    "\n",
    "for p in Summaries.itervalues():\n",
    "    for a in p.authors:\n",
    "        coauthors[ a ].update( p.authors )\n",
    "\n",
    "# the code above results in each author being listed as having co-autored with himself. We now remove such references here\n",
    "for a,ca in coauthors.iteritems():\n",
    "    ca.remove( a )"
   ]
  },
  {
   "cell_type": "code",
   "execution_count": 12,
   "metadata": {
    "collapsed": false
   },
   "outputs": [
    {
     "name": "stdout",
     "output_type": "stream",
     "text": [
      "Haasdijk E, Bäck T, Kernbach S\n"
     ]
    }
   ],
   "source": [
    "print ', '.join( coauthors['Eiben AE'] )"
   ]
  },
  {
   "cell_type": "markdown",
   "metadata": {},
   "source": [
    "Because both an author's papers, and its collaborators are stored as Python sets, we can then use [set operations](http://docs.python.org/2/library/stdtypes.html#set-types-set-frozenset) to easily combine different sets, with low computational complexity. Here are a few examples.\n",
    "\n",
    "The intersection of two author's publication records, can be used to obtain the set of papers they co-authored together:"
   ]
  },
  {
   "cell_type": "code",
   "execution_count": 13,
   "metadata": {
    "collapsed": false
   },
   "outputs": [
    {
     "data": {
      "text/html": [
       "<blockquote><a href=http://dx.doi.org/10.1038/nature09205>The evolution of eusociality</a><br>Nowak MA, Tarnita CE, Wilson EO<br>2010<br><small>id: 20740005</small></blockquote>"
      ],
      "text/plain": [
       "<IPython.core.display.HTML at 0x107ea9a50>"
      ]
     },
     "metadata": {},
     "output_type": "display_data"
    }
   ],
   "source": [
    "for id in papers_of_author['Wilson EO'] & papers_of_author['Nowak MA']:\n",
    "    display_summary( id )"
   ]
  },
  {
   "cell_type": "markdown",
   "metadata": {},
   "source": [
    "The intersection of two author's collaborators sets, identifies people they have both published with:"
   ]
  },
  {
   "cell_type": "code",
   "execution_count": 14,
   "metadata": {
    "collapsed": false
   },
   "outputs": [
    {
     "data": {
      "text/plain": [
       "{'Eiben AE'}"
      ]
     },
     "execution_count": 14,
     "metadata": {},
     "output_type": "execute_result"
    }
   ],
   "source": [
    "coauthors[u'Bäck T'] & coauthors['Haasdijk E']"
   ]
  },
  {
   "cell_type": "markdown",
   "metadata": {},
   "source": [
    "Set difference, allows us to exclude papers that were published with some given author from an author's publication record:"
   ]
  },
  {
   "cell_type": "code",
   "execution_count": 15,
   "metadata": {
    "collapsed": false
   },
   "outputs": [
    {
     "data": {
      "text/html": [
       "<blockquote>Empirical investigation of multiparent recombination operators in evolution strategies<br>Eiben AE, Bäck T<br>1997<br><small>id: 10021763</small></blockquote>"
      ],
      "text/plain": [
       "<IPython.core.display.HTML at 0x114b51390>"
      ]
     },
     "metadata": {},
     "output_type": "display_data"
    }
   ],
   "source": [
    "for id in papers_of_author['Eiben AE'] - papers_of_author['Haasdijk E']:\n",
    "    display_summary( id )"
   ]
  },
  {
   "cell_type": "markdown",
   "metadata": {},
   "source": [
    "Imagine you know who the members of a research group are, and want to obtain the union of all papers published by the group's members. Most certainly, there is plenty of collaboration among group members, with many papers authored together, but we want to obtain a list of publications with no duplicate entries. Here is a way to achieve that, using Python's [reduce](http://docs.python.org/2/library/functions.html#reduce) function, to iteratively perform a union of all their publication records. We take as example three current or former members from the [IRIDIA](http://code.ulb.ac.be/iridia.home.php) lab. The make the list shorter, we show only 5 of the resulting papers."
   ]
  },
  {
   "cell_type": "code",
   "execution_count": 16,
   "metadata": {
    "collapsed": false
   },
   "outputs": [
    {
     "data": {
      "text/html": [
       "<blockquote><a href=http://dx.doi.org/10.1007/s00422-006-0080-x>Self-organisation and communication in groups of simulated and physical robots</a><br>Trianni V, Dorigo M<br>2006<br><small>id: 16821036</small></blockquote>"
      ],
      "text/plain": [
       "<IPython.core.display.HTML at 0x114b51950>"
      ]
     },
     "metadata": {},
     "output_type": "display_data"
    },
    {
     "data": {
      "text/html": [
       "<blockquote>Self-organized coordinated motion in groups of physically connected robots<br>Baldassarre G, Trianni V, Bonani M, Mondada F, Dorigo M, ...<br>2007<br><small>id: 17278574</small></blockquote>"
      ],
      "text/plain": [
       "<IPython.core.display.HTML at 0x114b51910>"
      ]
     },
     "metadata": {},
     "output_type": "display_data"
    },
    {
     "data": {
      "text/html": [
       "<blockquote><a href=http://dx.doi.org/10.1073/pnas.0508201103>Evolutionary dynamics of social dilemmas in structured heterogeneous populations</a><br>Santos FC, Pacheco JM, Lenaerts T<br>2006<br><small>id: 16484371</small></blockquote>"
      ],
      "text/plain": [
       "<IPython.core.display.HTML at 0x114b51c10>"
      ]
     },
     "metadata": {},
     "output_type": "display_data"
    },
    {
     "data": {
      "text/html": [
       "<blockquote><a href=http://dx.doi.org/10.1162/artl.2008.14.2.157>Evolving homogeneous neurocontrollers for a group of heterogeneous robots: coordinated motion, cooperation, and acoustic communication</a><br>Tuci E, Ampatzis C, Vicentini F, Dorigo M<br>2008<br><small>id: 18331188</small></blockquote>"
      ],
      "text/plain": [
       "<IPython.core.display.HTML at 0x114b519d0>"
      ]
     },
     "metadata": {},
     "output_type": "display_data"
    },
    {
     "data": {
      "text/html": [
       "<blockquote><a href=http://dx.doi.org/10.1162/artl.2009.15.1.15106>A synthon approach to artificial chemistry</a><br>Lenaerts T, Bersini H<br>2009<br><small>id: 18855566</small></blockquote>"
      ],
      "text/plain": [
       "<IPython.core.display.HTML at 0x114b51c90>"
      ]
     },
     "metadata": {},
     "output_type": "display_data"
    }
   ],
   "source": [
    "authors = [ 'Dorigo M', 'Trianni V', 'Lenaerts T' ]\n",
    "\n",
    "group_publications = reduce( set.union, [ papers_of_author[a] for a in authors ], set() )\n",
    "\n",
    "for id in list(group_publications)[5:10]:\n",
    "    display_summary( id )"
   ]
  },
  {
   "cell_type": "markdown",
   "metadata": {},
   "source": [
    "### Network statistics"
   ]
  },
  {
   "cell_type": "code",
   "execution_count": 17,
   "metadata": {
    "collapsed": false
   },
   "outputs": [
    {
     "name": "stdout",
     "output_type": "stream",
     "text": [
      "Number of nodes:   424178 (node == author)\n",
      "Number of links:  6865432 (link == collaboration between the two linked authors on at least one paper)\n"
     ]
    }
   ],
   "source": [
    "print 'Number of nodes: %8d (node == author)' % len(coauthors)\n",
    "print 'Number of links: %8d (link == collaboration between the two linked authors on at least one paper)'  \\\n",
    "        % sum( len(cas) for cas in coauthors.itervalues() )"
   ]
  },
  {
   "cell_type": "markdown",
   "metadata": {},
   "source": [
    "#### [Degree distribution](https://en.wikipedia.org/wiki/Degree_distribution)"
   ]
  },
  {
   "cell_type": "markdown",
   "metadata": {},
   "source": [
    "With this data in hand, we can plot the distribution showing the number of collaborators a scientist has published with in its full publication record:"
   ]
  },
  {
   "cell_type": "code",
   "execution_count": 18,
   "metadata": {
    "collapsed": false
   },
   "outputs": [
    {
     "data": {
      "image/png": "[encoded data removed]",
      "text/plain": [
       "<matplotlib.figure.Figure at 0x107ea9d10>"
      ]
     },
     "metadata": {},
     "output_type": "display_data"
    }
   ],
   "source": [
    "plt.hist( x=[ len(ca) for ca in coauthors.itervalues() ], bins=range(55), histtype='bar', align='left', normed=True )\n",
    "plt.xlabel('number of collaborators')\n",
    "plt.ylabel('fraction of scientists')\n",
    "plt.xlim(0,50);"
   ]
  },
  {
   "cell_type": "markdown",
   "metadata": {},
   "source": [
    "## Citations network"
   ]
  },
  {
   "cell_type": "markdown",
   "metadata": {},
   "source": [
    "We'll start by expanding the `Citations` dataset into two mappings: \n",
    "\n",
    "* `papers_citing[ id ]`: papers citing a given paper;\n",
    "* `cited_by[ id ]`: papers cited by a given paper (in other words, its list of references).\n",
    "\n",
    "If we see the Citations dataset as a directed graph where papers are nodes, and citations links between then, then `papers_citing` gives you the list of a node's incoming links, whereas `cited_by` gives you the list of its outgoing links.\n",
    "\n",
    "The dataset was assembled by querying for papers citing a given paper. As a result, the data mapped to in `cited_by` (its values) is necessarily limited to ids of papers that are part of the dataset (they are members of `Ids`). Two papers that are never cited, but do themselves cite many of the same papers (papers that are not members of `Ids`), are probably similar/relevant to each other. Unfortunately, that kind of data is not currently available."
   ]
  },
  {
   "cell_type": "code",
   "execution_count": 19,
   "metadata": {
    "collapsed": false
   },
   "outputs": [],
   "source": [
    "papers_citing = Citations  # no changes needed, this is what we are storing already in the Citations dataset\n",
    "\n",
    "cited_by = defaultdict(list)\n",
    "\n",
    "for ref, papers_citing_ref in papers_citing.iteritems():\n",
    "    for id in papers_citing_ref:\n",
    "        cited_by[ id ].append( ref )"
   ]
  },
  {
   "cell_type": "markdown",
   "metadata": {},
   "source": [
    "Let us now look at an arbitrary paper, let's say PubMed ID 20949101 (\"Critical dynamics in the evolution of stochastic strategies for the iterated prisoner's dilemma\"). We can now use the `cited_by` mapping to retrieve what we know of its list of references.\n",
    "\n",
    "As mentioned above, because the process generating the dataset asked for papers citing a given paper (and not papers a paper cites), the papers we get through `cited_by` are then necessarily all members of our datasets, and we can therefore find them in `Summaries`.\n",
    "\n",
    "You can match the list below with [the paper's References section](http://www.ncbi.nlm.nih.gov/pmc/articles/PMC2951343/#__ref-listid953859title). We have identified 22 of its references, from a total of 52."
   ]
  },
  {
   "cell_type": "code",
   "execution_count": 20,
   "metadata": {
    "collapsed": false
   },
   "outputs": [
    {
     "name": "stdout",
     "output_type": "stream",
     "text": [
      "22 references identified for the paper with id 20949101\n"
     ]
    },
    {
     "data": {
      "text/plain": [
       "{5875340: 'The genetical evolution of social behaviour. II.',\n",
       " 7466396: 'The evolution of cooperation.',\n",
       " 8316296: \"A strategy of win-stay, lose-shift that outperforms tit-for-tat in the Prisoner's Dilemma game.\",\n",
       " 10201376: \"Prisoner's dilemma in an RNA virus.\",\n",
       " 10525399: 'Evolution of cooperation in spatially structured populations',\n",
       " 10781045: 'Evolution of biological complexity.',\n",
       " 11140681: 'Altruism and social cheating in the social amoeba Dictyostelium discoideum.',\n",
       " 11544353: 'Quorum sensing in bacteria.',\n",
       " 11719803: 'Evolution of cooperation without reciprocity.',\n",
       " 12736677: 'The evolutionary origin of complex features.',\n",
       " 15071593: 'Emergence of cooperation and evolutionary stability in finite populations.',\n",
       " 16251955: 'Evolution of indirect reciprocity.',\n",
       " 16724065: 'A simple rule for the evolution of cooperation on graphs and social networks.',\n",
       " 16829575: 'Evolution of cooperation by multilevel selection.',\n",
       " 17087973: 'The evolution of altruism: game theory in multilevel selection and inclusive fitness.',\n",
       " 17158317: 'Five rules for the evolution of cooperation.',\n",
       " 17280398: 'Coevolution of strategy and structure in complex networks with dynamical linking.',\n",
       " 18351873: \"Social diversity and promotion of cooperation in the spatial prisoner's dilemma game.\",\n",
       " 18765343: 'A simple and general explanation for the evolution of altruism.',\n",
       " 19794414: 'Cheater-resistance is not futile.',\n",
       " 19837129: 'Coevolutionary games--a mini review.',\n",
       " 20008382: 'Evolutionary dynamics in structured populations.'}"
      ]
     },
     "execution_count": 20,
     "metadata": {},
     "output_type": "execute_result"
    }
   ],
   "source": [
    "paper_id = 20949101\n",
    "refs = { id : Summaries[id].title for id in cited_by[20949101] }\n",
    "print len(refs), 'references identified for the paper with id', paper_id\n",
    "refs"
   ]
  },
  {
   "cell_type": "markdown",
   "metadata": {},
   "source": [
    "If we lookup the same paper in `papers_citing`, we now see that one of the papers citing it is itself part of our dataset, but the other one (with PubMed ID 23903782) is instead a citation coming from outside the dataset. If we would look this up in PubMed, we would see that this id corresponds to the paper 'Evolutionary instability of zero-determinant strategies demonstrates that winning is not everything'. However, being an \"outsider\", its information is not in `Summaries`. Of course, you can always issue a new Entrez query to get its details if you want to, but that is outside the scope of this assignment."
   ]
  },
  {
   "cell_type": "code",
   "execution_count": 21,
   "metadata": {
    "collapsed": false
   },
   "outputs": [
    {
     "data": {
      "text/plain": [
       "{23903782: '??',\n",
       " 24003115: \"From extortion to generosity, evolution in the Iterated Prisoner's Dilemma.\"}"
      ]
     },
     "execution_count": 21,
     "metadata": {},
     "output_type": "execute_result"
    }
   ],
   "source": [
    "{ id : Summaries.get(id,['??'])[0]  for id in papers_citing[paper_id] }"
   ]
  },
  {
   "cell_type": "markdown",
   "metadata": {},
   "source": [
    "Of course, though no direct query was ever issued for this paper id 23903782, its repeated occurrence in other papers' citation lists does allow us to reconstruct a good portion of its references. Below is the list of papers in our dataset cited by that paper (10 references, out of the paper's total of 32, as you can see [here](http://www.nature.com/ncomms/2013/130801/ncomms3193/full/ncomms3193.html#references)):"
   ]
  },
  {
   "cell_type": "code",
   "execution_count": 22,
   "metadata": {
    "collapsed": false
   },
   "outputs": [
    {
     "name": "stdout",
     "output_type": "stream",
     "text": [
      "10 references identified for the paper with id 23903782\n"
     ]
    },
    {
     "data": {
      "text/plain": [
       "{5875340: 'The genetical evolution of social behaviour. II.',\n",
       " 7466396: 'The evolution of cooperation.',\n",
       " 8316296: \"A strategy of win-stay, lose-shift that outperforms tit-for-tat in the Prisoner's Dilemma game.\",\n",
       " 10976075: 'Fairness versus reason in the ultimatum game.',\n",
       " 11719803: 'Evolution of cooperation without reciprocity.',\n",
       " 12736677: 'The evolutionary origin of complex features.',\n",
       " 17342204: 'Chromodynamics of cooperation in finite populations.',\n",
       " 20949101: \"Critical dynamics in the evolution of stochastic strategies for the iterated prisoner's dilemma.\",\n",
       " 21697174: 'Impact of epistasis and pleiotropy on evolutionary adaptation.',\n",
       " 22400598: 'Evolution and stability of altruist strategies in microbial games.'}"
      ]
     },
     "execution_count": 22,
     "metadata": {},
     "output_type": "execute_result"
    }
   ],
   "source": [
    "paper_id2 = 23903782\n",
    "refs2 = { id : Summaries[id].title for id in cited_by[paper_id2] }\n",
    "print len(refs2), 'references identified for the paper with id', paper_id2\n",
    "refs2"
   ]
  },
  {
   "cell_type": "markdown",
   "metadata": {},
   "source": [
    "We can easily combine boh mappings (incoming and outgoing links) to answer such questions as: \"which papers are the most cited by those that cite a given paper?\".\n",
    "\n",
    "Going back to our example paper (\"Critical dynamics in the evolution of stochastic strategies for the iterated prisoner's dilemma\"), we find two references that are commonly cited by the two papers citing it. If you look above to the list of papers our paper cites, you find that actually, the paper itself also cites these same two references, indicating that they are somehow particularly relevant to this line of research."
   ]
  },
  {
   "cell_type": "code",
   "execution_count": 23,
   "metadata": {
    "collapsed": false
   },
   "outputs": [
    {
     "data": {
      "text/html": [
       "<blockquote><a href=http://dx.doi.org/10.1038/364056a0>A strategy of win-stay, lose-shift that outperforms tit-for-tat in the Prisoner's Dilemma game</a><br>Nowak M, Sigmund K<br>1993<br><small>id: 8316296, nr. co-citations: 2</small></blockquote>"
      ],
      "text/plain": [
       "<IPython.core.display.HTML at 0x127262f50>"
      ]
     },
     "metadata": {},
     "output_type": "display_data"
    },
    {
     "data": {
      "text/html": [
       "<blockquote>The evolution of cooperation<br>Axelrod R, Hamilton WD<br>1981<br><small>id: 7466396, nr. co-citations: 2</small></blockquote>"
      ],
      "text/plain": [
       "<IPython.core.display.HTML at 0x127262c10>"
      ]
     },
     "metadata": {},
     "output_type": "display_data"
    }
   ],
   "source": [
    "# Counter built over list of papers cited by papers that cite a given id\n",
    "cocited = Counter([\n",
    "    ref\n",
    "    for citers in papers_citing[ paper_id ]\n",
    "    for ref in cited_by[ citers ]\n",
    "    if ref != paper_id\n",
    "    ])\n",
    "\n",
    "# discard papers cited only once\n",
    "cocited = { id : nr_cocits for (id, nr_cocits) in cocited.iteritems() if nr_cocits > 1 }\n",
    "\n",
    "\n",
    "for (id, times_co_cited) in sorted( cocited.items(), key=lambda i:i[1], reverse=True ):\n",
    "    display_summary( id, ', nr. co-citations: %d' % times_co_cited )"
   ]
  },
  {
   "cell_type": "markdown",
   "metadata": {},
   "source": [
    "A final implementation note regarding `cited_by`: the way it was built, only papers cited at least once appear as keys in it. With `cited_by` being a [defaultdict](http://docs.python.org/2/library/collections.html#collections.defaultdict), attempts to access a missing element will silently cause it to be added (with an empty list as vale, in this case), instead of raising an exception. Just take note that if you iterate over keys in `cited_by`, you are not iterating over all of the graph's nodes.\n",
    "\n",
    "As an example, here's an isolated node in the graph, an old paper for which we have no citation data (neither to nor from)."
   ]
  },
  {
   "cell_type": "code",
   "execution_count": 24,
   "metadata": {
    "collapsed": false
   },
   "outputs": [
    {
     "data": {
      "text/html": [
       "<blockquote>On the Evolution of Light from the Living Human Subject<br>Marsh H<br>1842<br><small>id: 21373130</small></blockquote>"
      ],
      "text/plain": [
       "<IPython.core.display.HTML at 0x127031e90>"
      ]
     },
     "metadata": {},
     "output_type": "display_data"
    }
   ],
   "source": [
    "display_summary( Ids[-1] )"
   ]
  },
  {
   "cell_type": "code",
   "execution_count": 25,
   "metadata": {
    "collapsed": false
   },
   "outputs": [
    {
     "data": {
      "text/plain": [
       "[]"
      ]
     },
     "execution_count": 25,
     "metadata": {},
     "output_type": "execute_result"
    }
   ],
   "source": [
    "papers_citing[ 21373130 ]"
   ]
  },
  {
   "cell_type": "code",
   "execution_count": 26,
   "metadata": {
    "collapsed": false
   },
   "outputs": [
    {
     "data": {
      "text/plain": [
       "False"
      ]
     },
     "execution_count": 26,
     "metadata": {},
     "output_type": "execute_result"
    }
   ],
   "source": [
    "21373130 in cited_by"
   ]
  },
  {
   "cell_type": "code",
   "execution_count": 27,
   "metadata": {
    "collapsed": false
   },
   "outputs": [
    {
     "data": {
      "text/plain": [
       "[]"
      ]
     },
     "execution_count": 27,
     "metadata": {},
     "output_type": "execute_result"
    }
   ],
   "source": [
    "cited_by[ 21373130 ]"
   ]
  },
  {
   "cell_type": "code",
   "execution_count": 28,
   "metadata": {
    "collapsed": false
   },
   "outputs": [
    {
     "data": {
      "text/plain": [
       "True"
      ]
     },
     "execution_count": 28,
     "metadata": {},
     "output_type": "execute_result"
    }
   ],
   "source": [
    "21373130 in cited_by"
   ]
  },
  {
   "cell_type": "code",
   "execution_count": 29,
   "metadata": {
    "collapsed": false
   },
   "outputs": [],
   "source": [
    "# just to revert to the way things were\n",
    "del cited_by[ 21373130 ]"
   ]
  },
  {
   "cell_type": "markdown",
   "metadata": {},
   "source": [
    "Should you want to \"lock\" `cited_by`, to make it behave as a regular Python dictionary, just convert it like this:"
   ]
  },
  {
   "cell_type": "code",
   "execution_count": 30,
   "metadata": {
    "collapsed": false
   },
   "outputs": [],
   "source": [
    "cited_by = dict(cited_by)"
   ]
  },
  {
   "cell_type": "markdown",
   "metadata": {},
   "source": [
    "### Network statistics"
   ]
  },
  {
   "cell_type": "markdown",
   "metadata": {},
   "source": [
    "Now that we have a better understanding about the data we're dealing with, let us obtain some basic statistics about our graph."
   ]
  },
  {
   "cell_type": "code",
   "execution_count": 31,
   "metadata": {
    "collapsed": false
   },
   "outputs": [
    {
     "name": "stdout",
     "output_type": "stream",
     "text": [
      "Number of core ids 205344 (100.00 %)\n",
      "Number of papers cited at least once: 112185 (54.63 %)\n",
      "Number of isolated nodes: 87837 (42.78 %)\n",
      "\t(papers that are not cited by any others, nor do themselves cite any in the dataset)\n",
      "Number of dataset ids with no citations, but known references: 5322 (2.59 %)\n",
      "(percentages calculated with respect to just the core ids (members of `Ids`) -- exclude outsider ids)\n",
      "\n"
     ]
    }
   ],
   "source": [
    "print 'Number of core ids %d (100.00 %%)' % len(Ids)\n",
    "\n",
    "with_cit = [ id for id in Ids if papers_citing[id]!=[] ]\n",
    "print 'Number of papers cited at least once: %d (%.2f %%)' % (len(with_cit), 100.*len(with_cit)/len(Ids))\n",
    "\n",
    "isolated = set( id for id in Ids if papers_citing[id]==[] and id not in cited_by )\n",
    "print 'Number of isolated nodes: %d (%.2f %%)\\n\\t'   \\\n",
    "      '(papers that are not cited by any others, nor do themselves cite any in the dataset)'% (\n",
    "    len(isolated), 100.*len(isolated)/len(Ids) )\n",
    "\n",
    "noCit_withRefs = [ id for id in Ids if papers_citing[id]==[] and id in cited_by ]\n",
    "print 'Number of dataset ids with no citations, but known references: %d (%.2f %%)' % (\n",
    "    len(noCit_withRefs), 100.*len(noCit_withRefs)/len(Ids))\n",
    "\n",
    "print '(percentages calculated with respect to just the core ids (members of `Ids`) -- exclude outsider ids)\\n'"
   ]
  },
  {
   "cell_type": "code",
   "execution_count": 32,
   "metadata": {
    "collapsed": false
   },
   "outputs": [
    {
     "name": "stdout",
     "output_type": "stream",
     "text": [
      "Number of (non-isolated) nodes in the graph: 547438\n",
      "\t(papers with at least 1 known citation, or 1 known reference)\n",
      "460172 distinct ids are citing papers in our dataset.\n",
      "Of those, 429931 (93.43 %) are ids from outside the dataset.\n",
      "\n"
     ]
    }
   ],
   "source": [
    "Ids_set    = set( Ids )\n",
    "citing_Ids = set( cited_by.keys() ) # == set( c for citing in papers_citing.itervalues() for c in citing )\n",
    "\n",
    "outsiders = citing_Ids - Ids_set    # set difference: removes from `citing_Ids` all the ids that occur in `Ids_set`\n",
    "nodes     = citing_Ids | Ids_set - isolated     # set union, followed by set difference\n",
    "\n",
    "print 'Number of (non-isolated) nodes in the graph: %d\\n\\t(papers with at least 1 known citation, or 1 known reference)' % len(nodes)\n",
    "print len( citing_Ids ), 'distinct ids are citing papers in our dataset.'\n",
    "print 'Of those, %d (%.2f %%) are ids from outside the dataset.\\n' % ( len(outsiders), 100.*len(outsiders)/len(citing_Ids) )"
   ]
  },
  {
   "cell_type": "code",
   "execution_count": 33,
   "metadata": {
    "collapsed": false
   },
   "outputs": [
    {
     "name": "stdout",
     "output_type": "stream",
     "text": [
      "Number of links (citations) in the graph: 1157723\n",
      "A total of 1157723 citations are logged in the dataset.\n",
      "Citations by ids from outside the dataset comprise 890613 (76.93 %) of that total.\n",
      "\n"
     ]
    }
   ],
   "source": [
    "all_cits      = [ c for citing in papers_citing.itervalues() for c in citing ]\n",
    "outsider_cits = [ c for citing in papers_citing.itervalues() for c in citing if c in outsiders ]\n",
    "\n",
    "print 'Number of links (citations) in the graph:', len(all_cits)\n",
    "print 'A total of %d citations are logged in the dataset.' % len(all_cits)\n",
    "print 'Citations by ids from outside the dataset comprise %d (%.2f %%) of that total.\\n' % (\n",
    "    len(outsider_cits),\n",
    "    100.*len(outsider_cits)/len(all_cits) )"
   ]
  },
  {
   "cell_type": "markdown",
   "metadata": {},
   "source": [
    "#### Most cited papers"
   ]
  },
  {
   "cell_type": "markdown",
   "metadata": {},
   "source": [
    "Let us now find which 10 papers are the most cited in our dataset."
   ]
  },
  {
   "cell_type": "code",
   "execution_count": 34,
   "metadata": {
    "collapsed": false
   },
   "outputs": [
    {
     "data": {
      "text/html": [
       "<blockquote><a href=http://dx.doi.org/10.1038/35057062>Initial sequencing and analysis of the human genome</a><br>Lander ES, Linton LM, Birren B, Nusbaum C, Zody MC, ...<br>2001<br><small>id: 11237011, nr. citations: <u>3258</u></small></blockquote>"
      ],
      "text/plain": [
       "<IPython.core.display.HTML at 0x1270316d0>"
      ]
     },
     "metadata": {},
     "output_type": "display_data"
    },
    {
     "data": {
      "text/html": [
       "<blockquote>A simple, fast, and accurate algorithm to estimate large phylogenies by maximum likelihood<br>Guindon S, Gascuel O<br>2003<br><small>id: 14530136, nr. citations: <u>2344</u></small></blockquote>"
      ],
      "text/plain": [
       "<IPython.core.display.HTML at 0x127031350>"
      ]
     },
     "metadata": {},
     "output_type": "display_data"
    },
    {
     "data": {
      "text/html": [
       "<blockquote><a href=http://dx.doi.org/10.1093/molbev/msr121>MEGA5: molecular evolutionary genetics analysis using maximum likelihood, evolutionary distance, and maximum parsimony methods</a><br>Tamura K, Peterson D, Peterson N, Stecher G, Nei M, ...<br>2011<br><small>id: 21546353, nr. citations: <u>2092</u></small></blockquote>"
      ],
      "text/plain": [
       "<IPython.core.display.HTML at 0x1270316d0>"
      ]
     },
     "metadata": {},
     "output_type": "display_data"
    },
    {
     "data": {
      "text/html": [
       "<blockquote>MODELTEST: testing the model of DNA substitution<br>Posada D, Crandall KA<br>1998<br><small>id: 9918953, nr. citations: <u>1905</u></small></blockquote>"
      ],
      "text/plain": [
       "<IPython.core.display.HTML at 0x127031290>"
      ]
     },
     "metadata": {},
     "output_type": "display_data"
    },
    {
     "data": {
      "text/html": [
       "<blockquote>MEGA3: Integrated software for Molecular Evolutionary Genetics Analysis and sequence alignment<br>Kumar S, Tamura K, Nei M<br>2004<br><small>id: 15260895, nr. citations: <u>1805</u></small></blockquote>"
      ],
      "text/plain": [
       "<IPython.core.display.HTML at 0x1270310d0>"
      ]
     },
     "metadata": {},
     "output_type": "display_data"
    },
    {
     "data": {
      "text/html": [
       "<blockquote><a href=http://dx.doi.org/10.1016/j.cell.2009.01.002>MicroRNAs: target recognition and regulatory functions</a><br>Bartel DP<br>2009<br><small>id: 19167326, nr. citations: <u>1568</u></small></blockquote>"
      ],
      "text/plain": [
       "<IPython.core.display.HTML at 0x1270312d0>"
      ]
     },
     "metadata": {},
     "output_type": "display_data"
    },
    {
     "data": {
      "text/html": [
       "<blockquote><a href=http://dx.doi.org/10.1038/35048692>Analysis of the genome sequence of the flowering plant Arabidopsis thaliana</a><br>Arabidopsis Genome Initiative<br>2000<br><small>id: 11130711, nr. citations: <u>1562</u></small></blockquote>"
      ],
      "text/plain": [
       "<IPython.core.display.HTML at 0x127031210>"
      ]
     },
     "metadata": {},
     "output_type": "display_data"
    },
    {
     "data": {
      "text/html": [
       "<blockquote>A simple method for estimating evolutionary rates of base substitutions through comparative studies of nucleotide sequences<br>Kimura M<br>1980<br><small>id: 7463489, nr. citations: <u>1518</u></small></blockquote>"
      ],
      "text/plain": [
       "<IPython.core.display.HTML at 0x127031150>"
      ]
     },
     "metadata": {},
     "output_type": "display_data"
    },
    {
     "data": {
      "text/html": [
       "<blockquote><a href=http://dx.doi.org/10.1038/nature01262>Initial sequencing and comparative analysis of the mouse genome</a><br>Mouse Genome Sequencing Consortium, Waterston RH, Lindblad-Toh K, Birney E, Rogers J, ...<br>2002<br><small>id: 12466850, nr. citations: <u>1493</u></small></blockquote>"
      ],
      "text/plain": [
       "<IPython.core.display.HTML at 0x127031b50>"
      ]
     },
     "metadata": {},
     "output_type": "display_data"
    },
    {
     "data": {
      "text/html": [
       "<blockquote><a href=http://dx.doi.org/10.1038/nature04226>A haplotype map of the human genome</a><br>International HapMap Consortium<br>2005<br><small>id: 16255080, nr. citations: <u>1428</u></small></blockquote>"
      ],
      "text/plain": [
       "<IPython.core.display.HTML at 0x127031e50>"
      ]
     },
     "metadata": {},
     "output_type": "display_data"
    }
   ],
   "source": [
    "nr_cits_per_paper = [ (id, len(cits)) for (id,cits) in papers_citing.iteritems() ]\n",
    "\n",
    "for (id, cits) in sorted( nr_cits_per_paper, key=lambda i:i[1], reverse=True )[:10]:\n",
    "    display_summary( id, ', nr. citations: <u>%d</u>' % cits )"
   ]
  },
  {
   "cell_type": "markdown",
   "metadata": {},
   "source": [
    "The most cited paper in our dataset \"Initial sequencing and analysis of the human genome\", has 3258 citations, which is ~20% of the citations Google Scholar recognizes for it (see [here](http://scholar.google.com/scholar?q=10.1038%2F35057062))."
   ]
  },
  {
   "cell_type": "markdown",
   "metadata": {},
   "source": [
    "## Link Analysis for Search Engines"
   ]
  },
  {
   "cell_type": "markdown",
   "metadata": {},
   "source": [
    "In order to use the citation network, we need to be able to perform some complex graph algorithms on it. To make our lives easier, we will load the data into the python package NetworkX, a package for the creation, manipulation, and study of the structure, dynamics, and function of complex networks, which provides a number of these graph algorithms (such as HITS and PageRank) out of the box."
   ]
  },
  {
   "cell_type": "code",
   "execution_count": 35,
   "metadata": {
    "collapsed": false
   },
   "outputs": [],
   "source": [
    "import networkx as nx\n",
    "\n",
    "G = nx.DiGraph(cited_by)"
   ]
  },
  {
   "cell_type": "markdown",
   "metadata": {},
   "source": [
    "We now have a NetworkX Directed Graph stored in `G`, where a node represents a paper, and an edge represents a citation. This means we can now apply the [algorithms](http://networkx.github.io/documentation/networkx-1.9.1/reference/algorithms.html) and [functions](http://networkx.github.io/documentation/networkx-1.9.1/reference/functions.html) of NetworkX to our graph:"
   ]
  },
  {
   "cell_type": "code",
   "execution_count": 36,
   "metadata": {
    "collapsed": false
   },
   "outputs": [
    {
     "name": "stdout",
     "output_type": "stream",
     "text": [
      "Name: \n",
      "Type: DiGraph\n",
      "Number of nodes: 547438\n",
      "Number of edges: 1157723\n",
      "Average in degree:   2.1148\n",
      "Average out degree:   2.1148\n",
      "True\n",
      "3.86309665132e-06\n"
     ]
    }
   ],
   "source": [
    "print nx.info(G)\n",
    "print nx.is_directed(G)\n",
    "print nx.density(G)"
   ]
  },
  {
   "cell_type": "markdown",
   "metadata": {},
   "source": [
    "As this graph was generated from citations only, we need to add all isolated nodes (nodes that are not cited and do not cite other papers) as well:"
   ]
  },
  {
   "cell_type": "code",
   "execution_count": 37,
   "metadata": {
    "collapsed": false
   },
   "outputs": [],
   "source": [
    "G.add_nodes_from(isolated)"
   ]
  },
  {
   "cell_type": "code",
   "execution_count": 38,
   "metadata": {
    "collapsed": false
   },
   "outputs": [
    {
     "name": "stdout",
     "output_type": "stream",
     "text": [
      "Name: \n",
      "Type: DiGraph\n",
      "Number of nodes: 635275\n",
      "Number of edges: 1157723\n",
      "Average in degree:   1.8224\n",
      "Average out degree:   1.8224\n",
      "True\n",
      "2.86867808205e-06\n"
     ]
    }
   ],
   "source": [
    "print nx.info(G)\n",
    "print nx.is_directed(G)\n",
    "print nx.density(G)"
   ]
  },
  {
   "cell_type": "markdown",
   "metadata": {},
   "source": [
    "## Assignments"
   ]
  },
  {
   "cell_type": "markdown",
   "metadata": {},
   "source": [
    "* Plot the degree distribution for the citation network. What can you tell about the shape of this distribution, and what does this tell us about the network?"
   ]
  },
  {
   "cell_type": "markdown",
   "metadata": {},
   "source": [
    "* Using the [Link Analysis](networkx.github.io/documentation/networkx-1.9.1/reference/algorithms.link_analysis.html) algorithms provided by NetworkX, calculate the PageRank score for each node in the citation network, and store it somewhere. Also calculate the HITS hubs and authority scores for each node, and store them in another variable.\n",
    "  <small>Hint: the `pagerank_scipy` and `hits_scipy` implementations tend to be considerably faster than their regular `pagerank` and `hits` counterparts</small>"
   ]
  },
  {
   "cell_type": "markdown",
   "metadata": {},
   "source": [
    "* Copy your search engine from mini-assignment 3, and create a version that incorporates a paper's PageRank score in it's final score in, addition to tfidf"
   ]
  },
  {
   "cell_type": "markdown",
   "metadata": {},
   "source": [
    "* Create another version of your search engine, this time using the paper's HITS values together with tfidf in the scoring function this time"
   ]
  },
  {
   "cell_type": "markdown",
   "metadata": {},
   "source": [
    "* Explain how you combined the tfidf score, and graph-based scores in the assignments above? Did you value one over the other, or treated them equally? Why?"
   ]
  }
 ],
 "metadata": {
  "kernelspec": {
   "display_name": "Python 3",
   "language": "python",
   "name": "python3"
  },
  "language_info": {
   "codemirror_mode": {
    "name": "ipython",
    "version": 3
   },
   "file_extension": ".py",
   "mimetype": "text/x-python",
   "name": "python",
   "nbconvert_exporter": "python",
   "pygments_lexer": "ipython3",
   "version": "3.4.3"
  }
 },
 "nbformat": 4,
 "nbformat_minor": 0
}
