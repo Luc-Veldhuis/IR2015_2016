{
 "cells": [
  {
   "cell_type": "markdown",
   "metadata": {},
   "source": [
    "# Improving the Search Index"
   ]
  },
  {
   "cell_type": "markdown",
   "metadata": {},
   "source": [
    "_(Inspired by and borrowed heavily from: Collective Intelligence - [Luís F. Simões](mailto:luis.simoes@vu.nl). IR version and assignments by J.E. Hoeksema, 2014-11-12. Converted to Python 3 and minor changes by Tobias Kuhn, 2015-10-30.)_\n",
    "\n",
    "*******"
   ]
  },
  {
   "cell_type": "markdown",
   "metadata": {},
   "source": [
    "**THIS IS NOT THE FINAL VERSION OF THE DOCUMENT. PLEASE UPDATE TO THE LATEST VERSION BEFORE DOING THE ASSIGNMENTS AT THE BOTTOM.**"
   ]
  },
  {
   "cell_type": "markdown",
   "metadata": {},
   "source": [
    "This notebook's purpose is to improve the search index and query functions built in the previous notebooks and assignments."
   ]
  },
  {
   "cell_type": "markdown",
   "metadata": {},
   "source": [
    "## Loading the Data, Defining some functions"
   ]
  },
  {
   "cell_type": "markdown",
   "metadata": {},
   "source": [
    "This section is copied from the previous notebook."
   ]
  },
  {
   "cell_type": "code",
   "execution_count": 1,
   "metadata": {
    "collapsed": false
   },
   "outputs": [],
   "source": [
    "import pickle, bz2, re\n",
    "from collections import namedtuple, defaultdict, Counter\n",
    "from IPython.display import display, HTML\n",
    "from math import log10\n",
    "\n",
    "Summaries_file = 'data/air__Summaries.pkl.bz2'\n",
    "Abstracts_file = 'data/air__Abstracts.pkl.bz2'\n",
    "\n",
    "Summaries = pickle.load( bz2.BZ2File( Summaries_file, 'rb' ) )\n",
    "Abstracts = pickle.load( bz2.BZ2File( Abstracts_file, 'rb' ) )\n",
    "\n",
    "paper = namedtuple( 'paper', ['title', 'authors', 'year', 'doi'] )\n",
    "for (id, paper_info) in Summaries.items():\n",
    "    Summaries[id] = paper( *paper_info )\n",
    "    \n",
    "def display_summary( id, extra_text='' ): # For a non-notebook version: see the Discussion Board\n",
    "    \"\"\"\n",
    "    Function for printing a paper's summary through IPython's Rich Display System.\n",
    "    Trims long titles or author lists, and links to the paper's  DOI (when available).\n",
    "    \"\"\"\n",
    "    s = Summaries[ id ]\n",
    "    \n",
    "    title = ( s.title if s.title[-1]!='.' else s.title[:-1] )\n",
    "    title = title[:150].rstrip() + ('' if len(title)<=150 else '...')\n",
    "    if s.doi!='':\n",
    "        title = '<a href=http://dx.doi.org/%s>%s</a>' % (s.doi, title)\n",
    "    \n",
    "    authors = ', '.join( s.authors[:5] ) + ('' if len(s.authors)<=5 else ', ...')\n",
    "    \n",
    "    lines = [\n",
    "        title,\n",
    "        authors,\n",
    "        str(s.year),\n",
    "        '<small>id: %d%s</small>' % (id, extra_text)\n",
    "        ]\n",
    "    \n",
    "    display( HTML( '<blockquote>%s</blockquote>' % '<br>'.join(lines) ) )\n",
    "    \n",
    "def display_abstract( id, highlights=[]): # For a non-notebook version: see the Discussion Board\n",
    "    \"\"\"\n",
    "    Function for displaying an abstract. Includes optional (naive) highlighting\n",
    "    \"\"\"\n",
    "    a = Abstracts[ id ]\n",
    "    for h in highlights:\n",
    "        a = re.sub(r'\\b(%s)\\b'%h,'<mark>\\\\1</mark>',a, flags=re.IGNORECASE)\n",
    "    display( HTML( '<blockquote>%s</blockquote' % a ) )"
   ]
  },
  {
   "cell_type": "code",
   "execution_count": 2,
   "metadata": {
    "collapsed": false
   },
   "outputs": [],
   "source": [
    "def tokenize(text):\n",
    "    \"\"\"\n",
    "    Function that tokenizes a string in a rather naive way. Can be extended later.\n",
    "    \"\"\"\n",
    "    return text.split(' ')\n",
    "\n",
    "def preprocess(tokens):\n",
    "    \"\"\"\n",
    "    Perform linguistic preprocessing on a list of tokens. Can be extended later.\n",
    "    \"\"\"\n",
    "    result = []\n",
    "    for token in tokens:\n",
    "        result.append(token.lower())\n",
    "    return result"
   ]
  },
  {
   "cell_type": "code",
   "execution_count": 3,
   "metadata": {
    "collapsed": false
   },
   "outputs": [],
   "source": [
    "inverted_index = defaultdict(set)\n",
    "\n",
    "# Takes a while\n",
    "for (id, abstract) in Abstracts.items():\n",
    "    for term in preprocess(tokenize(abstract)):\n",
    "        inverted_index[term].add(id)"
   ]
  },
  {
   "cell_type": "code",
   "execution_count": 4,
   "metadata": {
    "collapsed": false
   },
   "outputs": [],
   "source": [
    "# Short (one-liner) versions of and_query and or_query\n",
    "def or_query(query):\n",
    "    return reduce(lambda a, e: a.union(e), [inverted_index[term] for term in preprocess(tokenize(query))])\n",
    "\n",
    "def and_query(query): \n",
    "    return reduce(lambda a, e: a.intersection(e), [inverted_index[term] for term in preprocess(tokenize(query))])"
   ]
  },
  {
   "cell_type": "markdown",
   "metadata": {},
   "source": [
    "## Stemming"
   ]
  },
  {
   "cell_type": "markdown",
   "metadata": {},
   "source": [
    "As we could see from the results of the last assignment, our simple index doesn't handle punctuation and the difference between singular and plural versions of the same word very well. A possible solution to those issues would be to apply better tokenization and stemming. Fortunately, Python's *NLTK* package provides implementations of these algorithms we can use:"
   ]
  },
  {
   "cell_type": "code",
   "execution_count": 5,
   "metadata": {
    "collapsed": false
   },
   "outputs": [
    {
     "name": "stdout",
     "output_type": "stream",
     "text": [
      "[nltk_data] Downloading package punkt to\n",
      "[nltk_data]     C:\\Users\\Luc\\AppData\\Roaming\\nltk_data...\n",
      "[nltk_data]   Package punkt is already up-to-date!\n",
      "['Good', 'muffins', 'cost', '$3.88\\nin', 'New', 'York.', '', 'Please', 'buy', 'me', 'two', 'of', 'them.\\n\\nThanks.']\n",
      "['Good', 'muffins', 'cost', '$', '3.88', 'in', 'New', 'York', '.', 'Please', 'buy', 'me', 'two', 'of', 'them', '.', 'Thanks', '.']\n"
     ]
    }
   ],
   "source": [
    "from nltk.tokenize import word_tokenize\n",
    "from nltk.stem.snowball import EnglishStemmer\n",
    "import nltk\n",
    "nltk.download('punkt')\n",
    "stemmer = EnglishStemmer()\n",
    "\n",
    "s = '''Good muffins cost $3.88\\nin New York.  Please buy me two of them.\\n\\nThanks.'''\n",
    "\n",
    "print(tokenize(s))\n",
    "print(word_tokenize(s))"
   ]
  },
  {
   "cell_type": "code",
   "execution_count": 6,
   "metadata": {
    "collapsed": false
   },
   "outputs": [
    {
     "name": "stdout",
     "output_type": "stream",
     "text": [
      "process\n"
     ]
    }
   ],
   "source": [
    "print(stemmer.stem(\"processes\"))"
   ]
  },
  {
   "cell_type": "markdown",
   "metadata": {},
   "source": [
    "## Ranking"
   ]
  },
  {
   "cell_type": "markdown",
   "metadata": {},
   "source": [
    "Another way to improve our search results is to *rank* them. A possible way to do this is to calculate a score for each document based on the matching terms from the query. One such scoring method is *tf-idf*, as explained in the lecture slides.\n",
    "\n",
    "In order to quickly calculate the scores for a term/document combination, we'll need quick access to a couple of things:\n",
    "* tf(t,d) - How often does a term occur in a document\n",
    "* df(t) - In how many documents does a term occur\n",
    "* N - The number of documents in our index"
   ]
  },
  {
   "cell_type": "code",
   "execution_count": 7,
   "metadata": {
    "collapsed": false
   },
   "outputs": [],
   "source": [
    "from collections import Counter, defaultdict\n",
    "\n",
    "tf_matrix = defaultdict(Counter)\n",
    "for (id, abstract) in Abstracts.items():\n",
    "    tf_matrix[id] = Counter(preprocess(tokenize(abstract)))\n",
    "\n",
    "def tf(t,d):\n",
    "    return float(tf_matrix[d][t])\n",
    "\n",
    "def df(t):\n",
    "    return float(len(inverted_index[t]))\n",
    "    \n",
    "def num_documents():\n",
    "    return float(len(Abstracts))"
   ]
  },
  {
   "cell_type": "code",
   "execution_count": 8,
   "metadata": {
    "collapsed": false
   },
   "outputs": [
    {
     "name": "stdout",
     "output_type": "stream",
     "text": [
      "2.0\n",
      "101905.0\n",
      "190555.0\n"
     ]
    }
   ],
   "source": [
    "print(tf('air',16820458))\n",
    "print(df('air'))\n",
    "print(num_documents())"
   ]
  },
  {
   "cell_type": "markdown",
   "metadata": {},
   "source": [
    "Using these three helper functions, we can now easily calculate the tf.idf weights of a term in a document by implementing the weighting formula from the slides, which you will do in the assignments below."
   ]
  },
  {
   "cell_type": "markdown",
   "metadata": {},
   "source": [
    "## Assignments"
   ]
  },
  {
   "cell_type": "markdown",
   "metadata": {},
   "source": [
    "* Change (in the code cell below) the *smarter_tokenize* function to use NLTK's word_tokenize function for tokenization, and the *smarter_preprocess* function to perform stemming in addition to case normalization. Does `smarter_and_query(\"air sample\")` return the paper *26488732*? Why (not)?\n",
    "\n",
    "  <small>We are purposely generating this index on a subset of the data, as generating an index with stemming on the entire set would take up to half an hour</small>"
   ]
  },
  {
   "cell_type": "code",
   "execution_count": 11,
   "metadata": {
    "collapsed": false
   },
   "outputs": [
    {
     "name": "stdout",
     "output_type": "stream",
     "text": [
      "{26432020, 26408981, 26419736, 26412057, 26462746, 26480153, 26476059, 26423330, 26460197, 26436142, 26445364, 26428471, 26419772, 26452048, 26434640, 26406492, 26460256, 26475104, 26487904, 26457711, 26464892, 26478716, 26413696, 26487426, 26415752, 26456221, 26452126, 26406048, 26449571, 26436268, 26408120, 26454203, 26425536, 26453185, 26403015, 26489032, 26426569, 26459848, 26473681, 26431700, 26473684, 26434262, 26410714, 26420444, 26451679, 26470625, 26480354, 26449634, 26473705, 26453739, 26484976, 26476807, 26432264, 26434314, 26402063, 26467090, 26404114, 26476306, 26403094, 26448161, 26479908, 26466089, 26479918, 26433327, 26433329, 26437425, 26409267, 26436919, 26444604, 26430286, 26422606, 26426705, 26415447, 26478426, 26443102, 26448746, 26412395, 26484590, 26444147, 26487677, 26408835, 26417541, 26407305, 26452884, 26456986, 26488732, 26414507, 26405807, 26411447, 26445751, 26463685, 26469333, 26459611, 26428398, 26447858, 26439669, 26484214, 26435581}\n",
      "True\n"
     ]
    }
   ],
   "source": [
    "from functools import reduce\n",
    "\n",
    "def smarter_tokenize(text):\n",
    "    # Change this\n",
    "    return word_tokenize(text)\n",
    "\n",
    "def smarter_preprocess(tokens):\n",
    "    result = []\n",
    "    stemmer = EnglishStemmer()\n",
    "    for token in tokens:\n",
    "        # Change this\n",
    "        result.append(stemmer.stem(token))\n",
    "    return result\n",
    "\n",
    "def smarter_and_query(query): # Regular and_query using smarter_tokenize and smarter_preprocess\n",
    "    return reduce(lambda a, e: a.intersection(e), [smarter_index[term] for term in smarter_preprocess(smarter_tokenize(query))])\n",
    "\n",
    "smarter_index = defaultdict(set)\n",
    "# Create a subset of around 1400 document IDs\n",
    "subset = set(Abstracts.keys()).intersection(set(range(26400000,26500000)))\n",
    "\n",
    "for (id, abstract) in ((k, Abstracts[k]) for k in subset):\n",
    "    for term in smarter_preprocess(smarter_tokenize(abstract)):\n",
    "        smarter_index[term].add(id)\n",
    "        \n",
    "print(smarter_and_query(\"air sample\"))\n",
    "print(26488732 in smarter_and_query(\"air sample\"))"
   ]
  },
  {
   "cell_type": "markdown",
   "metadata": {},
   "source": [
    "Yes it does, because the word 'sample' is preprocessed to 'sampl' to match all word variations of sample, sampling and samples, which are present in the abstract of the paper."
   ]
  },
  {
   "cell_type": "markdown",
   "metadata": {},
   "source": [
    "* Create a function `tfidf(t,d)` that returns the tf.idf score of term `t` in document `d` by using the `tf(t,d)`, `df(t)` and `num_documents()` functions we defined above. The tf.idf formula can be found on the lecture slides.\n",
    "  \n",
    "  You can use the `log10(n)` function to calculate log<sub>10</sub>(n), and you can use the code cell below to verify your results."
   ]
  },
  {
   "cell_type": "code",
   "execution_count": 12,
   "metadata": {
    "collapsed": false
   },
   "outputs": [
    {
     "name": "stdout",
     "output_type": "stream",
     "text": [
      "0.0\n",
      "0.0\n",
      "0.0\n"
     ]
    }
   ],
   "source": [
    "#print tfidf('embodied',23144668) # 3.35343851032\n",
    "#print tfidf('evolution',23144668) # 0.302176987782\n",
    "#print tfidf('notinthedocument',23144668) # 0.0\n",
    "def tfidf(t, d):\n",
    "    if(df(t) == 0):\n",
    "        return 0.0;\n",
    "    return tf(t, d)*log10(num_documents()/df(t))\n",
    "print(tfidf('embodied',23144668))\n",
    "print(tfidf('evolution',23144668))\n",
    "print(tfidf('notinthedocument',23144668))"
   ]
  },
  {
   "cell_type": "markdown",
   "metadata": {},
   "source": [
    "* Create a function `query(query_string)`, which accepts as input a single query string that could consist of one or more words, and returns or prints a list of (up to) 10 best matching documents, along with their score. \n",
    "\n",
    "  You should use tf.idf to calculate document scores based on the query, and the results should be ordered by score in descending order.\n",
    "\n",
    "  Hint: Start by copying your `or_query` function from mini-assignment 2, then expand that to rank the results, making use of the `tfidf(t,d)` function you created earlier.\n",
    "\n",
    "  Use the provided `display_summary(id,extra_text)` function to make the output a bit more 'search engine'-like."
   ]
  },
  {
   "cell_type": "code",
   "execution_count": 13,
   "metadata": {
    "collapsed": false
   },
   "outputs": [
    {
     "data": {
      "text/html": [
       "<blockquote><a href=http://dx.doi.org/10.1080/08958370050085147>Combined respiratory effects of cold air with SO(2) or NO(2) in single 1-hour exposures of hyperventilating guinea pigs</a><br>Hälinen AI, Salonen RO, Pennanen AS, Kosma VM<br>2000<br><small>id: 10880152 - tfidf score: 5.980147</small></blockquote>"
      ],
      "text/plain": [
       "<IPython.core.display.HTML object>"
      ]
     },
     "metadata": {},
     "output_type": "display_data"
    },
    {
     "data": {
      "text/html": [
       "<blockquote>Assessing exposure to air toxics relative to asthma<br>Weisel CP<br>2002<br><small>id: 12194882 - tfidf score: 5.436497</small></blockquote>"
      ],
      "text/plain": [
       "<IPython.core.display.HTML object>"
      ]
     },
     "metadata": {},
     "output_type": "display_data"
    },
    {
     "data": {
      "text/html": [
       "<blockquote>[Composting facilities. 2. Aerogenic microorganism content at different working areas of composting facilities]<br>Jager E, Rüden H, Zeschmar-Lahl B<br>1994<br><small>id: 7748441 - tfidf score: 5.164672</small></blockquote>"
      ],
      "text/plain": [
       "<IPython.core.display.HTML object>"
      ]
     },
     "metadata": {},
     "output_type": "display_data"
    },
    {
     "data": {
      "text/html": [
       "<blockquote><a href=http://dx.doi.org/10.1016/j.jconhyd.2014.10.013>Changes in air flow patterns using surfactants and thickeners during air sparging: bench-scale experiments</a><br>Kim J, Kim H, Annable MD<br>2015<br><small>id: 25462638 - tfidf score: 5.164672</small></blockquote>"
      ],
      "text/plain": [
       "<IPython.core.display.HTML object>"
      ]
     },
     "metadata": {},
     "output_type": "display_data"
    },
    {
     "data": {
      "text/html": [
       "<blockquote><a href=http://dx.doi.org/10.1086/322160>Effect of air breathing on acid-base and ion regulation after exhaustive exercise and during low pH exposure in the bowfin, Amia calva</a><br>Gonzalez RJ, Milligan L, Pagnotta A, McDonald DG<br>2001<br><small>id: 11436134 - tfidf score: 4.892847</small></blockquote>"
      ],
      "text/plain": [
       "<IPython.core.display.HTML object>"
      ]
     },
     "metadata": {},
     "output_type": "display_data"
    },
    {
     "data": {
      "text/html": [
       "<blockquote>A real-time monitoring and assessment method for calculation of total amounts of indoor air pollutants emitted in subway stations<br>Oh T, Kim M, Lim J, Kang O, Shetty KV, ...<br>2012<br><small>id: 22696802 - tfidf score: 4.892847</small></blockquote>"
      ],
      "text/plain": [
       "<IPython.core.display.HTML object>"
      ]
     },
     "metadata": {},
     "output_type": "display_data"
    },
    {
     "data": {
      "text/html": [
       "<blockquote><a href=http://dx.doi.org/10.1080/08958370050085138>Combined respiratory effects of cold air with SO(2) or NO(2) in repeated 10-minute exposures of hyperventilating guinea pigs</a><br>Hälinen AI, Salonen RO, Pennanen AS, Kosma VM<br>2000<br><small>id: 10880151 - tfidf score: 4.892847</small></blockquote>"
      ],
      "text/plain": [
       "<IPython.core.display.HTML object>"
      ]
     },
     "metadata": {},
     "output_type": "display_data"
    },
    {
     "data": {
      "text/html": [
       "<blockquote><a href=http://dx.doi.org/10.1242/jeb.113647>Penguin lungs and air sacs: implications for baroprotection, oxygen stores and buoyancy</a><br>Ponganis PJ, St Leger J, Scadeng M<br>2015<br><small>id: 25740902 - tfidf score: 4.892847</small></blockquote>"
      ],
      "text/plain": [
       "<IPython.core.display.HTML object>"
      ]
     },
     "metadata": {},
     "output_type": "display_data"
    },
    {
     "data": {
      "text/html": [
       "<blockquote>Nordic rattle: the hoarse vocalization and the inflatable laryngeal air sac of reindeer (Rangifer tarandus)<br>Frey R, Gebler A, Fritsch G, Nygrén K, Weissengruber GE<br>2007<br><small>id: 17310544 - tfidf score: 4.892847</small></blockquote>"
      ],
      "text/plain": [
       "<IPython.core.display.HTML object>"
      ]
     },
     "metadata": {},
     "output_type": "display_data"
    },
    {
     "data": {
      "text/html": [
       "<blockquote>Part 1. A time-series study of ambient air pollution and daily mortality in Shanghai, China<br>Kan H, Chen B, Zhao N, London SJ, Song G, ...<br>2010<br><small>id: 21446211 - tfidf score: 4.349198</small></blockquote>"
      ],
      "text/plain": [
       "<IPython.core.display.HTML object>"
      ]
     },
     "metadata": {},
     "output_type": "display_data"
    }
   ],
   "source": [
    "def smarter_or_query(query_string):\n",
    "    return reduce(lambda a, e: a.union(e), [inverted_index[term] for term in smarter_preprocess(smarter_tokenize(query_string))])\n",
    "\n",
    "def query(query_string):\n",
    "    terms = smarter_preprocess(smarter_tokenize(query_string))\n",
    "    papers = sorted([(paper,sum([tfidf(term, paper) for term in terms])) for paper in smarter_or_query(query_string)], key=lambda value: value[1])\n",
    "    for paper in reversed(papers[-10:]):\n",
    "        display_summary(paper[0], ' - tfidf score: %f' % paper[1])\n",
    "query('air sample')"
   ]
  },
  {
   "cell_type": "markdown",
   "metadata": {},
   "source": [
    "* Come up with a few example queries to run, and include the output here. Do the results make sense? Why (not)?"
   ]
  },
  {
   "cell_type": "code",
   "execution_count": 17,
   "metadata": {
    "collapsed": false
   },
   "outputs": [
    {
     "name": "stdout",
     "output_type": "stream",
     "text": [
      "Results of query \"The Who\"\n"
     ]
    },
    {
     "data": {
      "text/html": [
       "<blockquote><a href=http://dx.doi.org/10.1080/08958370490428391>Chronic inhalation toxicity and carcinogenicity study on potassium octatitanate fibers (TISMO) in rats</a><br>Ikegami T, Tanaka A, Taniguchi M, Clark M, Ragan H, ...<br>2004<br><small>id: 15371181 - tfidf score: 22.015767</small></blockquote>"
      ],
      "text/plain": [
       "<IPython.core.display.HTML object>"
      ]
     },
     "metadata": {},
     "output_type": "display_data"
    },
    {
     "data": {
      "text/html": [
       "<blockquote>[Tuberculosis and human rights]<br>Nagai H, Inagaki T, Toyoda E, Kawabe Y, Fujiwara K, ...<br>2005<br><small>id: 15839061 - tfidf score: 19.598573</small></blockquote>"
      ],
      "text/plain": [
       "<IPython.core.display.HTML object>"
      ]
     },
     "metadata": {},
     "output_type": "display_data"
    },
    {
     "data": {
      "text/html": [
       "<blockquote>THE CORRELATION BETWEEN THE HISTOLOGICAL CHANGES AND THE FATE OF LIVING TUBERCLE BACILLI IN THE ORGANS OF TUBERCULOUS RABBITS<br>Lurie MB<br>1932<br><small>id: 19869977 - tfidf score: 16.420709</small></blockquote>"
      ],
      "text/plain": [
       "<IPython.core.display.HTML object>"
      ]
     },
     "metadata": {},
     "output_type": "display_data"
    },
    {
     "data": {
      "text/html": [
       "<blockquote>[Current malaria situation in the Republic of Kazakhstan]<br>Bismil'din FB, Shapieva ZhZh, Anpilova EN<br>2001<br><small>id: 11548308 - tfidf score: 13.311025</small></blockquote>"
      ],
      "text/plain": [
       "<IPython.core.display.HTML object>"
      ]
     },
     "metadata": {},
     "output_type": "display_data"
    },
    {
     "data": {
      "text/html": [
       "<blockquote><a href=http://dx.doi.org/10.1007/s13149-010-0109-1>[Positive impact of a video and TV documentary on attendance of women to catch-up collective vaccinations and reasons for non-attendance]</a><br>Painvin C, Schlumberger M, Chhem DB, Savannarom D, Phong P, ...<br>2011<br><small>id: 21279494 - tfidf score: 13.262717</small></blockquote>"
      ],
      "text/plain": [
       "<IPython.core.display.HTML object>"
      ]
     },
     "metadata": {},
     "output_type": "display_data"
    },
    {
     "data": {
      "text/html": [
       "<blockquote>NTP technical report on the toxicity studies of Dibutyl Phthalate (CAS No. 84-74-2) Administered in Feed to F344/N Rats and B6C3F1 Mice<br>Marsman D<br>1995<br><small>id: 12209194 - tfidf score: 13.078441</small></blockquote>"
      ],
      "text/plain": [
       "<IPython.core.display.HTML object>"
      ]
     },
     "metadata": {},
     "output_type": "display_data"
    },
    {
     "data": {
      "text/html": [
       "<blockquote><a href=http://dx.doi.org/10.2466/pr0.2000.87.3.859>Understanding mail survey response rates among male reserve component Gulf War era veterans</a><br>Schumm WR, Bollman SR, Jurich AP, Castelo C, Sanders D, ...<br>2000<br><small>id: 11191402 - tfidf score: 12.976954</small></blockquote>"
      ],
      "text/plain": [
       "<IPython.core.display.HTML object>"
      ]
     },
     "metadata": {},
     "output_type": "display_data"
    },
    {
     "data": {
      "text/html": [
       "<blockquote>The discovery of phenylketonuria: the story of a young couple, two retarded children, and a scientist<br>Centerwall SA, Centerwall WR<br>2000<br><small>id: 10617710 - tfidf score: 12.967215</small></blockquote>"
      ],
      "text/plain": [
       "<IPython.core.display.HTML object>"
      ]
     },
     "metadata": {},
     "output_type": "display_data"
    },
    {
     "data": {
      "text/html": [
       "<blockquote>Determinants of the knowledge of and attitude towards tuberculosis in Nigeria<br>Agho KE, Hall J, Ewald B<br>2014<br><small>id: 25395915 - tfidf score: 12.172846</small></blockquote>"
      ],
      "text/plain": [
       "<IPython.core.display.HTML object>"
      ]
     },
     "metadata": {},
     "output_type": "display_data"
    },
    {
     "data": {
      "text/html": [
       "<blockquote>Effects of long-term exposure to traffic-related air pollution on respiratory and cardiovascular mortality in the Netherlands: the NLCS-AIR study<br>Brunekreef B, Beelen R, Hoek G, Schouten L, Bausch-Goldbohm S, ...<br>2009<br><small>id: 19554969 - tfidf score: 12.148497</small></blockquote>"
      ],
      "text/plain": [
       "<IPython.core.display.HTML object>"
      ]
     },
     "metadata": {},
     "output_type": "display_data"
    },
    {
     "name": "stdout",
     "output_type": "stream",
     "text": [
      "Results of query \"Air force\"\n"
     ]
    },
    {
     "data": {
      "text/html": [
       "<blockquote><a href=http://dx.doi.org/10.1080/08958370050085147>Combined respiratory effects of cold air with SO(2) or NO(2) in single 1-hour exposures of hyperventilating guinea pigs</a><br>Hälinen AI, Salonen RO, Pennanen AS, Kosma VM<br>2000<br><small>id: 10880152 - tfidf score: 5.980147</small></blockquote>"
      ],
      "text/plain": [
       "<IPython.core.display.HTML object>"
      ]
     },
     "metadata": {},
     "output_type": "display_data"
    },
    {
     "data": {
      "text/html": [
       "<blockquote>Assessing exposure to air toxics relative to asthma<br>Weisel CP<br>2002<br><small>id: 12194882 - tfidf score: 5.436497</small></blockquote>"
      ],
      "text/plain": [
       "<IPython.core.display.HTML object>"
      ]
     },
     "metadata": {},
     "output_type": "display_data"
    },
    {
     "data": {
      "text/html": [
       "<blockquote>[Composting facilities. 2. Aerogenic microorganism content at different working areas of composting facilities]<br>Jager E, Rüden H, Zeschmar-Lahl B<br>1994<br><small>id: 7748441 - tfidf score: 5.164672</small></blockquote>"
      ],
      "text/plain": [
       "<IPython.core.display.HTML object>"
      ]
     },
     "metadata": {},
     "output_type": "display_data"
    },
    {
     "data": {
      "text/html": [
       "<blockquote><a href=http://dx.doi.org/10.1016/j.jconhyd.2014.10.013>Changes in air flow patterns using surfactants and thickeners during air sparging: bench-scale experiments</a><br>Kim J, Kim H, Annable MD<br>2015<br><small>id: 25462638 - tfidf score: 5.164672</small></blockquote>"
      ],
      "text/plain": [
       "<IPython.core.display.HTML object>"
      ]
     },
     "metadata": {},
     "output_type": "display_data"
    },
    {
     "data": {
      "text/html": [
       "<blockquote><a href=http://dx.doi.org/10.1086/322160>Effect of air breathing on acid-base and ion regulation after exhaustive exercise and during low pH exposure in the bowfin, Amia calva</a><br>Gonzalez RJ, Milligan L, Pagnotta A, McDonald DG<br>2001<br><small>id: 11436134 - tfidf score: 4.892847</small></blockquote>"
      ],
      "text/plain": [
       "<IPython.core.display.HTML object>"
      ]
     },
     "metadata": {},
     "output_type": "display_data"
    },
    {
     "data": {
      "text/html": [
       "<blockquote>A real-time monitoring and assessment method for calculation of total amounts of indoor air pollutants emitted in subway stations<br>Oh T, Kim M, Lim J, Kang O, Shetty KV, ...<br>2012<br><small>id: 22696802 - tfidf score: 4.892847</small></blockquote>"
      ],
      "text/plain": [
       "<IPython.core.display.HTML object>"
      ]
     },
     "metadata": {},
     "output_type": "display_data"
    },
    {
     "data": {
      "text/html": [
       "<blockquote><a href=http://dx.doi.org/10.1080/08958370050085138>Combined respiratory effects of cold air with SO(2) or NO(2) in repeated 10-minute exposures of hyperventilating guinea pigs</a><br>Hälinen AI, Salonen RO, Pennanen AS, Kosma VM<br>2000<br><small>id: 10880151 - tfidf score: 4.892847</small></blockquote>"
      ],
      "text/plain": [
       "<IPython.core.display.HTML object>"
      ]
     },
     "metadata": {},
     "output_type": "display_data"
    },
    {
     "data": {
      "text/html": [
       "<blockquote><a href=http://dx.doi.org/10.1242/jeb.113647>Penguin lungs and air sacs: implications for baroprotection, oxygen stores and buoyancy</a><br>Ponganis PJ, St Leger J, Scadeng M<br>2015<br><small>id: 25740902 - tfidf score: 4.892847</small></blockquote>"
      ],
      "text/plain": [
       "<IPython.core.display.HTML object>"
      ]
     },
     "metadata": {},
     "output_type": "display_data"
    },
    {
     "data": {
      "text/html": [
       "<blockquote>Nordic rattle: the hoarse vocalization and the inflatable laryngeal air sac of reindeer (Rangifer tarandus)<br>Frey R, Gebler A, Fritsch G, Nygrén K, Weissengruber GE<br>2007<br><small>id: 17310544 - tfidf score: 4.892847</small></blockquote>"
      ],
      "text/plain": [
       "<IPython.core.display.HTML object>"
      ]
     },
     "metadata": {},
     "output_type": "display_data"
    },
    {
     "data": {
      "text/html": [
       "<blockquote>Part 1. A time-series study of ambient air pollution and daily mortality in Shanghai, China<br>Kan H, Chen B, Zhao N, London SJ, Song G, ...<br>2010<br><small>id: 21446211 - tfidf score: 4.349198</small></blockquote>"
      ],
      "text/plain": [
       "<IPython.core.display.HTML object>"
      ]
     },
     "metadata": {},
     "output_type": "display_data"
    }
   ],
   "source": [
    "print(\"Results of query \\\"The Who\\\"\")\n",
    "query(\"The Who\")\n",
    "\n",
    "print(\"Results of query \\\"Air force\\\"\")\n",
    "query(\"Air force\")"
   ]
  },
  {
   "cell_type": "markdown",
   "metadata": {},
   "source": [
    "These results don't make a lot of sense for the querys, probably because the words themselves can have multiple meanings. Air force as a commando unit or a force applied by air in the field of physics. There probably are no accurate documents present in the database which refer to the band \"The Who\" or the air force."
   ]
  },
  {
   "cell_type": "code",
   "execution_count": null,
   "metadata": {
    "collapsed": true
   },
   "outputs": [],
   "source": []
  }
 ],
 "metadata": {
  "kernelspec": {
   "display_name": "Python 3",
   "language": "python",
   "name": "python3"
  },
  "language_info": {
   "codemirror_mode": {
    "name": "ipython",
    "version": 3
   },
   "file_extension": ".py",
   "mimetype": "text/x-python",
   "name": "python",
   "nbconvert_exporter": "python",
   "pygments_lexer": "ipython3",
   "version": "3.4.3"
  }
 },
 "nbformat": 4,
 "nbformat_minor": 0
}
