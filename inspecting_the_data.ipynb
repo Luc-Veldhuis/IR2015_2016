{
 "metadata": {
  "name": "",
  "signature": "sha256:9913676a4d68a1f1e630bbece072b563ad1c50d87d8ce7bd4b936a535a5e32f0"
 },
 "nbformat": 3,
 "nbformat_minor": 0,
 "worksheets": [
  {
   "cells": [
    {
     "cell_type": "heading",
     "level": 1,
     "metadata": {},
     "source": [
      "Understanding the Pubmed Evolution Paper Dataset"
     ]
    },
    {
     "cell_type": "markdown",
     "metadata": {},
     "source": [
      "Adapted from: Inspecting the dataset - [Lu\u00eds F. Sim\u00f5es](mailto:luis.simoes@vu.nl)  \n",
      "Assignments added by J.E. Hoeksema, 2014-10-16\n",
      "\n",
      "*******"
     ]
    },
    {
     "cell_type": "markdown",
     "metadata": {},
     "source": [
      "This notebook's purpose is to provide a basic illustration of how to handle data in the *\"evolution\"* dataset, as well as to provide some basic assignments about this dataset.\n",
      "\n",
      "Note that you can run all of this code from a normal python or ipython shell, except for certain magic codes (marked with %) used for display within a notebook."
     ]
    },
    {
     "cell_type": "heading",
     "level": 2,
     "metadata": {},
     "source": [
      "Loading the dataset"
     ]
    },
    {
     "cell_type": "code",
     "collapsed": false,
     "input": [
      "search_term = 'evolution'\n",
      "\n",
      "Summaries_file = search_term + '__Summaries.pkl.bz2'"
     ],
     "language": "python",
     "metadata": {},
     "outputs": [],
     "prompt_number": 1
    },
    {
     "cell_type": "code",
     "collapsed": false,
     "input": [
      "import cPickle, bz2\n",
      "\n",
      "Summaries = cPickle.load( bz2.BZ2File( Summaries_file, 'rb' ) )"
     ],
     "language": "python",
     "metadata": {},
     "outputs": [],
     "prompt_number": 2
    },
    {
     "cell_type": "markdown",
     "metadata": {},
     "source": [
      "To make it easier to access the data, we convert here paper entries into [named tuples](http://docs.python.org/2/library/collections.html#collections.namedtuple). This will allow us to refer to fields by keyword, rather than index."
     ]
    },
    {
     "cell_type": "code",
     "collapsed": false,
     "input": [
      "from collections import namedtuple\n",
      "\n",
      "paper = namedtuple( 'paper', ['title', 'authors', 'year', 'doi'] )\n",
      "\n",
      "for (id, paper_info) in Summaries.iteritems():\n",
      "    Summaries[id] = paper( *paper_info )"
     ],
     "language": "python",
     "metadata": {},
     "outputs": [],
     "prompt_number": 3
    },
    {
     "cell_type": "code",
     "collapsed": false,
     "input": [
      "Summaries[23144668]"
     ],
     "language": "python",
     "metadata": {},
     "outputs": [
      {
       "metadata": {},
       "output_type": "pyout",
       "prompt_number": 4,
       "text": [
        "paper(title='Embodied artificial evolution: Artificial evolutionary systems in the 21st Century.', authors=['Eiben AE', 'Kernbach S', 'Haasdijk E'], year=2012, doi='10.1007/s12065-012-0071-x')"
       ]
      }
     ],
     "prompt_number": 4
    },
    {
     "cell_type": "code",
     "collapsed": false,
     "input": [
      "Summaries[23144668].title"
     ],
     "language": "python",
     "metadata": {},
     "outputs": [
      {
       "metadata": {},
       "output_type": "pyout",
       "prompt_number": 5,
       "text": [
        "'Embodied artificial evolution: Artificial evolutionary systems in the 21st Century.'"
       ]
      }
     ],
     "prompt_number": 5
    },
    {
     "cell_type": "heading",
     "level": 2,
     "metadata": {},
     "source": [
      "Dataset statistics"
     ]
    },
    {
     "cell_type": "markdown",
     "metadata": {},
     "source": [
      "Plotting relies on [matplotlib](http://matplotlib.org/), which you can download from [here](http://matplotlib.org/downloads.html) ([NumPy](http://www.numpy.org/) is also required, and can be downloaded [here](http://sourceforge.net/projects/numpy/files/NumPy/1.7.1/))."
     ]
    },
    {
     "cell_type": "code",
     "collapsed": false,
     "input": [
      "import matplotlib.pyplot as plt\n",
      "\n",
      "# show plots inline within the notebook\n",
      "%matplotlib inline\n",
      "# set plots' resolution\n",
      "plt.rcParams['savefig.dpi'] = 100"
     ],
     "language": "python",
     "metadata": {},
     "outputs": [],
     "prompt_number": 6
    },
    {
     "cell_type": "heading",
     "level": 3,
     "metadata": {},
     "source": [
      "Papers per year"
     ]
    },
    {
     "cell_type": "markdown",
     "metadata": {},
     "source": [
      "Here, we will get information on how many papers in the dataset were published per year.\n",
      "\n",
      "We'll be using the [Counter](http://docs.python.org/2/library/collections.html#collections.Counter) class to determine the number of papers per year."
     ]
    },
    {
     "cell_type": "code",
     "collapsed": false,
     "input": [
      "paper_year = [ p.year for p in Summaries.itervalues() ]\n",
      "\n",
      "from collections import Counter\n",
      "\n",
      "papers_per_year = sorted( Counter(paper_year).items() )\n",
      "print 'Number of papers in the dataset per year for the past decade:'\n",
      "print papers_per_year[-10:]"
     ],
     "language": "python",
     "metadata": {},
     "outputs": [
      {
       "output_type": "stream",
       "stream": "stdout",
       "text": [
        "Number of papers in the dataset per year for the past decade:\n",
        "[(2005, 8945), (2006, 9615), (2007, 10332), (2008, 10766), (2009, 11965), (2010, 12256), (2011, 13089), (2012, 14418), (2013, 13735), (2014, 17)]\n"
       ]
      }
     ],
     "prompt_number": 7
    },
    {
     "cell_type": "markdown",
     "metadata": {},
     "source": [
      "Filtering results, to obain only papers since 1950:"
     ]
    },
    {
     "cell_type": "code",
     "collapsed": false,
     "input": [
      "papers_per_year  = [\n",
      "    (y,count)\n",
      "    for (y,count) in papers_per_year\n",
      "    if y >= 1950\n",
      "    ]\n",
      "\n",
      "years     = [ y     for (y,count) in papers_per_year ]\n",
      "nr_papers = [ count for (y,count) in papers_per_year ]\n",
      "\n",
      "print 'Number of papers in the dataset published since 1950: %d.' % sum(nr_papers)"
     ],
     "language": "python",
     "metadata": {},
     "outputs": [
      {
       "output_type": "stream",
       "stream": "stdout",
       "text": [
        "Number of papers in the dataset published since 1950: 204700.\n"
       ]
      }
     ],
     "prompt_number": 8
    },
    {
     "cell_type": "markdown",
     "metadata": {},
     "source": [
      "Creating a bar plot to visualize the results (using [matplotlib.pyplot.bar](http://matplotlib.org/api/pyplot_api.html#matplotlib.pyplot.bar)):"
     ]
    },
    {
     "cell_type": "code",
     "collapsed": false,
     "input": [
      "plt.bar( left=years, height=nr_papers, width=1.0 )\n",
      "\n",
      "plt.xlim(1950,2016)\n",
      "plt.xlabel( 'year' )\n",
      "plt.ylabel( 'number of papers' );"
     ],
     "language": "python",
     "metadata": {},
     "outputs": [
      {
       "metadata": {},
       "output_type": "display_data",
       "png": "[encoded data removed]",
       "text": [
        "<matplotlib.figure.Figure at 0x115e6a890>"
       ]
      }
     ],
     "prompt_number": 9
    },
    {
     "cell_type": "heading",
     "level": 3,
     "metadata": {},
     "source": [
      "Papers per author"
     ]
    },
    {
     "cell_type": "markdown",
     "metadata": {},
     "source": [
      "Here, we will obtain the distribution characterizing the number of papers published by an author."
     ]
    },
    {
     "cell_type": "code",
     "collapsed": false,
     "input": [
      "# flattening out of the list of lists of authors\n",
      "authors_expanded = [\n",
      "    auth\n",
      "    for paper in Summaries.itervalues()\n",
      "    for auth in paper.authors\n",
      "    ]\n",
      "\n",
      "nr_papers_by_author = Counter( authors_expanded )"
     ],
     "language": "python",
     "metadata": {},
     "outputs": [],
     "prompt_number": 10
    },
    {
     "cell_type": "code",
     "collapsed": false,
     "input": [
      "print 'There are %d authors in the dataset with distinct names.\\n' % len(nr_papers_by_author)\n",
      "print '50 authors with greatest number of papers:'\n",
      "print sorted( nr_papers_by_author.items(), key=lambda i:i[1] )[-50:]"
     ],
     "language": "python",
     "metadata": {},
     "outputs": [
      {
       "output_type": "stream",
       "stream": "stdout",
       "text": [
        "There are 424178 authors in the dataset with distinct names.\n",
        "\n",
        "50 authors with greatest number of papers:\n",
        "[('Li S', 128), ('Yang F', 129), ('Wang C', 130), ('Wang Q', 131), ('Yang Z', 133), ('Wang D', 134), ('Filippi M', 134), ('Zhao Y', 135), ('Zhang W', 145), ('Wu J', 145), ('Li W', 148), ('Li WH', 148), ('Yang J', 149), ('Xu J', 150), ('Wang S', 154), ('Li C', 156), ('Holmes EC', 158), ('Chen H', 159), ('Liu H', 160), ('Chen Z', 160), ('Zhang S', 160), ('Yang Y', 161), ('Li Z', 162), ('Li L', 166), ('Wang W', 171), ('Liu Z', 176), ('Chen X', 178), ('Chen L', 192), ('Zhang H', 193), ('Chen J', 197), ('Chen Y', 203), ('Li H', 207), ('Wang Z', 227), ('Zhang Z', 234), ('Liu J', 234), ('Zhang L', 236), ('Wang H', 237), ('Liu X', 245), ('Koonin EV', 258), ('Li X', 269), ('Wang L', 281), ('Zhang X', 308), ('Liu Y', 312), ('Li J', 322), ('Zhang J', 385), ('Wang X', 388), ('Li Y', 421), ('Zhang Y', 439), ('Wang J', 447), ('Wang Y', 493)]"
       ]
      },
      {
       "output_type": "stream",
       "stream": "stdout",
       "text": [
        "\n"
       ]
      }
     ],
     "prompt_number": 11
    },
    {
     "cell_type": "markdown",
     "metadata": {},
     "source": [
      "Creating a histogram to visualize the results (using [matplotlib.pyplot.hist](http://matplotlib.org/api/pyplot_api.html#matplotlib.pyplot.hist)):"
     ]
    },
    {
     "cell_type": "code",
     "collapsed": false,
     "input": [
      "plt.hist( x=nr_papers_by_author.values(), bins=range(51), histtype='step' )\n",
      "plt.yscale('log')\n",
      "plt.xlabel('number of papers authored')\n",
      "plt.ylabel('number of authors');"
     ],
     "language": "python",
     "metadata": {},
     "outputs": [
      {
       "metadata": {},
       "output_type": "display_data",
       "png": "[encoded data removed]",
       "text": [
        "<matplotlib.figure.Figure at 0x1074e4e50>"
       ]
      }
     ],
     "prompt_number": 12
    },
    {
     "cell_type": "heading",
     "level": 3,
     "metadata": {},
     "source": [
      "Authors per paper"
     ]
    },
    {
     "cell_type": "code",
     "collapsed": false,
     "input": [
      "plt.hist( x=[ len(p.authors) for p in Summaries.itervalues() ], bins=range(20), histtype='bar', align='left', normed=True )\n",
      "plt.xlabel('number of authors in one paper')\n",
      "plt.ylabel('fraction of papers')\n",
      "plt.xlim(0,15);"
     ],
     "language": "python",
     "metadata": {},
     "outputs": [
      {
       "metadata": {},
       "output_type": "display_data",
       "png": "[encoded data removed]",
       "text": [
        "<matplotlib.figure.Figure at 0x115e6a1d0>"
       ]
      }
     ],
     "prompt_number": 13
    },
    {
     "cell_type": "heading",
     "level": 3,
     "metadata": {},
     "source": [
      "Most frequently occurring words in paper titles"
     ]
    },
    {
     "cell_type": "code",
     "collapsed": false,
     "input": [
      "# assemble list of words in paper titles, convert them to lowercase, and remove eventual trailing '.'\n",
      "title_words = Counter([\n",
      "    ( word if word[-1]!='.' else word[:-1] ).lower()\n",
      "    for paper in Summaries.itervalues()\n",
      "    for word in paper.title.split(' ')\n",
      "    if word != ''     # the split by spaces generates empty strings when consecutive spaces occur in the title; this discards them\n",
      "    ])"
     ],
     "language": "python",
     "metadata": {},
     "outputs": [],
     "prompt_number": 14
    },
    {
     "cell_type": "code",
     "collapsed": false,
     "input": [
      "print len(title_words), 'distinct words occur in the paper titles.\\n'\n",
      "print '50 most frequently occurring words:'\n",
      "print sorted( title_words.items(), key=lambda i:i[1] )[-50:]"
     ],
     "language": "python",
     "metadata": {},
     "outputs": [
      {
       "output_type": "stream",
       "stream": "stdout",
       "text": [
        "173567 distinct words occur in the paper titles.\n",
        "\n",
        "50 most frequently occurring words:\n",
        "[('evidence', 2772), ('species', 2883), ('system', 2896), ('case', 2899), ('selection', 3049), ('after', 3266), ('sequence', 3285), ('using', 3435), ('genome', 3460), ('role', 3473), ('expression', 3476), ('structure', 3562), ('virus', 3575), ('development', 3581), ('its', 3621), ('at', 3691), ('model', 3760), ('disease', 3806), ('dna', 3840), ('treatment', 3843), ('cell', 3930), ('between', 4012), ('is', 4040), ('clinical', 4069), ('new', 4453), ('genetic', 4524), ('as', 4791), ('patients', 4846), ('genes', 5206), ('protein', 5334), ('evolutionary', 5375), ('during', 5712), ('study', 6564), ('molecular', 6615), ('analysis', 7444), ('human', 7567), ('gene', 9413), ('an', 10208), ('by', 12108), ('from', 13426), ('on', 15139), ('with', 18920), ('to', 19582), ('for', 23210), ('a', 47248), ('evolution', 56638), ('in', 102207), ('and', 102717), ('the', 115120), ('of', 191677)]"
       ]
      },
      {
       "output_type": "stream",
       "stream": "stdout",
       "text": [
        "\n"
       ]
      }
     ],
     "prompt_number": 15
    },
    {
     "cell_type": "heading",
     "level": 1,
     "metadata": {},
     "source": [
      "Assignments"
     ]
    },
    {
     "cell_type": "markdown",
     "metadata": {},
     "source": [
      "* Create a plot that shows how many authors published at least one paper for each year after 1950  \n",
      "  Hint: use a *defaultdict* with a default value of *set*. You can retrieve the number of unique items in a set `s` with `len(s)`. See also the documentation for [*set*](https://docs.python.org/2/library/stdtypes.html#set-types-set-frozenset) and [*defaultdict*](https://docs.python.org/2/library/collections.html#collections.defaultdict)"
     ]
    },
    {
     "cell_type": "markdown",
     "metadata": {},
     "source": [
      "* Calculate and plot (e.g. using [plt.plot](http://matplotlib.org/api/pyplot_api.html#matplotlib.pyplot.plot)) a graph of the frequency of the 100 most frequent words in titles of papers, from most frequent to least frequent. \n",
      "<!--* Is this result what you expected given Zipf's Law? Why (not)?-->\n",
      "* While keeping in mind that we are dealing with a biased (preselected) dataset about evolution-related papers, do you notice a trend in the top 10 most frequent words?"
     ]
    },
    {
     "cell_type": "markdown",
     "metadata": {},
     "source": [
      "* Please provide the answers to the assignment, together with the Python code used to answer them, through Blackboard. This can be either a modified version of this Notebook file with your answers included; or a PDF with graphs and code listings."
     ]
    }
   ],
   "metadata": {}
  }
 ]
}