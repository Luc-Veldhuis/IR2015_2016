{
 "cells": [
  {
   "cell_type": "markdown",
   "metadata": {},
   "source": [
    "# Building the dataset of research papers"
   ]
  },
  {
   "cell_type": "markdown",
   "metadata": {},
   "source": [
    "_(Adapted from: Building the \"evolution\" research papers dataset - [Luís F. Simões](mailto:luis.simoes@vu.nl). Converted to Python 3 and minor changes by Tobias Kuhn, 2015-10-22.)_\n",
    "\n",
    "*******"
   ]
  },
  {
   "cell_type": "markdown",
   "metadata": {},
   "source": [
    "The [Entrez](http://biopython.org/DIST/docs/api/Bio.Entrez-module.html) module, a part of the [Biopython](http://biopython.org/) library, will be used to interface with [PubMed](http://www.ncbi.nlm.nih.gov/pubmed).<br>\n",
    "You can download Biopython from [here](http://biopython.org/wiki/Download).\n",
    "\n",
    "In this notebook we will be covering several of the steps taken in the [Biopython Tutorial](http://biopython.org/DIST/docs/tutorial/Tutorial.html), specifically in [Chapter 9  Accessing NCBI’s Entrez databases](http://biopython.org/DIST/docs/tutorial/Tutorial.html#htoc109)."
   ]
  },
  {
   "cell_type": "code",
   "execution_count": 1,
   "metadata": {
    "collapsed": false
   },
   "outputs": [],
   "source": [
    "from Bio import Entrez\n",
    "\n",
    "# NCBI requires you to set your email address to make use of NCBI's E-utilities\n",
    "Entrez.email = \"Your.Name.Here@example.org\""
   ]
  },
  {
   "cell_type": "markdown",
   "metadata": {},
   "source": [
    "The datasets will be saved as serialized Python objects, compressed with bzip2.\n",
    "Saving/loading them will therefore require the [pickle](http://docs.python.org/3/library/pickle.html) and [bz2](http://docs.python.org/3/library/bz2.html) modules."
   ]
  },
  {
   "cell_type": "code",
   "execution_count": 2,
   "metadata": {
    "collapsed": false
   },
   "outputs": [],
   "source": [
    "import pickle, bz2, os"
   ]
  },
  {
   "cell_type": "markdown",
   "metadata": {},
   "source": [
    "## EInfo: Obtaining information about the Entrez databases"
   ]
  },
  {
   "cell_type": "code",
   "execution_count": 3,
   "metadata": {
    "collapsed": false
   },
   "outputs": [],
   "source": [
    "# accessing extended information about the PubMed database\n",
    "pubmed = Entrez.read( Entrez.einfo(db=\"pubmed\"), validate=False )[u'DbInfo']\n",
    "\n",
    "# list of possible search fields for use with ESearch:\n",
    "search_fields = { f['Name']:f['Description'] for f in pubmed[\"FieldList\"] }"
   ]
  },
  {
   "cell_type": "markdown",
   "metadata": {},
   "source": [
    "In search_fields, we find 'TIAB' ('Free text associated with Abstract/Title') as a possible search field to use in searches."
   ]
  },
  {
   "cell_type": "code",
   "execution_count": 4,
   "metadata": {
    "collapsed": false
   },
   "outputs": [
    {
     "data": {
      "text/plain": [
       "{'AFFL': \"Author's institutional affiliation and address\",\n",
       " 'ALL': 'All terms from all searchable fields',\n",
       " 'AUCL': 'Author Cluster ID',\n",
       " 'AUID': 'Author Identifier',\n",
       " 'AUTH': 'Author(s) of publication',\n",
       " 'BOOK': 'ID of the book that contains the document',\n",
       " 'CDAT': 'Date of completion',\n",
       " 'CNTY': 'Country of publication',\n",
       " 'COLN': 'Corporate Author of publication',\n",
       " 'CRDT': 'Date publication first accessible through Entrez',\n",
       " 'DSO': 'Additional text from the summary',\n",
       " 'ECNO': 'EC number for enzyme or CAS registry number',\n",
       " 'ED': \"Section's Editor\",\n",
       " 'EDAT': 'Date publication first accessible through Entrez',\n",
       " 'EID': 'Extended PMID',\n",
       " 'EPDT': 'Date of Electronic publication',\n",
       " 'FAUT': 'First Author of publication',\n",
       " 'FILT': 'Limits the records',\n",
       " 'FINV': 'Full name of investigator',\n",
       " 'FULL': 'Full Author Name(s) of publication',\n",
       " 'GRNT': 'NIH Grant Numbers',\n",
       " 'INVR': 'Investigator',\n",
       " 'ISBN': 'ISBN',\n",
       " 'ISS': 'Issue number of publication',\n",
       " 'JOUR': 'Journal abbreviation of publication',\n",
       " 'LANG': 'Language of publication',\n",
       " 'LAUT': 'Last Author of publication',\n",
       " 'LID': 'ELocation ID',\n",
       " 'MAJR': 'MeSH terms of major importance to publication',\n",
       " 'MDAT': 'Date of last modification',\n",
       " 'MESH': 'Medical Subject Headings assigned to publication',\n",
       " 'MHDA': 'Date publication was indexed with MeSH terms',\n",
       " 'OTRM': 'Other terms associated with publication',\n",
       " 'PAGE': 'Page number(s) of publication',\n",
       " 'PAPX': 'MeSH pharmacological action pre-explosions',\n",
       " 'PDAT': 'Date of publication',\n",
       " 'PID': 'Publisher ID',\n",
       " 'PPDT': 'Date of print publication',\n",
       " 'PS': 'Personal Name as Subject',\n",
       " 'PTYP': 'Type of publication (e.g., review)',\n",
       " 'PUBN': \"Publisher's name\",\n",
       " 'SI': 'Cross-reference from publication to other databases',\n",
       " 'SUBH': 'Additional specificity for MeSH term',\n",
       " 'SUBS': 'CAS chemical name or MEDLINE Substance Name',\n",
       " 'TIAB': 'Free text associated with Abstract/Title',\n",
       " 'TITL': 'Words in title of publication',\n",
       " 'TT': 'Words in transliterated title of publication',\n",
       " 'UID': 'Unique number assigned to publication',\n",
       " 'VOL': 'Volume number of publication',\n",
       " 'WORD': 'Free text associated with publication'}"
      ]
     },
     "execution_count": 4,
     "metadata": {},
     "output_type": "execute_result"
    }
   ],
   "source": [
    "search_fields"
   ]
  },
  {
   "cell_type": "markdown",
   "metadata": {},
   "source": [
    "## ESearch: Searching the Entrez databases"
   ]
  },
  {
   "cell_type": "markdown",
   "metadata": {},
   "source": [
    "To have a look at the kind of data we get when searching the database, we'll perform a search for papers authored by Haasdijk:"
   ]
  },
  {
   "cell_type": "code",
   "execution_count": 5,
   "metadata": {
    "collapsed": false
   },
   "outputs": [
    {
     "data": {
      "text/plain": [
       "{'RetMax': '20', 'IdList': ['24977986', '24901702', '24852945', '24708899', '24252306', '23580075', '23144668', '22174697', '22154920', '21870131', '21760539', '20662596', '20602234', '20386726', '18579581', '18305242', '17913916', '17804640', '17686042', '17183535'], 'TranslationStack': [{'Term': 'Haasdijk E[Author]', 'Field': 'Author', 'Count': '30', 'Explode': 'N'}, 'GROUP'], 'Count': '30', 'TranslationSet': [], 'RetStart': '0', 'QueryTranslation': 'Haasdijk E[Author]'}"
      ]
     },
     "execution_count": 5,
     "metadata": {},
     "output_type": "execute_result"
    }
   ],
   "source": [
    "example_authors = ['Haasdijk E']\n",
    "example_search = Entrez.read( Entrez.esearch( db=\"pubmed\", term=' AND '.join([a+'[AUTH]' for a in example_authors]) ) )\n",
    "example_search"
   ]
  },
  {
   "cell_type": "markdown",
   "metadata": {},
   "source": [
    "Note how the result being produced is not in Python's native string format:"
   ]
  },
  {
   "cell_type": "code",
   "execution_count": 6,
   "metadata": {
    "collapsed": false
   },
   "outputs": [
    {
     "data": {
      "text/plain": [
       "Bio.Entrez.Parser.StringElement"
      ]
     },
     "execution_count": 6,
     "metadata": {},
     "output_type": "execute_result"
    }
   ],
   "source": [
    "type( example_search['IdList'][0] )"
   ]
  },
  {
   "cell_type": "markdown",
   "metadata": {},
   "source": [
    "The part of the query's result we are most interested in is accessible through"
   ]
  },
  {
   "cell_type": "code",
   "execution_count": 7,
   "metadata": {
    "collapsed": false
   },
   "outputs": [
    {
     "name": "stdout",
     "output_type": "stream",
     "text": [
      "[24977986, 24901702, 24852945, 24708899, 24252306, 23580075, 23144668, 22174697, 22154920, 21870131, 21760539, 20662596, 20602234, 20386726, 18579581, 18305242, 17913916, 17804640, 17686042, 17183535]\n"
     ]
    }
   ],
   "source": [
    "example_ids = [ int(id) for id in example_search['IdList'] ]\n",
    "print(example_ids)"
   ]
  },
  {
   "cell_type": "markdown",
   "metadata": {},
   "source": [
    "### PubMed IDs dataset"
   ]
  },
  {
   "cell_type": "markdown",
   "metadata": {},
   "source": [
    "We will now assemble a dataset comprised of research articles containing the keyword \"evolution\", in either their titles or abstracts."
   ]
  },
  {
   "cell_type": "code",
   "execution_count": 8,
   "metadata": {
    "collapsed": false
   },
   "outputs": [],
   "source": [
    "search_term = 'air'"
   ]
  },
  {
   "cell_type": "code",
   "execution_count": 9,
   "metadata": {
    "collapsed": false
   },
   "outputs": [],
   "source": [
    "Ids_file = 'data/' + search_term + '__Ids.pkl.bz2'"
   ]
  },
  {
   "cell_type": "code",
   "execution_count": 10,
   "metadata": {
    "collapsed": false
   },
   "outputs": [
    {
     "name": "stdout",
     "output_type": "stream",
     "text": [
      "Fetching IDs of results [0,10000]\n",
      "Fetching IDs of results [10000,20000]\n",
      "Fetching IDs of results [20000,30000]\n",
      "Fetching IDs of results [30000,40000]\n",
      "Fetching IDs of results [40000,50000]\n",
      "Fetching IDs of results [50000,60000]\n",
      "Fetching IDs of results [60000,70000]\n",
      "Fetching IDs of results [70000,80000]\n",
      "Fetching IDs of results [80000,90000]\n",
      "Fetching IDs of results [90000,100000]\n",
      "Fetching IDs of results [100000,110000]\n",
      "Fetching IDs of results [110000,120000]\n",
      "Fetching IDs of results [120000,130000]\n",
      "Fetching IDs of results [130000,140000]\n",
      "Fetching IDs of results [140000,150000]\n",
      "Fetching IDs of results [150000,160000]\n",
      "Fetching IDs of results [160000,170000]\n",
      "Fetching IDs of results [170000,180000]\n",
      "Fetching IDs of results [180000,190000]\n",
      "Fetching IDs of results [190000,200000]\n",
      "190555 documents contain the search term \"air\".\n"
     ]
    }
   ],
   "source": [
    "if os.path.exists( Ids_file ):\n",
    "    Ids = cPickle.load( bz2.BZ2File( Ids_file, 'rb' ) )\n",
    "else:\n",
    "    # determine the number of hits for the search term\n",
    "    search = Entrez.read( Entrez.esearch( db=\"pubmed\", term=search_term+'[TIAB]', retmax=0 ) )\n",
    "    total = int( search['Count'] )\n",
    "    \n",
    "    # `Ids` will be incrementally assembled, by performing multiple queries,\n",
    "    # each returning at most `retrieve_per_query` entries.\n",
    "    Ids_str = []\n",
    "    retrieve_per_query = 10000\n",
    "    \n",
    "    for start in range( 0, total, retrieve_per_query ):\n",
    "        print('Fetching IDs of results [%d,%d]' % ( start, start+retrieve_per_query ) )\n",
    "        s = Entrez.read( Entrez.esearch( db=\"pubmed\", term=search_term+'[TIAB]', retstart=start, retmax=retrieve_per_query ) )\n",
    "        Ids_str.extend( s[ u'IdList' ] )\n",
    "    \n",
    "    # convert Ids to integers (and ensure that the conversion is reversible)\n",
    "    Ids = [ int(id) for id in Ids_str ]\n",
    "    \n",
    "    for (id_str, id_int) in zip(Ids_str, Ids):\n",
    "        if str(id_int) != id_str:\n",
    "            raise Exception('Conversion of PubMed ID %s from string to integer it not reversible.' % id_str )\n",
    "    \n",
    "    # Save list of Ids\n",
    "    pickle.dump( Ids, bz2.BZ2File( Ids_file, 'wb' ) )\n",
    "    \n",
    "total = len( Ids )\n",
    "print('%d documents contain the search term \"%s\".' % ( total, search_term ) )"
   ]
  },
  {
   "cell_type": "markdown",
   "metadata": {},
   "source": [
    "Taking a look at what we just retrieved, here are the last 5 elements of the `Ids` list:"
   ]
  },
  {
   "cell_type": "code",
   "execution_count": 11,
   "metadata": {
    "collapsed": false
   },
   "outputs": [
    {
     "data": {
      "text/plain": [
       "[26489032, 26489005, 26488732, 26488527, 26488458]"
      ]
     },
     "execution_count": 11,
     "metadata": {},
     "output_type": "execute_result"
    }
   ],
   "source": [
    "Ids[:5]"
   ]
  },
  {
   "cell_type": "markdown",
   "metadata": {},
   "source": [
    "## ESummary: Retrieving summaries from primary IDs"
   ]
  },
  {
   "cell_type": "markdown",
   "metadata": {},
   "source": [
    "To have a look at the kind of metadata we get from a call to `Entrez.esummary()`, we now fetch the summary of one of Haasdijk's papers (using one of the PubMed IDs we obtained in the previous section:"
   ]
  },
  {
   "cell_type": "code",
   "execution_count": 12,
   "metadata": {
    "collapsed": false
   },
   "outputs": [
    {
     "name": "stdout",
     "output_type": "stream",
     "text": [
      "EPubDate\n",
      "\t 2012 Apr 20\n",
      "PubTypeList\n",
      "\t ['Journal Article']\n",
      "AuthorList\n",
      "\t ['Eiben AE', 'Kernbach S', 'Haasdijk E']\n",
      "LastAuthor\n",
      "\t Haasdijk E\n",
      "Item\n",
      "\t []\n",
      "ArticleIds\n",
      "\t {'eid': '23144668', 'pmc': 'PMC3490067', 'medline': [], 'pii': '71', 'pubmed': ['23144668'], 'pmcid': 'pmc-id: PMC3490067;', 'doi': '10.1007/s12065-012-0071-x', 'rid': '23144668'}\n",
      "SO\n",
      "\t 2012 Dec;5(4):261-272\n",
      "FullJournalName\n",
      "\t Evolutionary intelligence\n",
      "HasAbstract\n",
      "\t 1\n",
      "Pages\n",
      "\t 261-272\n",
      "Title\n",
      "\t Embodied artificial evolution: Artificial evolutionary systems in the 21st Century.\n",
      "Issue\n",
      "\t 4\n",
      "Volume\n",
      "\t 5\n",
      "History\n",
      "\t {'epublish': '2012/04/20 00:00', 'accepted': '2012/03/22 00:00', 'medline': ['2012/11/13 06:00'], 'pubmed': ['2012/11/13 06:00'], 'entrez': '2012/11/13 06:00', 'revised': '2012/02/17 00:00', 'received': '2011/11/28 00:00'}\n",
      "Source\n",
      "\t Evol Intell\n",
      "RecordStatus\n",
      "\t PubMed\n",
      "PubStatus\n",
      "\t ppublish+epublish\n",
      "PubDate\n",
      "\t 2012 Dec\n",
      "LangList\n",
      "\t ['English']\n",
      "ELocationID\n",
      "\t \n",
      "ESSN\n",
      "\t 1864-5917\n",
      "DOI\n",
      "\t 10.1007/s12065-012-0071-x\n",
      "ISSN\n",
      "\t 1864-5909\n",
      "NlmUniqueID\n",
      "\t 101475575\n",
      "Id\n",
      "\t 23144668\n",
      "References\n",
      "\t []\n",
      "PmcRefCount\n",
      "\t 2\n"
     ]
    }
   ],
   "source": [
    "example_paper = Entrez.read( Entrez.esummary(db=\"pubmed\", id='23144668') )[0]\n",
    "\n",
    "def print_dict( p ):\n",
    "    for k,v in p.items():\n",
    "        print(k)\n",
    "        print('\\t', v)\n",
    "\n",
    "print_dict(example_paper)"
   ]
  },
  {
   "cell_type": "markdown",
   "metadata": {},
   "source": [
    "For now, we'll keep just some basic information for each paper: title, list of authors, publication year, and [DOI](https://en.wikipedia.org/wiki/Digital_object_identifier).\n",
    "\n",
    "In case you are not familiar with the DOI system, know that the paper above can be accessed through the link [http://dx.doi.org/10.1007/s12065-012-0071-x](http://dx.doi.org/10.1007/s12065-012-0071-x) (which is `http://dx.doi.org/` followed by the paper's DOI)."
   ]
  },
  {
   "cell_type": "code",
   "execution_count": 13,
   "metadata": {
    "collapsed": false
   },
   "outputs": [
    {
     "data": {
      "text/plain": [
       "('Embodied artificial evolution: Artificial evolutionary systems in the 21st Century.',\n",
       " ['Eiben AE', 'Kernbach S', 'Haasdijk E'],\n",
       " 2012,\n",
       " '10.1007/s12065-012-0071-x')"
      ]
     },
     "execution_count": 13,
     "metadata": {},
     "output_type": "execute_result"
    }
   ],
   "source": [
    "( example_paper['Title'], example_paper['AuthorList'], int(example_paper['PubDate'][:4]), example_paper['DOI'] )"
   ]
  },
  {
   "cell_type": "markdown",
   "metadata": {},
   "source": [
    "### Summaries dataset"
   ]
  },
  {
   "cell_type": "markdown",
   "metadata": {},
   "source": [
    "We are now ready to assemble a dataset containing the summaries of all the paper `Ids` we previously fetched.\n",
    "\n",
    "To reduce the memory footprint, and to ensure the saved datasets won't depend on Biopython being installed to be properly loaded, values returned by `Entrez.read()` will be converted to their corresponding native Python types. We start by defining a function for helping with the conversion of strings:"
   ]
  },
  {
   "cell_type": "code",
   "execution_count": 14,
   "metadata": {
    "collapsed": false
   },
   "outputs": [],
   "source": [
    "Summaries_file = 'data/' + search_term + '__Summaries.pkl.bz2'"
   ]
  },
  {
   "cell_type": "code",
   "execution_count": 15,
   "metadata": {
    "collapsed": false
   },
   "outputs": [
    {
     "name": "stdout",
     "output_type": "stream",
     "text": [
      "Fetching Summaries of results: \n",
      "\n",
      "0...................\n",
      "10000...................\n",
      "20000...................\n",
      "30000...................\n",
      "40000...................\n",
      "50000...................\n",
      "60000...................\n",
      "70000...................\n",
      "80000...................\n",
      "90000...................\n",
      "100000...................\n",
      "110000...................\n",
      "120000...................\n",
      "130000...................\n",
      "140000...................\n",
      "150000...................\n",
      "160000...................\n",
      "170000...................\n",
      "180000...................\n",
      "190000."
     ]
    }
   ],
   "source": [
    "if os.path.exists( Summaries_file ):\n",
    "    Summaries = cPickle.load( bz2.BZ2File( Summaries_file, 'rb' ) )\n",
    "else:\n",
    "    # `Summaries` will be incrementally assembled, by performing multiple queries,\n",
    "    # each returning at most `retrieve_per_query` entries.\n",
    "    Summaries = []\n",
    "    retrieve_per_query = 500\n",
    "    \n",
    "    print('Fetching Summaries of results: ')\n",
    "    for start in range( 0, len(Ids), retrieve_per_query ):\n",
    "        if (start % 10000 == 0):\n",
    "            print('')\n",
    "            print(start, end='')\n",
    "        else:\n",
    "            print('.', end='')\n",
    "        \n",
    "        # build comma separated string with the ids at indexes [start, start+retrieve_per_query)\n",
    "        query_ids = ','.join( [ str(id) for id in Ids[ start : start+retrieve_per_query ] ] )\n",
    "        \n",
    "        s = Entrez.read( Entrez.esummary( db=\"pubmed\", id=query_ids ) )\n",
    "        \n",
    "        # out of the retrieved data, we will keep only a tuple (title, authors, year, DOI), associated with the paper's id.\n",
    "        # (all values converted to native Python formats)\n",
    "        f = [\n",
    "            ( int( p['Id'] ), (\n",
    "                str( p['Title'] ),\n",
    "                [ str(a) for a in p['AuthorList'] ],\n",
    "                int( p['PubDate'][:4] ),                # keeps just the publication year\n",
    "                str( p.get('DOI', '') )            # papers for which no DOI is available get an empty string in their place\n",
    "                ) )\n",
    "            for p in s\n",
    "            ]\n",
    "        Summaries.extend( f )\n",
    "    \n",
    "    # Save Summaries, as a dictionary indexed by Ids\n",
    "    Summaries = dict( Summaries )\n",
    "    \n",
    "    pickle.dump( Summaries, bz2.BZ2File( Summaries_file, 'wb' ) )"
   ]
  },
  {
   "cell_type": "markdown",
   "metadata": {},
   "source": [
    "Let us take a look at the first 3 retrieved summaries:"
   ]
  },
  {
   "cell_type": "code",
   "execution_count": 16,
   "metadata": {
    "collapsed": false
   },
   "outputs": [
    {
     "data": {
      "text/plain": [
       "{26488732: ('Use of Whole-Genome Sequencing to Link Burkholderia pseudomallei from Air Sampling to Mediastinal Melioidosis, Australia.',\n",
       "  ['Currie BJ',\n",
       "   'Price EP',\n",
       "   'Mayo M',\n",
       "   'Kaestli M',\n",
       "   'Theobald V',\n",
       "   'Harrington I',\n",
       "   'Harrington G',\n",
       "   'Sarovich DS'],\n",
       "  2015,\n",
       "  '10.3201/eid2111.141802'),\n",
       " 26489005: ('A simple chemical solution deposition of Co3O4 thin film electrocatalyst for oxygen evolution reaction.',\n",
       "  ['Jeon HS', 'Jee MS', 'Kim H', 'Ahn SJ', 'Hwang YJ', 'Min BK'],\n",
       "  2015,\n",
       "  '10.1021/acsami.5b06189'),\n",
       " 26489032: ('The Occurrence of Beer Spoilage Lactic Acid Bacteria in Craft Beer Production.',\n",
       "  ['Garofalo C',\n",
       "   'Osimani A',\n",
       "   'Milanović V',\n",
       "   'Taccari M',\n",
       "   'Aquilanti L',\n",
       "   'Clementi F'],\n",
       "  2015,\n",
       "  '10.1111/1750-3841.13112')}"
      ]
     },
     "execution_count": 16,
     "metadata": {},
     "output_type": "execute_result"
    }
   ],
   "source": [
    "{ id : Summaries[id] for id in Ids[:3] }"
   ]
  },
  {
   "cell_type": "markdown",
   "metadata": {},
   "source": [
    "## EFetch: Downloading full records from Entrez"
   ]
  },
  {
   "cell_type": "markdown",
   "metadata": {},
   "source": [
    "`Entrez.efetch()` is the function that will allow us to obtain paper abstracts. Let us start by taking a look at the kind of data it returns when we query PubMed's database."
   ]
  },
  {
   "cell_type": "code",
   "execution_count": 17,
   "metadata": {
    "collapsed": false
   },
   "outputs": [],
   "source": [
    "q = Entrez.read( Entrez.efetch(db=\"pubmed\", id='23144668', retmode=\"xml\") )"
   ]
  },
  {
   "cell_type": "markdown",
   "metadata": {},
   "source": [
    "`q` is a list, with each member corresponding to a queried id. Because here we only queried for one id, its results are then in `q[0]`."
   ]
  },
  {
   "cell_type": "code",
   "execution_count": 18,
   "metadata": {
    "collapsed": false
   },
   "outputs": [
    {
     "data": {
      "text/plain": [
       "(Bio.Entrez.Parser.ListElement, 1)"
      ]
     },
     "execution_count": 18,
     "metadata": {},
     "output_type": "execute_result"
    }
   ],
   "source": [
    "type(q), len(q)"
   ]
  },
  {
   "cell_type": "markdown",
   "metadata": {},
   "source": [
    "At `q[0]` we find a dictionary containing two keys, the contents of which we print below."
   ]
  },
  {
   "cell_type": "code",
   "execution_count": 19,
   "metadata": {
    "collapsed": false
   },
   "outputs": [
    {
     "data": {
      "text/plain": [
       "(Bio.Entrez.Parser.DictionaryElement,\n",
       " dict_keys(['MedlineCitation', 'PubmedData']))"
      ]
     },
     "execution_count": 19,
     "metadata": {},
     "output_type": "execute_result"
    }
   ],
   "source": [
    "type(q[0]), q[0].keys()"
   ]
  },
  {
   "cell_type": "code",
   "execution_count": 20,
   "metadata": {
    "collapsed": false
   },
   "outputs": [
    {
     "name": "stdout",
     "output_type": "stream",
     "text": [
      "PublicationStatus\n",
      "\t ppublish\n",
      "History\n",
      "\t [DictElement({'Year': '2011', 'Month': '11', 'Day': '28'}, attributes={'PubStatus': 'received'}), DictElement({'Year': '2012', 'Month': '2', 'Day': '17'}, attributes={'PubStatus': 'revised'}), DictElement({'Year': '2012', 'Month': '3', 'Day': '22'}, attributes={'PubStatus': 'accepted'}), DictElement({'Year': '2012', 'Month': '4', 'Day': '20'}, attributes={'PubStatus': 'epublish'}), DictElement({'Hour': '6', 'Year': '2012', 'Minute': '0', 'Month': '11', 'Day': '13'}, attributes={'PubStatus': 'entrez'}), DictElement({'Hour': '6', 'Year': '2012', 'Minute': '0', 'Month': '11', 'Day': '13'}, attributes={'PubStatus': 'pubmed'}), DictElement({'Hour': '6', 'Year': '2012', 'Minute': '0', 'Month': '11', 'Day': '13'}, attributes={'PubStatus': 'medline'})]\n",
      "ArticleIdList\n",
      "\t [StringElement('10.1007/s12065-012-0071-x', attributes={'IdType': 'doi'}), StringElement('71', attributes={'IdType': 'pii'}), StringElement('23144668', attributes={'IdType': 'pubmed'}), StringElement('PMC3490067', attributes={'IdType': 'pmc'})]\n"
     ]
    }
   ],
   "source": [
    "print_dict( q[0][ 'PubmedData' ] )"
   ]
  },
  {
   "cell_type": "markdown",
   "metadata": {},
   "source": [
    "The key `'MedlineCitation'` maps into another dictionary. In that dictionary, most of the information is contained under the key `'Article'`. To minimize the clutter, below we show the contents of `'MedlineCitation'` excluding its `'Article'` member, and below that we then show the contents of `'Article'`."
   ]
  },
  {
   "cell_type": "code",
   "execution_count": 21,
   "metadata": {
    "collapsed": false
   },
   "outputs": [
    {
     "name": "stdout",
     "output_type": "stream",
     "text": [
      "OtherAbstract\n",
      "\t []\n",
      "PMID\n",
      "\t 23144668\n",
      "GeneralNote\n",
      "\t []\n",
      "KeywordList\n",
      "\t []\n",
      "MedlineJournalInfo\n",
      "\t {'MedlineTA': 'Evol Intell', 'NlmUniqueID': '101475575', 'ISSNLinking': '1864-5909'}\n",
      "CitationSubset\n",
      "\t []\n",
      "OtherID\n",
      "\t []\n",
      "DateCreated\n",
      "\t {'Year': '2012', 'Month': '11', 'Day': '12'}\n",
      "SpaceFlightMission\n",
      "\t []\n"
     ]
    }
   ],
   "source": [
    "print_dict( { k:v for k,v in q[0][ 'MedlineCitation' ].items() if k!='Article' } )"
   ]
  },
  {
   "cell_type": "code",
   "execution_count": 22,
   "metadata": {
    "collapsed": false
   },
   "outputs": [
    {
     "name": "stdout",
     "output_type": "stream",
     "text": [
      "AuthorList\n",
      "\t ListElement([DictElement({'AffiliationInfo': [{'Identifier': [], 'Affiliation': 'VU University Amsterdam, Amsterdam, The Netherlands.'}], 'LastName': 'Eiben', 'Initials': 'AE', 'Identifier': [], 'ForeName': 'A E'}, attributes={'ValidYN': 'Y'}), DictElement({'AffiliationInfo': [], 'LastName': 'Kernbach', 'Initials': 'S', 'Identifier': [], 'ForeName': 'S'}, attributes={'ValidYN': 'Y'}), DictElement({'AffiliationInfo': [], 'LastName': 'Haasdijk', 'Initials': 'E', 'Identifier': [], 'ForeName': 'Evert'}, attributes={'ValidYN': 'Y'})], attributes={'Type': 'authors', 'CompleteYN': 'Y'})\n",
      "ArticleTitle\n",
      "\t Embodied artificial evolution: Artificial evolutionary systems in the 21st Century.\n",
      "Journal\n",
      "\t {'JournalIssue': DictElement({'Issue': '4', 'Volume': '5', 'PubDate': {'Year': '2012', 'Month': 'Dec'}}, attributes={'CitedMedium': 'Print'}), 'Title': 'Evolutionary intelligence', 'ISOAbbreviation': 'Evol Intell', 'ISSN': StringElement('1864-5909', attributes={'IssnType': 'Print'})}\n",
      "ArticleDate\n",
      "\t [DictElement({'Year': '2012', 'Month': '4', 'Day': '20'}, attributes={'DateType': 'Electronic'})]\n",
      "PublicationTypeList\n",
      "\t [StringElement('JOURNAL ARTICLE', attributes={'UI': ''})]\n",
      "Abstract\n",
      "\t {'AbstractText': ['Evolution is one of the major omnipresent powers in the universe that has been studied for about two centuries. Recent scientific and technical developments make it possible to make the transition from passively understanding to actively using evolutionary processes. Today this is possible in Evolutionary Computing, where human experimenters can design and manipulate all components of evolutionary processes in digital spaces. We argue that in the near future it will be possible to implement artificial evolutionary processes outside such imaginary spaces and make them physically embodied. In other words, we envision the \"Evolution of Things\", rather than just the evolution of digital objects, leading to a new field of Embodied Artificial Evolution (EAE). The main objective of this paper is to present a unifying vision in order to aid the development of this high potential research area. To this end, we introduce the notion of EAE, discuss a few examples and applications, and elaborate on the expected benefits as well as the grand challenges this developing field will have to address.']}\n",
      "Language\n",
      "\t ['ENG']\n",
      "ELocationID\n",
      "\t []\n",
      "Pagination\n",
      "\t {'MedlinePgn': '261-272'}\n"
     ]
    }
   ],
   "source": [
    "print_dict( q[0][ 'MedlineCitation' ][ 'Article' ] )"
   ]
  },
  {
   "cell_type": "markdown",
   "metadata": {},
   "source": [
    "A paper's abstract can therefore be accessed with:"
   ]
  },
  {
   "cell_type": "code",
   "execution_count": 23,
   "metadata": {
    "collapsed": false
   },
   "outputs": [
    {
     "data": {
      "text/plain": [
       "{23144668: 'Evolution is one of the major omnipresent powers in the universe that has been studied for about two centuries. Recent scientific and technical developments make it possible to make the transition from passively understanding to actively using evolutionary processes. Today this is possible in Evolutionary Computing, where human experimenters can design and manipulate all components of evolutionary processes in digital spaces. We argue that in the near future it will be possible to implement artificial evolutionary processes outside such imaginary spaces and make them physically embodied. In other words, we envision the \"Evolution of Things\", rather than just the evolution of digital objects, leading to a new field of Embodied Artificial Evolution (EAE). The main objective of this paper is to present a unifying vision in order to aid the development of this high potential research area. To this end, we introduce the notion of EAE, discuss a few examples and applications, and elaborate on the expected benefits as well as the grand challenges this developing field will have to address.'}"
      ]
     },
     "execution_count": 23,
     "metadata": {},
     "output_type": "execute_result"
    }
   ],
   "source": [
    "{ int(q[0]['MedlineCitation']['PMID']) : str(q[0]['MedlineCitation']['Article']['Abstract']['AbstractText'][0]) }"
   ]
  },
  {
   "cell_type": "markdown",
   "metadata": {},
   "source": [
    "A paper for which no abstract is available will simply not contain the `'Abstract'` key in its `'Article'` dictionary:"
   ]
  },
  {
   "cell_type": "code",
   "execution_count": 24,
   "metadata": {
    "collapsed": false
   },
   "outputs": [
    {
     "name": "stdout",
     "output_type": "stream",
     "text": [
      "ArticleTitle\n",
      "\t EVOLUTION OF LOCOMOTIVES IN AMERICA.\n",
      "Journal\n",
      "\t {'JournalIssue': DictElement({'Issue': '3', 'Volume': '1', 'PubDate': {'Year': '1880', 'Month': 'Jul', 'Day': '17'}}, attributes={'CitedMedium': 'Print'}), 'Title': 'Science (New York, N.Y.)', 'ISOAbbreviation': 'Science', 'ISSN': StringElement('0036-8075', attributes={'IssnType': 'Print'})}\n",
      "ArticleDate\n",
      "\t []\n",
      "PublicationTypeList\n",
      "\t [StringElement('Journal Article', attributes={'UI': 'D016428'})]\n",
      "Language\n",
      "\t ['eng']\n",
      "ELocationID\n",
      "\t []\n",
      "Pagination\n",
      "\t {'MedlinePgn': '35'}\n"
     ]
    }
   ],
   "source": [
    "print_dict( Entrez.read( Entrez.efetch(db=\"pubmed\", id='17782550', retmode=\"xml\") )[0]['MedlineCitation']['Article'] )"
   ]
  },
  {
   "cell_type": "markdown",
   "metadata": {},
   "source": [
    "Some of the ids in our dataset refer to books from the [NCBI Bookshelf](http://www.ncbi.nlm.nih.gov/books/), a collection of freely available, downloadable, on-line versions of selected biomedical books. For such ids, `Entrez.efetch()` returns a slightly different structure, where the keys `[u'BookDocument', u'PubmedBookData']` take the place of the `[u'MedlineCitation', u'PubmedData']` keys we saw above.\n",
    "\n",
    "Here is an example of the data we obtain for the id corresponding to the book [The Social Biology of Microbial Communities](http://www.ncbi.nlm.nih.gov/books/NBK114831/):"
   ]
  },
  {
   "cell_type": "code",
   "execution_count": 25,
   "metadata": {
    "collapsed": false
   },
   "outputs": [],
   "source": [
    "r = Entrez.read( Entrez.efetch(db=\"pubmed\", id='24027805', retmode=\"xml\") )"
   ]
  },
  {
   "cell_type": "code",
   "execution_count": 26,
   "metadata": {
    "collapsed": false
   },
   "outputs": [
    {
     "name": "stdout",
     "output_type": "stream",
     "text": [
      "PublicationStatus\n",
      "\t ppublish\n",
      "History\n",
      "\t [DictElement({'Hour': '6', 'Year': '2013', 'Minute': '0', 'Month': '9', 'Day': '13'}, attributes={'PubStatus': 'pubmed'}), DictElement({'Hour': '6', 'Year': '2013', 'Minute': '0', 'Month': '9', 'Day': '13'}, attributes={'PubStatus': 'medline'}), DictElement({'Hour': '6', 'Year': '2013', 'Minute': '0', 'Month': '9', 'Day': '13'}, attributes={'PubStatus': 'entrez'})]\n",
      "ArticleIdList\n",
      "\t [StringElement('24027805', attributes={'IdType': 'pubmed'})]\n"
     ]
    }
   ],
   "source": [
    "print_dict( r[0][ 'PubmedBookData' ] )"
   ]
  },
  {
   "cell_type": "code",
   "execution_count": 27,
   "metadata": {
    "collapsed": false
   },
   "outputs": [
    {
     "name": "stdout",
     "output_type": "stream",
     "text": [
      "KeywordList\n",
      "\t []\n",
      "AuthorList\n",
      "\t []\n",
      "PMID\n",
      "\t 24027805\n",
      "Book\n",
      "\t {'AuthorList': [ListElement([DictElement({'AffiliationInfo': [], 'Identifier': [], 'CollectiveName': 'Institute of Medicine (US) Forum on Microbial Threats'}, attributes={'ValidYN': 'Y'})], attributes={'Type': 'authors', 'CompleteYN': 'Y'})], 'BookTitle': StringElement('The Social Biology of Microbial Communities: Workshop Summary', attributes={'book': 'nap13500'}), 'CollectionTitle': StringElement('The National Academies Collection: Reports funded by National Institutes of Health', attributes={'book': 'napcollect'}), 'Isbn': ['9780309264327', '0309264324'], 'PubDate': {'Year': '2012'}, 'ELocationID': [], 'Publisher': {'PublisherName': 'National Academies Press (US)', 'PublisherLocation': 'Washington (DC)'}}\n",
      "Sections\n",
      "\t [{'Section': [], 'SectionTitle': StringElement('THE NATIONAL ACADEMIES', attributes={'book': 'nap13500', 'part': 'fm.s1'})}, {'Section': [], 'SectionTitle': StringElement('PLANNING COMMITTEE FOR A WORKSHOP ON THE MICROBIOME IN HEALTH AND DISEASE', attributes={'book': 'nap13500', 'part': 'fm.s2'})}, {'Section': [], 'SectionTitle': StringElement('FORUM ON MICROBIAL THREATS', attributes={'book': 'nap13500', 'part': 'fm.s3'})}, {'Section': [], 'SectionTitle': StringElement('BOARD ON GLOBAL HEALTH', attributes={'book': 'nap13500', 'part': 'fm.s5'})}, {'Section': [], 'SectionTitle': StringElement('Reviewers', attributes={'book': 'nap13500', 'part': 'fm.s7'})}, {'Section': [], 'SectionTitle': StringElement('Acknowledgments', attributes={'book': 'nap13500', 'part': 'fm.ack'})}, {'Section': [], 'SectionTitle': StringElement('Workshop Overview', attributes={'book': 'nap13500', 'part': 'workshop'})}, {'Section': [], 'SectionTitle': StringElement('Appendixes', attributes={'book': 'nap13500', 'part': 'nap13500.appgroup1'})}]\n",
      "PublicationType\n",
      "\t []\n",
      "LocationLabel\n",
      "\t []\n",
      "ItemList\n",
      "\t []\n",
      "Language\n",
      "\t ['eng']\n",
      "ArticleIdList\n",
      "\t [StringElement('NBK114831', attributes={'IdType': 'bookaccession'})]\n",
      "Abstract\n",
      "\t {'AbstractText': ['On March 6 and 7, 2012, the Institute of Medicine’s (IOM’s) Forum on Microbial Threats hosted a public workshop to explore the emerging science of the “social biology” of microbial communities. Workshop presentations and discussions embraced a wide spectrum of topics, experimental systems, and theoretical perspectives representative of the current, multifaceted exploration of the microbial frontier. Participants discussed ecological, evolutionary, and genetic factors contributing to the assembly, function, and stability of microbial communities; how microbial communities adapt and respond to environmental stimuli; theoretical and experimental approaches to advance this nascent field; and potential applications of knowledge gained from the study of microbial communities for the improvement of human, animal, plant, and ecosystem health and toward a deeper understanding of microbial diversity and evolution.'], 'CopyrightInformation': 'Copyright © 2012, National Academy of Sciences.'}\n"
     ]
    }
   ],
   "source": [
    "print_dict( r[0][ 'BookDocument' ] )"
   ]
  },
  {
   "cell_type": "markdown",
   "metadata": {},
   "source": [
    "In a book from the NCBI Bookshelf, its abstract can then be accessed as such:"
   ]
  },
  {
   "cell_type": "code",
   "execution_count": 28,
   "metadata": {
    "collapsed": false
   },
   "outputs": [
    {
     "data": {
      "text/plain": [
       "{24027805: 'On March 6 and 7, 2012, the Institute of Medicine’s (IOM’s) Forum on Microbial Threats hosted a public workshop to explore the emerging science of the “social biology” of microbial communities. Workshop presentations and discussions embraced a wide spectrum of topics, experimental systems, and theoretical perspectives representative of the current, multifaceted exploration of the microbial frontier. Participants discussed ecological, evolutionary, and genetic factors contributing to the assembly, function, and stability of microbial communities; how microbial communities adapt and respond to environmental stimuli; theoretical and experimental approaches to advance this nascent field; and potential applications of knowledge gained from the study of microbial communities for the improvement of human, animal, plant, and ecosystem health and toward a deeper understanding of microbial diversity and evolution.'}"
      ]
     },
     "execution_count": 28,
     "metadata": {},
     "output_type": "execute_result"
    }
   ],
   "source": [
    "{ int(r[0]['BookDocument']['PMID']) : str(r[0]['BookDocument']['Abstract']['AbstractText'][0]) }"
   ]
  },
  {
   "cell_type": "markdown",
   "metadata": {},
   "source": [
    "### Abstracts dataset"
   ]
  },
  {
   "cell_type": "markdown",
   "metadata": {},
   "source": [
    "We can now assemble a dataset mapping paper ids to their abstracts."
   ]
  },
  {
   "cell_type": "code",
   "execution_count": 29,
   "metadata": {
    "collapsed": false
   },
   "outputs": [],
   "source": [
    "Abstracts_file = 'data/' + search_term + '__Abstracts.pkl.bz2'"
   ]
  },
  {
   "cell_type": "code",
   "execution_count": 42,
   "metadata": {
    "collapsed": false
   },
   "outputs": [],
   "source": [
    "import http.client\n",
    "from collections import deque\n",
    "\n",
    "if os.path.exists( Abstracts_file ):\n",
    "    Abstracts = pickle.load( bz2.BZ2File( Abstracts_file, 'rb' ) )\n",
    "else:\n",
    "    # `Abstracts` will be incrementally assembled, by performing multiple queries,\n",
    "    # each returning at most `retrieve_per_query` entries.\n",
    "    Abstracts = deque()\n",
    "    retrieve_per_query = 500\n",
    "    \n",
    "    print('Fetching Abstracts of results: ')\n",
    "    for start in range( 0, len(Ids), retrieve_per_query ):\n",
    "        if (start % 10000 == 0):\n",
    "            print('')\n",
    "            print(start, end='')\n",
    "        else:\n",
    "            print('.', end='')\n",
    "        \n",
    "        # build comma separated string with the ids at indexes [start, start+retrieve_per_query)\n",
    "        query_ids = ','.join( [ str(id) for id in Ids[ start : start+retrieve_per_query ] ] )\n",
    "        \n",
    "        # issue requests to the server, until we get the full amount of data we expect\n",
    "        while True:\n",
    "            try:\n",
    "                s = Entrez.read( Entrez.efetch(db=\"pubmed\", id=query_ids, retmode=\"xml\" ) )\n",
    "            except http.client.IncompleteRead:\n",
    "                print('r', end='')\n",
    "                continue\n",
    "            break\n",
    "        \n",
    "        i = 0\n",
    "        for p in s:\n",
    "            abstr = ''\n",
    "            if 'MedlineCitation' in p:\n",
    "                pmid = p['MedlineCitation']['PMID']\n",
    "                if 'Abstract' in p['MedlineCitation']['Article']:\n",
    "                    abstr = p['MedlineCitation']['Article']['Abstract']['AbstractText'][0]\n",
    "            elif 'BookDocument' in p:\n",
    "                pmid = p['BookDocument']['PMID']\n",
    "                if 'Abstract' in p['BookDocument']:\n",
    "                    abstr = p['BookDocument']['Abstract']['AbstractText'][0]\n",
    "            else:\n",
    "                raise Exception('Unrecognized record type, for id %d (keys: %s)' % (Ids[start+i], str(p.keys())) )\n",
    "            \n",
    "            Abstracts.append( (int(pmid), str(abstr)) )\n",
    "            i += 1\n",
    "    \n",
    "    # Save Abstracts, as a dictionary indexed by Ids\n",
    "    Abstracts = dict( Abstracts )\n",
    "    \n",
    "    pickle.dump( Abstracts, bz2.BZ2File( Abstracts_file, 'wb' ) )"
   ]
  },
  {
   "cell_type": "markdown",
   "metadata": {},
   "source": [
    "Taking a look at one paper's abstract:"
   ]
  },
  {
   "cell_type": "code",
   "execution_count": 31,
   "metadata": {
    "collapsed": false
   },
   "outputs": [
    {
     "data": {
      "text/plain": [
       "'The frequency with which melioidosis results from inhalation rather than percutaneous inoculation or ingestion is unknown. We recovered Burkholderia pseudomallei from air samples at the residence of a patient with presumptive inhalational melioidosis and used whole-genome sequencing to link the environmental bacteria to B. pseudomallei recovered from the patient.'"
      ]
     },
     "execution_count": 31,
     "metadata": {},
     "output_type": "execute_result"
    }
   ],
   "source": [
    "Abstracts[26488732]"
   ]
  },
  {
   "cell_type": "markdown",
   "metadata": {},
   "source": [
    "## ELink: Searching for related items in NCBI Entrez"
   ]
  },
  {
   "cell_type": "markdown",
   "metadata": {},
   "source": [
    "To understand how to obtain paper citations with Entrez, we will first assemble a small set of PubMed IDs, and then query for their citations.\n",
    "To that end, we search here for papers published in the [PLOS Computational Biology](http://www.ploscompbiol.org/) journal (as before, having also the word \"air\" in either the title or abstract):"
   ]
  },
  {
   "cell_type": "code",
   "execution_count": 32,
   "metadata": {
    "collapsed": false
   },
   "outputs": [
    {
     "data": {
      "text/plain": [
       "['24853675', '23737742', '23209398', '22383866', '20865052', '19300479']"
      ]
     },
     "execution_count": 32,
     "metadata": {},
     "output_type": "execute_result"
    }
   ],
   "source": [
    "CA_search_term = search_term+'[TIAB] AND PLoS computational biology[JOUR]'\n",
    "CA_ids = Entrez.read( Entrez.esearch( db=\"pubmed\", term=CA_search_term ) )['IdList']\n",
    "CA_ids"
   ]
  },
  {
   "cell_type": "code",
   "execution_count": 33,
   "metadata": {
    "collapsed": false
   },
   "outputs": [
    {
     "data": {
      "text/plain": [
       "{'19300479': ('Computational model of the insect pheromone transduction cascade.',\n",
       "  ['Gu Y', 'Lucas P', 'Rospars JP'],\n",
       "  '2009',\n",
       "  'PLoS computational biology',\n",
       "  '10.1371/journal.pcbi.1000321'),\n",
       " '20865052': ('Reverse engineering of oxygen transport in the lung: adaptation to changing demands and resources through space-filling networks.',\n",
       "  ['Hou C', 'Gheorghiu S', 'Huxley VH', 'Pfeifer P'],\n",
       "  '2010',\n",
       "  'PLoS computational biology',\n",
       "  '10.1371/journal.pcbi.1000902'),\n",
       " '22383866': ('A cell-based computational modeling approach for developing site-directed molecular probes.',\n",
       "  ['Yu JY', 'Zheng N', 'Mane G', 'Min KA', 'Hinestroza JP', 'Zhu H', 'Stringer KA', 'Rosania GR'],\n",
       "  '2012',\n",
       "  'PLoS computational biology',\n",
       "  '10.1371/journal.pcbi.1002378'),\n",
       " '23209398': ('Experimental studies and dynamics modeling analysis of the swimming and diving of whirligig beetles (Coleoptera: Gyrinidae).',\n",
       "  ['Xu Z', 'Lenaghan SC', 'Reese BE', 'Jia X', 'Zhang M'],\n",
       "  '2012',\n",
       "  'PLoS computational biology',\n",
       "  '10.1371/journal.pcbi.1002792'),\n",
       " '23737742': ('A mechanical design principle for tissue structure and function in the airway tree.',\n",
       "  ['LaPrad AS', 'Lutchen KR', 'Suki B'],\n",
       "  '2013',\n",
       "  'PLoS computational biology',\n",
       "  '10.1371/journal.pcbi.1003083'),\n",
       " '24853675': ('Evolution of pathogen specialisation in a host metapopulation: joint effects of host and pathogen dispersal.',\n",
       "  ['Papaïx J', 'Burdon JJ', 'Lannou C', 'Thrall PH'],\n",
       "  '2014',\n",
       "  'PLoS computational biology',\n",
       "  '10.1371/journal.pcbi.1003633')}"
      ]
     },
     "execution_count": 33,
     "metadata": {},
     "output_type": "execute_result"
    }
   ],
   "source": [
    "CA_summ = {\n",
    "    p['Id'] : ( p['Title'], p['AuthorList'], p['PubDate'][:4], p['FullJournalName'], p.get('DOI', '') )\n",
    "    for p in Entrez.read( Entrez.esummary(db=\"pubmed\", id=','.join( CA_ids )) )\n",
    "    }\n",
    "CA_summ"
   ]
  },
  {
   "cell_type": "markdown",
   "metadata": {},
   "source": [
    "Because we restricted our search to papers in an open-access journal, you can then follow their DOIs to freely access their PDFs at the journal's website:<br>[10.1371/journal.pcbi.0040023](http://dx.doi.org/10.1371/journal.pcbi.0040023), [10.1371/journal.pcbi.1000948](http://dx.doi.org/10.1371/journal.pcbi.1000948), [10.1371/journal.pcbi.1002236](http://dx.doi.org/10.1371/journal.pcbi.1002236)."
   ]
  },
  {
   "cell_type": "markdown",
   "metadata": {},
   "source": [
    "We will now issue calls to `Entrez.elink()` using these PubMed IDs, to retrieve the IDs of papers that cite them.\n",
    "The database from which the IDs will be retrieved is [PubMed Central](http://www.ncbi.nlm.nih.gov/pmc/), a free digital database of full-text scientific literature in the biomedical and life sciences.\n",
    "\n",
    "You can, for instance, find [archived here](http://www.ncbi.nlm.nih.gov/pmc/articles/PMC2951343/), with the PubMed Central ID 2951343, the paper \"Critical dynamics in the evolution of stochastic strategies for the iterated prisoner's dilemma\", which as we saw above, has the PubMed ID 20949101.\n",
    "\n",
    "A complete list of the kinds of links you can retrieve with `Entrez.elink()` can be found [here](http://eutils.ncbi.nlm.nih.gov/entrez/query/static/entrezlinks.html)."
   ]
  },
  {
   "cell_type": "code",
   "execution_count": 34,
   "metadata": {
    "collapsed": false
   },
   "outputs": [
    {
     "data": {
      "text/plain": [
       "[{'LinkSetDb': [{'Link': [{'Id': '4408149'}, {'Id': '4105914'}], 'LinkName': 'pubmed_pmc_refs', 'DbTo': 'pmc'}], 'LinkSetDbHistory': [], 'ERROR': [], 'IdList': ['24853675'], 'DbFrom': 'pubmed'}]"
      ]
     },
     "execution_count": 34,
     "metadata": {},
     "output_type": "execute_result"
    }
   ],
   "source": [
    "CA_citing = {\n",
    "    id : Entrez.read( Entrez.elink(\n",
    "            cmd = \"neighbor\",               # ELink command mode: \"neighbor\", returns\n",
    "                                            #     a set of UIDs in `db` linked to the input UIDs in `dbfrom`.\n",
    "            dbfrom = \"pubmed\",              # Database containing the input UIDs: PubMed\n",
    "            db = \"pmc\",                     # Database from which to retrieve UIDs: PubMed Central\n",
    "            LinkName = \"pubmed_pmc_refs\",   # Name of the Entrez link to retrieve: \"pubmed_pmc_refs\", gets\n",
    "                                            #     \"Full-text articles in the PubMed Central Database that cite the current articles\"\n",
    "            from_uid = id                   # input UIDs\n",
    "            ) )\n",
    "    for id in CA_ids\n",
    "    }\n",
    "\n",
    "CA_citing['24853675']"
   ]
  },
  {
   "cell_type": "markdown",
   "metadata": {},
   "source": [
    "We have in `CA_citing[paper_id][0]['LinkSetDb'][0]['Link']` the list of papers citing `paper_id`. To get it as just a list of ids, we can do"
   ]
  },
  {
   "cell_type": "code",
   "execution_count": 35,
   "metadata": {
    "collapsed": false
   },
   "outputs": [
    {
     "data": {
      "text/plain": [
       "['4408149', '4105914']"
      ]
     },
     "execution_count": 35,
     "metadata": {},
     "output_type": "execute_result"
    }
   ],
   "source": [
    "cits = [ l['Id'] for l in CA_citing['24853675'][0]['LinkSetDb'][0]['Link'] ]\n",
    "cits"
   ]
  },
  {
   "cell_type": "markdown",
   "metadata": {},
   "source": [
    "However, one more step is needed, as what we have now are PubMed Central IDs, and not PubMed IDs. Their conversion can be achieved through an additional call to `Entrez.elink()`:"
   ]
  },
  {
   "cell_type": "code",
   "execution_count": 36,
   "metadata": {
    "collapsed": false
   },
   "outputs": [
    {
     "data": {
      "text/plain": [
       "[{'LinkSetDb': [{'Link': [{'Id': '25926883'}, {'Id': '25067946'}], 'LinkName': 'pmc_pubmed', 'DbTo': 'pubmed'}], 'LinkSetDbHistory': [], 'ERROR': [], 'IdList': ['4105914', '4408149'], 'DbFrom': 'pmc'}]"
      ]
     },
     "execution_count": 36,
     "metadata": {},
     "output_type": "execute_result"
    }
   ],
   "source": [
    "cits_pm = Entrez.read( Entrez.elink( dbfrom=\"pmc\", db=\"pubmed\", LinkName=\"pmc_pubmed\", from_uid=\",\".join(cits)) )\n",
    "cits_pm"
   ]
  },
  {
   "cell_type": "code",
   "execution_count": 37,
   "metadata": {
    "collapsed": false
   },
   "outputs": [
    {
     "data": {
      "text/plain": [
       "{'4105914': '25926883', '4408149': '25067946'}"
      ]
     },
     "execution_count": 37,
     "metadata": {},
     "output_type": "execute_result"
    }
   ],
   "source": [
    "ids_map = { pmc_id : link['Id'] for (pmc_id,link) in zip(cits_pm[0]['IdList'], cits_pm[0]['LinkSetDb'][0]['Link']) }\n",
    "ids_map"
   ]
  },
  {
   "cell_type": "markdown",
   "metadata": {},
   "source": [
    "And to check these papers:"
   ]
  },
  {
   "cell_type": "code",
   "execution_count": 38,
   "metadata": {
    "collapsed": false
   },
   "outputs": [
    {
     "data": {
      "text/plain": [
       "{'25067946': ('Guiding deployment of resistance in cereals using evolutionary principles.',\n",
       "  ['Burdon JJ', 'Barrett LG', 'Rebetzke G', 'Thrall PH'],\n",
       "  '2014',\n",
       "  'Evolutionary applications',\n",
       "  '10.1111/eva.12175'),\n",
       " '25926883': ('Crop pathogen emergence and evolution in agro-ecological landscapes.',\n",
       "  ['Papaïx J', 'Burdon JJ', 'Zhan J', 'Thrall PH'],\n",
       "  '2015',\n",
       "  'Evolutionary applications',\n",
       "  '10.1111/eva.12251')}"
      ]
     },
     "execution_count": 38,
     "metadata": {},
     "output_type": "execute_result"
    }
   ],
   "source": [
    "{   p['Id'] : ( p['Title'], p['AuthorList'], p['PubDate'][:4], p['FullJournalName'], p.get('DOI', '') )\n",
    "    for p in Entrez.read( Entrez.esummary(db=\"pubmed\", id=','.join( ids_map.values() )) )\n",
    "    }"
   ]
  },
  {
   "cell_type": "markdown",
   "metadata": {},
   "source": [
    "### Citations dataset"
   ]
  },
  {
   "cell_type": "markdown",
   "metadata": {},
   "source": [
    "We have now seen all the steps required to assemble a dataset of citations to each of the papers in our dataset."
   ]
  },
  {
   "cell_type": "code",
   "execution_count": 39,
   "metadata": {
    "collapsed": false
   },
   "outputs": [],
   "source": [
    "Citations_file = 'data/' + search_term + '__Citations.pkl.bz2'\n",
    "Citations = []"
   ]
  },
  {
   "cell_type": "markdown",
   "metadata": {},
   "source": [
    "At least one server query will be issued per paper in `Ids`. Because NCBI allows for at most 3 queries per second (see [here](http://biopython.org/DIST/docs/api/Bio.Entrez-pysrc.html#_open)), this dataset will take a long time to assemble. Should you need to interrupt it for some reason, or the connection fail at some point, it is safe to just rerun the cell below until all data is collected."
   ]
  },
  {
   "cell_type": "code",
   "execution_count": null,
   "metadata": {
    "collapsed": false
   },
   "outputs": [
    {
     "name": "stdout",
     "output_type": "stream",
     "text": [
      "...........\tsaving at checkpoint 38113\n",
      "..................\n",
      "40000............................."
     ]
    }
   ],
   "source": [
    "import http.client\n",
    "\n",
    "if Citations == [] and os.path.exists( Citations_file ):\n",
    "    Citations = pickle.load( bz2.BZ2File( Citations_file, 'rb' ) )\n",
    "\n",
    "if len(Citations) < len(Ids):\n",
    "    \n",
    "    i = len(Citations)\n",
    "    checkpoint = len(Ids) / 10 + 1      # save to hard drive at every 10% of Ids fetched\n",
    "    \n",
    "    for pm_id in Ids[i:]:               # either starts from index 0, or resumes from where we previously left off\n",
    "        \n",
    "        while True:\n",
    "            try:\n",
    "                # query for papers archived in PubMed Central that cite the paper with PubMed ID `pm_id`\n",
    "                c = Entrez.read( Entrez.elink( dbfrom = \"pubmed\", db=\"pmc\", LinkName = \"pubmed_pmc_refs\", id=str(pm_id) ) )\n",
    "                \n",
    "                c = c[0]['LinkSetDb']\n",
    "                if len(c) == 0:\n",
    "                    # no citations found for the current paper\n",
    "                    c = []\n",
    "                else:\n",
    "                    c = [ l['Id'] for l in c[0]['Link'] ]\n",
    "                    \n",
    "                    # convert citations from PubMed Central IDs to PubMed IDs\n",
    "                    p = []\n",
    "                    retrieve_per_query = 500\n",
    "                    for start in range( 0, len(c), retrieve_per_query ):\n",
    "                        query_ids = ','.join( c[start : start+retrieve_per_query] )\n",
    "                        r = Entrez.read( Entrez.elink( dbfrom=\"pmc\", db=\"pubmed\", LinkName=\"pmc_pubmed\", from_uid=query_ids ) )\n",
    "                        # select the IDs. If no matching PubMed ID was found, [] is returned instead\n",
    "                        p.extend( [] if r[0]['LinkSetDb']==[] else [ int(link['Id']) for link in r[0]['LinkSetDb'][0]['Link'] ] )\n",
    "                    c = p\n",
    "            \n",
    "            except http.client.BadStatusLine:\n",
    "                # Presumably, the server closed the connection before sending a valid response. Retry until we have the data.\n",
    "                print('r')\n",
    "                continue\n",
    "            break\n",
    "        \n",
    "        Citations.append( (pm_id, c) )\n",
    "        if (i % 10000 == 0):\n",
    "            print('')\n",
    "            print(i, end='')\n",
    "        if (i % 100 == 0):\n",
    "            print('.', end='')\n",
    "        i += 1\n",
    "        \n",
    "        if i % checkpoint == 0:\n",
    "            print('\\tsaving at checkpoint', i)\n",
    "            pickle.dump( Citations, bz2.BZ2File( Citations_file, 'wb' ) )\n",
    "    \n",
    "    print('\\n done.')\n",
    "    \n",
    "    # Save Citations, as a dictionary indexed by Ids\n",
    "    Citations = dict( Citations )\n",
    "    \n",
    "    pickle.dump( Citations, bz2.BZ2File( Citations_file, 'wb' ) )"
   ]
  },
  {
   "cell_type": "markdown",
   "metadata": {},
   "source": [
    "To see that we have indeed obtained the data we expected, you can match the ids below (citations to the paper \"Critical dynamics in the evolution of stochastic strategies for the iterated prisoner's dilemma\"), with the ids listed at the end of last section."
   ]
  },
  {
   "cell_type": "code",
   "execution_count": null,
   "metadata": {
    "collapsed": false
   },
   "outputs": [],
   "source": [
    "Citations[26488732]"
   ]
  },
  {
   "cell_type": "markdown",
   "metadata": {},
   "source": [
    "## Where do we go from here?"
   ]
  },
  {
   "cell_type": "markdown",
   "metadata": {},
   "source": [
    "Running the code above generates multiple local files, containing the datasets we'll be working with. Loading them into memory is a matter of just issuing a call like<br>\n",
    "``data = pickle.load( bz2.BZ2File( data_file, 'rb' ) )``.\n",
    "\n",
    "The Entrez module will therefore no longer be needed, unless you wish to extend your data processing with additional information retrieved from PubMed.\n",
    "\n",
    "Should you be interested in looking at alternative ways to handle the data, have a look at the [sqlite3](http://docs.python.org/3/library/sqlite3.html) module included in Python's standard library, or [Pandas](http://pandas.pydata.org/), the Python Data Analysis Library."
   ]
  }
 ],
 "metadata": {
  "kernelspec": {
   "display_name": "Python 3",
   "language": "python",
   "name": "python3"
  },
  "language_info": {
   "codemirror_mode": {
    "name": "ipython",
    "version": 3
   },
   "file_extension": ".py",
   "mimetype": "text/x-python",
   "name": "python",
   "nbconvert_exporter": "python",
   "pygments_lexer": "ipython3",
   "version": "3.4.3"
  }
 },
 "nbformat": 4,
 "nbformat_minor": 0
}
