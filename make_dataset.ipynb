{
 "cells": [
  {
   "cell_type": "markdown",
   "metadata": {},
   "source": [
    "# Building the dataset of research papers"
   ]
  },
  {
   "cell_type": "markdown",
   "metadata": {},
   "source": [
    "_(Adapted from: Building the \"evolution\" research papers dataset - [Luís F. Simões](mailto:luis.simoes@vu.nl). Converted to Python 3 and minor changes by Tobias Kuhn, 2015-10-22.)_\n",
    "\n",
    "*******"
   ]
  },
  {
   "cell_type": "markdown",
   "metadata": {},
   "source": [
    "The [Entrez](http://biopython.org/DIST/docs/api/Bio.Entrez-module.html) module, a part of the [Biopython](http://biopython.org/) library, will be used to interface with [PubMed](http://www.ncbi.nlm.nih.gov/pubmed).<br>\n",
    "You can download Biopython from [here](http://biopython.org/wiki/Download).\n",
    "\n",
    "In this notebook we will be covering several of the steps taken in the [Biopython Tutorial](http://biopython.org/DIST/docs/tutorial/Tutorial.html), specifically in [Chapter 9  Accessing NCBI’s Entrez databases](http://biopython.org/DIST/docs/tutorial/Tutorial.html#htoc109)."
   ]
  },
  {
   "cell_type": "code",
   "execution_count": 2,
   "metadata": {
    "collapsed": false
   },
   "outputs": [],
   "source": [
    "from Bio import Entrez\n",
    "\n",
    "# NCBI requires you to set your email address to make use of NCBI's E-utilities\n",
    "Entrez.email = \"Your.Name.Here@example.org\""
   ]
  },
  {
   "cell_type": "markdown",
   "metadata": {},
   "source": [
    "The datasets will be saved as serialized Python objects, compressed with bzip2.\n",
    "Saving/loading them will therefore require the [pickle](http://docs.python.org/3/library/pickle.html) and [bz2](http://docs.python.org/3/library/bz2.html) modules."
   ]
  },
  {
   "cell_type": "code",
   "execution_count": 3,
   "metadata": {
    "collapsed": false
   },
   "outputs": [],
   "source": [
    "import pickle, bz2, os"
   ]
  },
  {
   "cell_type": "markdown",
   "metadata": {},
   "source": [
    "## EInfo: Obtaining information about the Entrez databases"
   ]
  },
  {
   "cell_type": "code",
   "execution_count": 4,
   "metadata": {
    "collapsed": false
   },
   "outputs": [],
   "source": [
    "# accessing extended information about the PubMed database\n",
    "pubmed = Entrez.read( Entrez.einfo(db=\"pubmed\"), validate=False )[u'DbInfo']\n",
    "\n",
    "# list of possible search fields for use with ESearch:\n",
    "search_fields = { f['Name']:f['Description'] for f in pubmed[\"FieldList\"] }"
   ]
  },
  {
   "cell_type": "markdown",
   "metadata": {},
   "source": [
    "In search_fields, we find 'TIAB' ('Free text associated with Abstract/Title') as a possible search field to use in searches."
   ]
  },
  {
   "cell_type": "code",
   "execution_count": 5,
   "metadata": {
    "collapsed": false
   },
   "outputs": [
    {
     "data": {
      "text/plain": [
       "{'AFFL': \"Author's institutional affiliation and address\",\n",
       " 'ALL': 'All terms from all searchable fields',\n",
       " 'AUCL': 'Author Cluster ID',\n",
       " 'AUID': 'Author Identifier',\n",
       " 'AUTH': 'Author(s) of publication',\n",
       " 'BOOK': 'ID of the book that contains the document',\n",
       " 'CDAT': 'Date of completion',\n",
       " 'CNTY': 'Country of publication',\n",
       " 'COLN': 'Corporate Author of publication',\n",
       " 'CRDT': 'Date publication first accessible through Entrez',\n",
       " 'DSO': 'Additional text from the summary',\n",
       " 'ECNO': 'EC number for enzyme or CAS registry number',\n",
       " 'ED': \"Section's Editor\",\n",
       " 'EDAT': 'Date publication first accessible through Entrez',\n",
       " 'EID': 'Extended PMID',\n",
       " 'EPDT': 'Date of Electronic publication',\n",
       " 'FAUT': 'First Author of publication',\n",
       " 'FILT': 'Limits the records',\n",
       " 'FINV': 'Full name of investigator',\n",
       " 'FULL': 'Full Author Name(s) of publication',\n",
       " 'GRNT': 'NIH Grant Numbers',\n",
       " 'INVR': 'Investigator',\n",
       " 'ISBN': 'ISBN',\n",
       " 'ISS': 'Issue number of publication',\n",
       " 'JOUR': 'Journal abbreviation of publication',\n",
       " 'LANG': 'Language of publication',\n",
       " 'LAUT': 'Last Author of publication',\n",
       " 'LID': 'ELocation ID',\n",
       " 'MAJR': 'MeSH terms of major importance to publication',\n",
       " 'MDAT': 'Date of last modification',\n",
       " 'MESH': 'Medical Subject Headings assigned to publication',\n",
       " 'MHDA': 'Date publication was indexed with MeSH terms',\n",
       " 'OTRM': 'Other terms associated with publication',\n",
       " 'PAGE': 'Page number(s) of publication',\n",
       " 'PAPX': 'MeSH pharmacological action pre-explosions',\n",
       " 'PDAT': 'Date of publication',\n",
       " 'PID': 'Publisher ID',\n",
       " 'PPDT': 'Date of print publication',\n",
       " 'PS': 'Personal Name as Subject',\n",
       " 'PTYP': 'Type of publication (e.g., review)',\n",
       " 'PUBN': \"Publisher's name\",\n",
       " 'SI': 'Cross-reference from publication to other databases',\n",
       " 'SUBH': 'Additional specificity for MeSH term',\n",
       " 'SUBS': 'CAS chemical name or MEDLINE Substance Name',\n",
       " 'TIAB': 'Free text associated with Abstract/Title',\n",
       " 'TITL': 'Words in title of publication',\n",
       " 'TT': 'Words in transliterated title of publication',\n",
       " 'UID': 'Unique number assigned to publication',\n",
       " 'VOL': 'Volume number of publication',\n",
       " 'WORD': 'Free text associated with publication'}"
      ]
     },
     "execution_count": 5,
     "metadata": {},
     "output_type": "execute_result"
    }
   ],
   "source": [
    "search_fields"
   ]
  },
  {
   "cell_type": "markdown",
   "metadata": {},
   "source": [
    "## ESearch: Searching the Entrez databases"
   ]
  },
  {
   "cell_type": "markdown",
   "metadata": {},
   "source": [
    "To have a look at the kind of data we get when searching the database, we'll perform a search for papers authored by Haasdijk:"
   ]
  },
  {
   "cell_type": "code",
   "execution_count": 6,
   "metadata": {
    "collapsed": false
   },
   "outputs": [
    {
     "data": {
      "text/plain": [
       "{'Count': '30', 'TranslationSet': [], 'QueryTranslation': 'Haasdijk E[Author]', 'IdList': ['24977986', '24901702', '24852945', '24708899', '24252306', '23580075', '23144668', '22174697', '22154920', '21870131', '21760539', '20662596', '20602234', '20386726', '18579581', '18305242', '17913916', '17804640', '17686042', '17183535'], 'RetMax': '20', 'RetStart': '0', 'TranslationStack': [{'Field': 'Author', 'Count': '30', 'Term': 'Haasdijk E[Author]', 'Explode': 'N'}, 'GROUP']}"
      ]
     },
     "execution_count": 6,
     "metadata": {},
     "output_type": "execute_result"
    }
   ],
   "source": [
    "example_authors = ['Haasdijk E']\n",
    "example_search = Entrez.read( Entrez.esearch( db=\"pubmed\", term=' AND '.join([a+'[AUTH]' for a in example_authors]) ) )\n",
    "example_search"
   ]
  },
  {
   "cell_type": "markdown",
   "metadata": {},
   "source": [
    "Note how the result being produced is not in Python's native string format:"
   ]
  },
  {
   "cell_type": "code",
   "execution_count": 7,
   "metadata": {
    "collapsed": false
   },
   "outputs": [
    {
     "data": {
      "text/plain": [
       "Bio.Entrez.Parser.StringElement"
      ]
     },
     "execution_count": 7,
     "metadata": {},
     "output_type": "execute_result"
    }
   ],
   "source": [
    "type( example_search['IdList'][0] )"
   ]
  },
  {
   "cell_type": "markdown",
   "metadata": {},
   "source": [
    "The part of the query's result we are most interested in is accessible through"
   ]
  },
  {
   "cell_type": "code",
   "execution_count": 9,
   "metadata": {
    "collapsed": false
   },
   "outputs": [
    {
     "name": "stdout",
     "output_type": "stream",
     "text": [
      "[24977986, 24901702, 24852945, 24708899, 24252306, 23580075, 23144668, 22174697, 22154920, 21870131, 21760539, 20662596, 20602234, 20386726, 18579581, 18305242, 17913916, 17804640, 17686042, 17183535]\n"
     ]
    }
   ],
   "source": [
    "example_ids = [ int(id) for id in example_search['IdList'] ]\n",
    "print(example_ids)"
   ]
  },
  {
   "cell_type": "markdown",
   "metadata": {},
   "source": [
    "### PubMed IDs dataset"
   ]
  },
  {
   "cell_type": "markdown",
   "metadata": {},
   "source": [
    "We will now assemble a dataset comprised of research articles containing the keyword \"evolution\", in either their titles or abstracts."
   ]
  },
  {
   "cell_type": "code",
   "execution_count": 16,
   "metadata": {
    "collapsed": false
   },
   "outputs": [],
   "source": [
    "search_term = 'air'"
   ]
  },
  {
   "cell_type": "code",
   "execution_count": 37,
   "metadata": {
    "collapsed": false
   },
   "outputs": [],
   "source": [
    "Ids_file = 'data/' + search_term + '__Ids.pkl.bz2'"
   ]
  },
  {
   "cell_type": "code",
   "execution_count": 18,
   "metadata": {
    "collapsed": false
   },
   "outputs": [
    {
     "name": "stdout",
     "output_type": "stream",
     "text": [
      "Fetching IDs of results [0,10000]\n",
      "Fetching IDs of results [10000,20000]\n",
      "Fetching IDs of results [20000,30000]\n",
      "Fetching IDs of results [30000,40000]\n",
      "Fetching IDs of results [40000,50000]\n",
      "Fetching IDs of results [50000,60000]\n",
      "Fetching IDs of results [60000,70000]\n",
      "Fetching IDs of results [70000,80000]\n",
      "Fetching IDs of results [80000,90000]\n",
      "Fetching IDs of results [90000,100000]\n",
      "Fetching IDs of results [100000,110000]\n",
      "Fetching IDs of results [110000,120000]\n",
      "Fetching IDs of results [120000,130000]\n",
      "Fetching IDs of results [130000,140000]\n",
      "Fetching IDs of results [140000,150000]\n",
      "Fetching IDs of results [150000,160000]\n",
      "Fetching IDs of results [160000,170000]\n",
      "Fetching IDs of results [170000,180000]\n",
      "Fetching IDs of results [180000,190000]\n",
      "Fetching IDs of results [190000,200000]\n",
      "190555 documents contain the search term \"air\".\n"
     ]
    }
   ],
   "source": [
    "if os.path.exists( Ids_file ):\n",
    "    Ids = cPickle.load( bz2.BZ2File( Ids_file, 'rb' ) )\n",
    "else:\n",
    "    # determine the number of hits for the search term\n",
    "    search = Entrez.read( Entrez.esearch( db=\"pubmed\", term=search_term+'[TIAB]', retmax=0 ) )\n",
    "    total = int( search['Count'] )\n",
    "    \n",
    "    # `Ids` will be incrementally assembled, by performing multiple queries,\n",
    "    # each returning at most `retrieve_per_query` entries.\n",
    "    Ids_str = []\n",
    "    retrieve_per_query = 10000\n",
    "    \n",
    "    for start in range( 0, total, retrieve_per_query ):\n",
    "        print('Fetching IDs of results [%d,%d]' % ( start, start+retrieve_per_query ) )\n",
    "        s = Entrez.read( Entrez.esearch( db=\"pubmed\", term=search_term+'[TIAB]', retstart=start, retmax=retrieve_per_query ) )\n",
    "        Ids_str.extend( s[ u'IdList' ] )\n",
    "    \n",
    "    # convert Ids to integers (and ensure that the conversion is reversible)\n",
    "    Ids = [ int(id) for id in Ids_str ]\n",
    "    \n",
    "    for (id_str, id_int) in zip(Ids_str, Ids):\n",
    "        if str(id_int) != id_str:\n",
    "            raise Exception('Conversion of PubMed ID %s from string to integer it not reversible.' % id_str )\n",
    "    \n",
    "    # Save list of Ids\n",
    "    pickle.dump( Ids, bz2.BZ2File( Ids_file, 'wb' ) )\n",
    "    \n",
    "total = len( Ids )\n",
    "print('%d documents contain the search term \"%s\".' % ( total, search_term ) )"
   ]
  },
  {
   "cell_type": "markdown",
   "metadata": {},
   "source": [
    "Taking a look at what we just retrieved, here are the last 5 elements of the `Ids` list:"
   ]
  },
  {
   "cell_type": "code",
   "execution_count": 19,
   "metadata": {
    "collapsed": false
   },
   "outputs": [
    {
     "data": {
      "text/plain": [
       "[26489032, 26489005, 26488732, 26488527, 26488458]"
      ]
     },
     "execution_count": 19,
     "metadata": {},
     "output_type": "execute_result"
    }
   ],
   "source": [
    "Ids[:5]"
   ]
  },
  {
   "cell_type": "markdown",
   "metadata": {},
   "source": [
    "## ESummary: Retrieving summaries from primary IDs"
   ]
  },
  {
   "cell_type": "markdown",
   "metadata": {},
   "source": [
    "To have a look at the kind of metadata we get from a call to `Entrez.esummary()`, we now fetch the summary of one of Haasdijk's papers (using one of the PubMed IDs we obtained in the previous section:"
   ]
  },
  {
   "cell_type": "code",
   "execution_count": 20,
   "metadata": {
    "collapsed": false
   },
   "outputs": [
    {
     "name": "stdout",
     "output_type": "stream",
     "text": [
      "AuthorList\n",
      "\t ['Eiben AE', 'Kernbach S', 'Haasdijk E']\n",
      "RecordStatus\n",
      "\t PubMed\n",
      "Pages\n",
      "\t 261-272\n",
      "Item\n",
      "\t []\n",
      "EPubDate\n",
      "\t 2012 Apr 20\n",
      "LangList\n",
      "\t ['English']\n",
      "Issue\n",
      "\t 4\n",
      "Volume\n",
      "\t 5\n",
      "PubDate\n",
      "\t 2012 Dec\n",
      "PubStatus\n",
      "\t ppublish+epublish\n",
      "ESSN\n",
      "\t 1864-5917\n",
      "ArticleIds\n",
      "\t {'pii': '71', 'pubmed': ['23144668'], 'eid': '23144668', 'rid': '23144668', 'pmc': 'PMC3490067', 'medline': [], 'doi': '10.1007/s12065-012-0071-x', 'pmcid': 'pmc-id: PMC3490067;'}\n",
      "NlmUniqueID\n",
      "\t 101475575\n",
      "Source\n",
      "\t Evol Intell\n",
      "PmcRefCount\n",
      "\t 2\n",
      "DOI\n",
      "\t 10.1007/s12065-012-0071-x\n",
      "SO\n",
      "\t 2012 Dec;5(4):261-272\n",
      "LastAuthor\n",
      "\t Haasdijk E\n",
      "FullJournalName\n",
      "\t Evolutionary intelligence\n",
      "PubTypeList\n",
      "\t ['Journal Article']\n",
      "History\n",
      "\t {'accepted': '2012/03/22 00:00', 'pubmed': ['2012/11/13 06:00'], 'revised': '2012/02/17 00:00', 'medline': ['2012/11/13 06:00'], 'entrez': '2012/11/13 06:00', 'epublish': '2012/04/20 00:00', 'received': '2011/11/28 00:00'}\n",
      "Id\n",
      "\t 23144668\n",
      "References\n",
      "\t []\n",
      "ELocationID\n",
      "\t \n",
      "ISSN\n",
      "\t 1864-5909\n",
      "Title\n",
      "\t Embodied artificial evolution: Artificial evolutionary systems in the 21st Century.\n",
      "HasAbstract\n",
      "\t 1\n"
     ]
    }
   ],
   "source": [
    "example_paper = Entrez.read( Entrez.esummary(db=\"pubmed\", id='23144668') )[0]\n",
    "\n",
    "def print_dict( p ):\n",
    "    for k,v in p.items():\n",
    "        print(k)\n",
    "        print('\\t', v)\n",
    "\n",
    "print_dict(example_paper)"
   ]
  },
  {
   "cell_type": "markdown",
   "metadata": {},
   "source": [
    "For now, we'll keep just some basic information for each paper: title, list of authors, publication year, and [DOI](https://en.wikipedia.org/wiki/Digital_object_identifier).\n",
    "\n",
    "In case you are not familiar with the DOI system, know that the paper above can be accessed through the link [http://dx.doi.org/10.1007/s12065-012-0071-x](http://dx.doi.org/10.1007/s12065-012-0071-x) (which is `http://dx.doi.org/` followed by the paper's DOI)."
   ]
  },
  {
   "cell_type": "code",
   "execution_count": 21,
   "metadata": {
    "collapsed": false
   },
   "outputs": [
    {
     "data": {
      "text/plain": [
       "('Embodied artificial evolution: Artificial evolutionary systems in the 21st Century.',\n",
       " ['Eiben AE', 'Kernbach S', 'Haasdijk E'],\n",
       " 2012,\n",
       " '10.1007/s12065-012-0071-x')"
      ]
     },
     "execution_count": 21,
     "metadata": {},
     "output_type": "execute_result"
    }
   ],
   "source": [
    "( example_paper['Title'], example_paper['AuthorList'], int(example_paper['PubDate'][:4]), example_paper['DOI'] )"
   ]
  },
  {
   "cell_type": "markdown",
   "metadata": {},
   "source": [
    "### Summaries dataset"
   ]
  },
  {
   "cell_type": "markdown",
   "metadata": {},
   "source": [
    "We are now ready to assemble a dataset containing the summaries of all the paper `Ids` we previously fetched.\n",
    "\n",
    "To reduce the memory footprint, and to ensure the saved datasets won't depend on Biopython being installed to be properly loaded, values returned by `Entrez.read()` will be converted to their corresponding native Python types. We start by defining a function for helping with the conversion of strings:"
   ]
  },
  {
   "cell_type": "code",
   "execution_count": 38,
   "metadata": {
    "collapsed": false
   },
   "outputs": [],
   "source": [
    "Summaries_file = 'data/' + search_term + '__Summaries.pkl.bz2'"
   ]
  },
  {
   "cell_type": "code",
   "execution_count": 36,
   "metadata": {
    "collapsed": false
   },
   "outputs": [
    {
     "name": "stdout",
     "output_type": "stream",
     "text": [
      "Fetching Summaries of results: \n",
      "0\n",
      "500\n",
      "1000\n",
      "1500\n",
      "2000\n",
      "2500\n",
      "3000\n",
      "3500\n",
      "4000\n",
      "4500\n",
      "5000\n",
      "5500\n",
      "6000\n",
      "6500\n",
      "7000\n",
      "7500\n",
      "8000\n",
      "8500\n",
      "9000\n",
      "9500\n",
      "10000\n",
      "10500\n",
      "11000\n",
      "11500\n",
      "12000\n",
      "12500\n",
      "13000\n",
      "13500\n",
      "14000\n",
      "14500\n",
      "15000\n",
      "15500\n",
      "16000\n",
      "16500\n",
      "17000\n",
      "17500\n",
      "18000\n",
      "18500\n",
      "19000\n",
      "19500\n",
      "20000\n",
      "20500\n",
      "21000\n",
      "21500\n",
      "22000\n",
      "22500\n",
      "23000\n",
      "23500\n",
      "24000\n",
      "24500\n",
      "25000\n",
      "25500\n",
      "26000\n",
      "26500\n",
      "27000\n",
      "27500\n",
      "28000\n",
      "28500\n",
      "29000\n",
      "29500\n",
      "30000\n",
      "30500\n",
      "31000\n",
      "31500\n",
      "32000\n",
      "32500\n",
      "33000\n",
      "33500\n",
      "34000\n",
      "34500\n",
      "35000\n",
      "35500\n",
      "36000\n",
      "36500\n",
      "37000\n",
      "37500\n",
      "38000\n",
      "38500\n",
      "39000\n",
      "39500\n",
      "40000\n",
      "40500\n",
      "41000\n",
      "41500\n",
      "42000\n",
      "42500\n",
      "43000\n",
      "43500\n",
      "44000\n",
      "44500\n",
      "45000\n",
      "45500\n",
      "46000\n",
      "46500\n",
      "47000\n",
      "47500\n",
      "48000\n",
      "48500\n",
      "49000\n",
      "49500\n",
      "50000\n",
      "50500\n",
      "51000\n",
      "51500\n",
      "52000\n",
      "52500\n",
      "53000\n",
      "53500\n",
      "54000\n",
      "54500\n",
      "55000\n",
      "55500\n",
      "56000\n",
      "56500\n",
      "57000\n",
      "57500\n",
      "58000\n",
      "58500\n",
      "59000\n",
      "59500\n",
      "60000\n",
      "60500\n",
      "61000\n",
      "61500\n",
      "62000\n",
      "62500\n",
      "63000\n",
      "63500\n",
      "64000\n",
      "64500\n",
      "65000\n",
      "65500\n",
      "66000\n",
      "66500\n",
      "67000\n",
      "67500\n",
      "68000\n",
      "68500\n",
      "69000\n",
      "69500\n",
      "70000\n",
      "70500\n",
      "71000\n",
      "71500\n",
      "72000\n",
      "72500\n",
      "73000\n",
      "73500\n",
      "74000\n",
      "74500\n",
      "75000\n",
      "75500\n",
      "76000\n",
      "76500\n",
      "77000\n",
      "77500\n",
      "78000\n",
      "78500\n",
      "79000\n",
      "79500\n",
      "80000\n",
      "80500\n",
      "81000\n",
      "81500\n",
      "82000\n",
      "82500\n",
      "83000\n",
      "83500\n",
      "84000\n",
      "84500\n",
      "85000\n",
      "85500\n",
      "86000\n",
      "86500\n",
      "87000\n",
      "87500\n",
      "88000\n",
      "88500\n",
      "89000\n",
      "89500\n",
      "90000\n",
      "90500\n",
      "91000\n",
      "91500\n",
      "92000\n",
      "92500\n",
      "93000\n",
      "93500\n",
      "94000\n",
      "94500\n",
      "95000\n",
      "95500\n",
      "96000\n",
      "96500\n",
      "97000\n",
      "97500\n",
      "98000\n",
      "98500\n",
      "99000\n",
      "99500\n",
      "100000\n",
      "100500\n",
      "101000\n",
      "101500\n",
      "102000\n",
      "102500\n",
      "103000\n",
      "103500\n",
      "104000\n",
      "104500\n",
      "105000\n",
      "105500\n",
      "106000\n",
      "106500\n",
      "107000\n",
      "107500\n",
      "108000\n",
      "108500\n",
      "109000\n",
      "109500\n",
      "110000\n",
      "110500\n",
      "111000\n",
      "111500\n",
      "112000\n",
      "112500\n",
      "113000\n",
      "113500\n",
      "114000\n",
      "114500\n",
      "115000\n",
      "115500\n",
      "116000\n",
      "116500\n",
      "117000\n",
      "117500\n",
      "118000\n",
      "118500\n",
      "119000\n",
      "119500\n",
      "120000\n",
      "120500\n",
      "121000\n",
      "121500\n",
      "122000\n",
      "122500\n",
      "123000\n",
      "123500\n",
      "124000\n",
      "124500\n",
      "125000\n",
      "125500\n",
      "126000\n",
      "126500\n",
      "127000\n",
      "127500\n",
      "128000\n",
      "128500\n",
      "129000\n",
      "129500\n",
      "130000\n",
      "130500\n",
      "131000\n",
      "131500\n",
      "132000\n",
      "132500\n",
      "133000\n",
      "133500\n",
      "134000\n",
      "134500\n",
      "135000\n",
      "135500\n",
      "136000\n",
      "136500\n",
      "137000\n",
      "137500\n",
      "138000\n",
      "138500\n",
      "139000\n",
      "139500\n",
      "140000\n",
      "140500\n",
      "141000\n",
      "141500\n",
      "142000\n",
      "142500\n",
      "143000\n",
      "143500\n",
      "144000\n",
      "144500\n",
      "145000\n",
      "145500\n",
      "146000\n",
      "146500\n",
      "147000\n",
      "147500\n",
      "148000\n",
      "148500\n",
      "149000\n",
      "149500\n",
      "150000\n",
      "150500\n",
      "151000\n",
      "151500\n",
      "152000\n",
      "152500\n",
      "153000\n",
      "153500\n",
      "154000\n",
      "154500\n",
      "155000\n",
      "155500\n",
      "156000\n",
      "156500\n",
      "157000\n",
      "157500\n",
      "158000\n",
      "158500\n",
      "159000\n",
      "159500\n",
      "160000\n",
      "160500\n",
      "161000\n",
      "161500\n",
      "162000\n",
      "162500\n",
      "163000\n",
      "163500\n",
      "164000\n",
      "164500\n",
      "165000\n",
      "165500\n",
      "166000\n",
      "166500\n",
      "167000\n",
      "167500\n",
      "168000\n",
      "168500\n",
      "169000\n",
      "169500\n",
      "170000\n",
      "170500\n",
      "171000\n",
      "171500\n",
      "172000\n",
      "172500\n",
      "173000\n",
      "173500\n",
      "174000\n",
      "174500\n",
      "175000\n",
      "175500\n",
      "176000\n",
      "176500\n",
      "177000\n",
      "177500\n",
      "178000\n",
      "178500\n",
      "179000\n",
      "179500\n",
      "180000\n",
      "180500\n",
      "181000\n",
      "181500\n",
      "182000\n",
      "182500\n",
      "183000\n",
      "183500\n",
      "184000\n",
      "184500\n",
      "185000\n",
      "185500\n",
      "186000\n",
      "186500\n",
      "187000\n",
      "187500\n",
      "188000\n",
      "188500\n",
      "189000\n",
      "189500\n",
      "190000\n",
      "190500\n"
     ]
    }
   ],
   "source": [
    "if os.path.exists( Summaries_file ):\n",
    "    Summaries = cPickle.load( bz2.BZ2File( Summaries_file, 'rb' ) )\n",
    "else:\n",
    "    # `Summaries` will be incrementally assembled, by performing multiple queries,\n",
    "    # each returning at most `retrieve_per_query` entries.\n",
    "    Summaries = []\n",
    "    retrieve_per_query = 500\n",
    "    \n",
    "    print('Fetching Summaries of results: ')\n",
    "    for start in range( 0, len(Ids), retrieve_per_query ):\n",
    "        if (start % 10000 == 0):\n",
    "            print('')\n",
    "            print(start, end='')\n",
    "        else:\n",
    "            print('.', end='')\n",
    "        \n",
    "        # build comma separated string with the ids at indexes [start, start+retrieve_per_query)\n",
    "        query_ids = ','.join( [ str(id) for id in Ids[ start : start+retrieve_per_query ] ] )\n",
    "        \n",
    "        s = Entrez.read( Entrez.esummary( db=\"pubmed\", id=query_ids ) )\n",
    "        \n",
    "        # out of the retrieved data, we will keep only a tuple (title, authors, year, DOI), associated with the paper's id.\n",
    "        # (all values converted to native Python formats)\n",
    "        f = [\n",
    "            ( int( p['Id'] ), (\n",
    "                str( p['Title'] ),\n",
    "                [ str(a) for a in p['AuthorList'] ],\n",
    "                int( p['PubDate'][:4] ),                # keeps just the publication year\n",
    "                str( p.get('DOI', '') )            # papers for which no DOI is available get an empty string in their place\n",
    "                ) )\n",
    "            for p in s\n",
    "            ]\n",
    "        Summaries.extend( f )\n",
    "    \n",
    "    # Save Summaries, as a dictionary indexed by Ids\n",
    "    Summaries = dict( Summaries )\n",
    "    \n",
    "    pickle.dump( Summaries, bz2.BZ2File( Summaries_file, 'wb' ) )"
   ]
  },
  {
   "cell_type": "markdown",
   "metadata": {},
   "source": [
    "Let us take a look at the first 3 retrieved summaries:"
   ]
  },
  {
   "cell_type": "code",
   "execution_count": 39,
   "metadata": {
    "collapsed": false
   },
   "outputs": [
    {
     "data": {
      "text/plain": [
       "{26488732: ('Use of Whole-Genome Sequencing to Link Burkholderia pseudomallei from Air Sampling to Mediastinal Melioidosis, Australia.',\n",
       "  ['Currie BJ',\n",
       "   'Price EP',\n",
       "   'Mayo M',\n",
       "   'Kaestli M',\n",
       "   'Theobald V',\n",
       "   'Harrington I',\n",
       "   'Harrington G',\n",
       "   'Sarovich DS'],\n",
       "  2015,\n",
       "  '10.3201/eid2111.141802'),\n",
       " 26489005: ('A simple chemical solution deposition of Co3O4 thin film electrocatalyst for oxygen evolution reaction.',\n",
       "  ['Jeon HS', 'Jee MS', 'Kim H', 'Ahn SJ', 'Hwang YJ', 'Min BK'],\n",
       "  2015,\n",
       "  '10.1021/acsami.5b06189'),\n",
       " 26489032: ('The Occurrence of Beer Spoilage Lactic Acid Bacteria in Craft Beer Production.',\n",
       "  ['Garofalo C',\n",
       "   'Osimani A',\n",
       "   'Milanović V',\n",
       "   'Taccari M',\n",
       "   'Aquilanti L',\n",
       "   'Clementi F'],\n",
       "  2015,\n",
       "  '10.1111/1750-3841.13112')}"
      ]
     },
     "execution_count": 39,
     "metadata": {},
     "output_type": "execute_result"
    }
   ],
   "source": [
    "{ id : Summaries[id] for id in Ids[:3] }"
   ]
  },
  {
   "cell_type": "markdown",
   "metadata": {},
   "source": [
    "## EFetch: Downloading full records from Entrez"
   ]
  },
  {
   "cell_type": "markdown",
   "metadata": {},
   "source": [
    "`Entrez.efetch()` is the function that will allow us to obtain paper abstracts. Let us start by taking a look at the kind of data it returns when we query PubMed's database."
   ]
  },
  {
   "cell_type": "code",
   "execution_count": 40,
   "metadata": {
    "collapsed": false
   },
   "outputs": [],
   "source": [
    "q = Entrez.read( Entrez.efetch(db=\"pubmed\", id='23144668', retmode=\"xml\") )"
   ]
  },
  {
   "cell_type": "markdown",
   "metadata": {},
   "source": [
    "`q` is a list, with each member corresponding to a queried id. Because here we only queried for one id, its results are then in `q[0]`."
   ]
  },
  {
   "cell_type": "code",
   "execution_count": 41,
   "metadata": {
    "collapsed": false
   },
   "outputs": [
    {
     "data": {
      "text/plain": [
       "(Bio.Entrez.Parser.ListElement, 1)"
      ]
     },
     "execution_count": 41,
     "metadata": {},
     "output_type": "execute_result"
    }
   ],
   "source": [
    "type(q), len(q)"
   ]
  },
  {
   "cell_type": "markdown",
   "metadata": {},
   "source": [
    "At `q[0]` we find a dictionary containing two keys, the contents of which we print below."
   ]
  },
  {
   "cell_type": "code",
   "execution_count": 42,
   "metadata": {
    "collapsed": false
   },
   "outputs": [
    {
     "data": {
      "text/plain": [
       "(Bio.Entrez.Parser.DictionaryElement,\n",
       " dict_keys(['PubmedData', 'MedlineCitation']))"
      ]
     },
     "execution_count": 42,
     "metadata": {},
     "output_type": "execute_result"
    }
   ],
   "source": [
    "type(q[0]), q[0].keys()"
   ]
  },
  {
   "cell_type": "code",
   "execution_count": 43,
   "metadata": {
    "collapsed": false
   },
   "outputs": [
    {
     "name": "stdout",
     "output_type": "stream",
     "text": [
      "ArticleIdList\n",
      "\t [StringElement('10.1007/s12065-012-0071-x', attributes={'IdType': 'doi'}), StringElement('71', attributes={'IdType': 'pii'}), StringElement('23144668', attributes={'IdType': 'pubmed'}), StringElement('PMC3490067', attributes={'IdType': 'pmc'})]\n",
      "PublicationStatus\n",
      "\t ppublish\n",
      "History\n",
      "\t [DictElement({'Day': '28', 'Month': '11', 'Year': '2011'}, attributes={'PubStatus': 'received'}), DictElement({'Day': '17', 'Month': '2', 'Year': '2012'}, attributes={'PubStatus': 'revised'}), DictElement({'Day': '22', 'Month': '3', 'Year': '2012'}, attributes={'PubStatus': 'accepted'}), DictElement({'Day': '20', 'Month': '4', 'Year': '2012'}, attributes={'PubStatus': 'epublish'}), DictElement({'Day': '13', 'Month': '11', 'Hour': '6', 'Year': '2012', 'Minute': '0'}, attributes={'PubStatus': 'entrez'}), DictElement({'Day': '13', 'Month': '11', 'Hour': '6', 'Year': '2012', 'Minute': '0'}, attributes={'PubStatus': 'pubmed'}), DictElement({'Day': '13', 'Month': '11', 'Hour': '6', 'Year': '2012', 'Minute': '0'}, attributes={'PubStatus': 'medline'})]\n"
     ]
    }
   ],
   "source": [
    "print_dict( q[0][ 'PubmedData' ] )"
   ]
  },
  {
   "cell_type": "markdown",
   "metadata": {},
   "source": [
    "The key `'MedlineCitation'` maps into another dictionary. In that dictionary, most of the information is contained under the key `'Article'`. To minimize the clutter, below we show the contents of `'MedlineCitation'` excluding its `'Article'` member, and below that we then show the contents of `'Article'`."
   ]
  },
  {
   "cell_type": "code",
   "execution_count": 45,
   "metadata": {
    "collapsed": false
   },
   "outputs": [
    {
     "name": "stdout",
     "output_type": "stream",
     "text": [
      "CitationSubset\n",
      "\t []\n",
      "PMID\n",
      "\t 23144668\n",
      "OtherID\n",
      "\t []\n",
      "DateCreated\n",
      "\t {'Day': '12', 'Month': '11', 'Year': '2012'}\n",
      "MedlineJournalInfo\n",
      "\t {'ISSNLinking': '1864-5909', 'NlmUniqueID': '101475575', 'MedlineTA': 'Evol Intell'}\n",
      "KeywordList\n",
      "\t []\n",
      "SpaceFlightMission\n",
      "\t []\n",
      "GeneralNote\n",
      "\t []\n",
      "OtherAbstract\n",
      "\t []\n"
     ]
    }
   ],
   "source": [
    "print_dict( { k:v for k,v in q[0][ 'MedlineCitation' ].items() if k!='Article' } )"
   ]
  },
  {
   "cell_type": "code",
   "execution_count": 46,
   "metadata": {
    "collapsed": false
   },
   "outputs": [
    {
     "name": "stdout",
     "output_type": "stream",
     "text": [
      "AuthorList\n",
      "\t ListElement([DictElement({'AffiliationInfo': [{'Affiliation': 'VU University Amsterdam, Amsterdam, The Netherlands.', 'Identifier': []}], 'Identifier': [], 'LastName': 'Eiben', 'Initials': 'AE', 'ForeName': 'A E'}, attributes={'ValidYN': 'Y'}), DictElement({'AffiliationInfo': [], 'Identifier': [], 'LastName': 'Kernbach', 'Initials': 'S', 'ForeName': 'S'}, attributes={'ValidYN': 'Y'}), DictElement({'AffiliationInfo': [], 'Identifier': [], 'LastName': 'Haasdijk', 'Initials': 'E', 'ForeName': 'Evert'}, attributes={'ValidYN': 'Y'})], attributes={'CompleteYN': 'Y', 'Type': 'authors'})\n",
      "Language\n",
      "\t ['ENG']\n",
      "ArticleDate\n",
      "\t [DictElement({'Day': '20', 'Month': '4', 'Year': '2012'}, attributes={'DateType': 'Electronic'})]\n",
      "ArticleTitle\n",
      "\t Embodied artificial evolution: Artificial evolutionary systems in the 21st Century.\n",
      "Pagination\n",
      "\t {'MedlinePgn': '261-272'}\n",
      "Abstract\n",
      "\t {'AbstractText': ['Evolution is one of the major omnipresent powers in the universe that has been studied for about two centuries. Recent scientific and technical developments make it possible to make the transition from passively understanding to actively using evolutionary processes. Today this is possible in Evolutionary Computing, where human experimenters can design and manipulate all components of evolutionary processes in digital spaces. We argue that in the near future it will be possible to implement artificial evolutionary processes outside such imaginary spaces and make them physically embodied. In other words, we envision the \"Evolution of Things\", rather than just the evolution of digital objects, leading to a new field of Embodied Artificial Evolution (EAE). The main objective of this paper is to present a unifying vision in order to aid the development of this high potential research area. To this end, we introduce the notion of EAE, discuss a few examples and applications, and elaborate on the expected benefits as well as the grand challenges this developing field will have to address.']}\n",
      "Journal\n",
      "\t {'JournalIssue': DictElement({'Volume': '5', 'Issue': '4', 'PubDate': {'Month': 'Dec', 'Year': '2012'}}, attributes={'CitedMedium': 'Print'}), 'ISSN': StringElement('1864-5909', attributes={'IssnType': 'Print'}), 'Title': 'Evolutionary intelligence', 'ISOAbbreviation': 'Evol Intell'}\n",
      "PublicationTypeList\n",
      "\t [StringElement('JOURNAL ARTICLE', attributes={'UI': ''})]\n",
      "ELocationID\n",
      "\t []\n"
     ]
    }
   ],
   "source": [
    "print_dict( q[0][ 'MedlineCitation' ][ 'Article' ] )"
   ]
  },
  {
   "cell_type": "markdown",
   "metadata": {},
   "source": [
    "A paper's abstract can therefore be accessed with:"
   ]
  },
  {
   "cell_type": "code",
   "execution_count": 47,
   "metadata": {
    "collapsed": false
   },
   "outputs": [
    {
     "data": {
      "text/plain": [
       "{23144668: 'Evolution is one of the major omnipresent powers in the universe that has been studied for about two centuries. Recent scientific and technical developments make it possible to make the transition from passively understanding to actively using evolutionary processes. Today this is possible in Evolutionary Computing, where human experimenters can design and manipulate all components of evolutionary processes in digital spaces. We argue that in the near future it will be possible to implement artificial evolutionary processes outside such imaginary spaces and make them physically embodied. In other words, we envision the \"Evolution of Things\", rather than just the evolution of digital objects, leading to a new field of Embodied Artificial Evolution (EAE). The main objective of this paper is to present a unifying vision in order to aid the development of this high potential research area. To this end, we introduce the notion of EAE, discuss a few examples and applications, and elaborate on the expected benefits as well as the grand challenges this developing field will have to address.'}"
      ]
     },
     "execution_count": 47,
     "metadata": {},
     "output_type": "execute_result"
    }
   ],
   "source": [
    "{ int(q[0]['MedlineCitation']['PMID']) : str(q[0]['MedlineCitation']['Article']['Abstract']['AbstractText'][0]) }"
   ]
  },
  {
   "cell_type": "markdown",
   "metadata": {},
   "source": [
    "A paper for which no abstract is available will simply not contain the `'Abstract'` key in its `'Article'` dictionary:"
   ]
  },
  {
   "cell_type": "code",
   "execution_count": 48,
   "metadata": {
    "collapsed": false
   },
   "outputs": [
    {
     "name": "stdout",
     "output_type": "stream",
     "text": [
      "Language\n",
      "\t ['eng']\n",
      "ArticleDate\n",
      "\t []\n",
      "ArticleTitle\n",
      "\t EVOLUTION OF LOCOMOTIVES IN AMERICA.\n",
      "Pagination\n",
      "\t {'MedlinePgn': '35'}\n",
      "Journal\n",
      "\t {'JournalIssue': DictElement({'Volume': '1', 'Issue': '3', 'PubDate': {'Day': '17', 'Month': 'Jul', 'Year': '1880'}}, attributes={'CitedMedium': 'Print'}), 'ISSN': StringElement('0036-8075', attributes={'IssnType': 'Print'}), 'Title': 'Science (New York, N.Y.)', 'ISOAbbreviation': 'Science'}\n",
      "PublicationTypeList\n",
      "\t [StringElement('Journal Article', attributes={'UI': 'D016428'})]\n",
      "ELocationID\n",
      "\t []\n"
     ]
    }
   ],
   "source": [
    "print_dict( Entrez.read( Entrez.efetch(db=\"pubmed\", id='17782550', retmode=\"xml\") )[0]['MedlineCitation']['Article'] )"
   ]
  },
  {
   "cell_type": "markdown",
   "metadata": {},
   "source": [
    "Some of the ids in our dataset refer to books from the [NCBI Bookshelf](http://www.ncbi.nlm.nih.gov/books/), a collection of freely available, downloadable, on-line versions of selected biomedical books. For such ids, `Entrez.efetch()` returns a slightly different structure, where the keys `[u'BookDocument', u'PubmedBookData']` take the place of the `[u'MedlineCitation', u'PubmedData']` keys we saw above.\n",
    "\n",
    "Here is an example of the data we obtain for the id corresponding to the book [The Social Biology of Microbial Communities](http://www.ncbi.nlm.nih.gov/books/NBK114831/):"
   ]
  },
  {
   "cell_type": "code",
   "execution_count": 49,
   "metadata": {
    "collapsed": false
   },
   "outputs": [],
   "source": [
    "r = Entrez.read( Entrez.efetch(db=\"pubmed\", id='24027805', retmode=\"xml\") )"
   ]
  },
  {
   "cell_type": "code",
   "execution_count": 50,
   "metadata": {
    "collapsed": false
   },
   "outputs": [
    {
     "name": "stdout",
     "output_type": "stream",
     "text": [
      "ArticleIdList\n",
      "\t [StringElement('24027805', attributes={'IdType': 'pubmed'})]\n",
      "PublicationStatus\n",
      "\t ppublish\n",
      "History\n",
      "\t [DictElement({'Day': '13', 'Month': '9', 'Hour': '6', 'Year': '2013', 'Minute': '0'}, attributes={'PubStatus': 'pubmed'}), DictElement({'Day': '13', 'Month': '9', 'Hour': '6', 'Year': '2013', 'Minute': '0'}, attributes={'PubStatus': 'medline'}), DictElement({'Day': '13', 'Month': '9', 'Hour': '6', 'Year': '2013', 'Minute': '0'}, attributes={'PubStatus': 'entrez'})]\n"
     ]
    }
   ],
   "source": [
    "print_dict( r[0][ 'PubmedBookData' ] )"
   ]
  },
  {
   "cell_type": "code",
   "execution_count": 51,
   "metadata": {
    "collapsed": false
   },
   "outputs": [
    {
     "name": "stdout",
     "output_type": "stream",
     "text": [
      "AuthorList\n",
      "\t []\n",
      "Language\n",
      "\t ['eng']\n",
      "ArticleIdList\n",
      "\t [StringElement('NBK114831', attributes={'IdType': 'bookaccession'})]\n",
      "PMID\n",
      "\t 24027805\n",
      "ItemList\n",
      "\t []\n",
      "Book\n",
      "\t {'AuthorList': [ListElement([DictElement({'CollectiveName': 'Institute of Medicine (US) Forum on Microbial Threats', 'AffiliationInfo': [], 'Identifier': []}, attributes={'ValidYN': 'Y'})], attributes={'CompleteYN': 'Y', 'Type': 'authors'})], 'ELocationID': [], 'CollectionTitle': StringElement('The National Academies Collection: Reports funded by National Institutes of Health', attributes={'book': 'napcollect'}), 'Isbn': ['9780309264327', '0309264324'], 'BookTitle': StringElement('The Social Biology of Microbial Communities: Workshop Summary', attributes={'book': 'nap13500'}), 'Publisher': {'PublisherLocation': 'Washington (DC)', 'PublisherName': 'National Academies Press (US)'}, 'PubDate': {'Year': '2012'}}\n",
      "Abstract\n",
      "\t {'CopyrightInformation': 'Copyright © 2012, National Academy of Sciences.', 'AbstractText': ['On March 6 and 7, 2012, the Institute of Medicine’s (IOM’s) Forum on Microbial Threats hosted a public workshop to explore the emerging science of the “social biology” of microbial communities. Workshop presentations and discussions embraced a wide spectrum of topics, experimental systems, and theoretical perspectives representative of the current, multifaceted exploration of the microbial frontier. Participants discussed ecological, evolutionary, and genetic factors contributing to the assembly, function, and stability of microbial communities; how microbial communities adapt and respond to environmental stimuli; theoretical and experimental approaches to advance this nascent field; and potential applications of knowledge gained from the study of microbial communities for the improvement of human, animal, plant, and ecosystem health and toward a deeper understanding of microbial diversity and evolution.']}\n",
      "Sections\n",
      "\t [{'SectionTitle': StringElement('THE NATIONAL ACADEMIES', attributes={'book': 'nap13500', 'part': 'fm.s1'}), 'Section': []}, {'SectionTitle': StringElement('PLANNING COMMITTEE FOR A WORKSHOP ON THE MICROBIOME IN HEALTH AND DISEASE', attributes={'book': 'nap13500', 'part': 'fm.s2'}), 'Section': []}, {'SectionTitle': StringElement('FORUM ON MICROBIAL THREATS', attributes={'book': 'nap13500', 'part': 'fm.s3'}), 'Section': []}, {'SectionTitle': StringElement('BOARD ON GLOBAL HEALTH', attributes={'book': 'nap13500', 'part': 'fm.s5'}), 'Section': []}, {'SectionTitle': StringElement('Reviewers', attributes={'book': 'nap13500', 'part': 'fm.s7'}), 'Section': []}, {'SectionTitle': StringElement('Acknowledgments', attributes={'book': 'nap13500', 'part': 'fm.ack'}), 'Section': []}, {'SectionTitle': StringElement('Workshop Overview', attributes={'book': 'nap13500', 'part': 'workshop'}), 'Section': []}, {'SectionTitle': StringElement('Appendixes', attributes={'book': 'nap13500', 'part': 'nap13500.appgroup1'}), 'Section': []}]\n",
      "LocationLabel\n",
      "\t []\n",
      "PublicationType\n",
      "\t []\n",
      "KeywordList\n",
      "\t []\n"
     ]
    }
   ],
   "source": [
    "print_dict( r[0][ 'BookDocument' ] )"
   ]
  },
  {
   "cell_type": "markdown",
   "metadata": {},
   "source": [
    "In a book from the NCBI Bookshelf, its abstract can then be accessed as such:"
   ]
  },
  {
   "cell_type": "code",
   "execution_count": 52,
   "metadata": {
    "collapsed": false
   },
   "outputs": [
    {
     "data": {
      "text/plain": [
       "{24027805: 'On March 6 and 7, 2012, the Institute of Medicine’s (IOM’s) Forum on Microbial Threats hosted a public workshop to explore the emerging science of the “social biology” of microbial communities. Workshop presentations and discussions embraced a wide spectrum of topics, experimental systems, and theoretical perspectives representative of the current, multifaceted exploration of the microbial frontier. Participants discussed ecological, evolutionary, and genetic factors contributing to the assembly, function, and stability of microbial communities; how microbial communities adapt and respond to environmental stimuli; theoretical and experimental approaches to advance this nascent field; and potential applications of knowledge gained from the study of microbial communities for the improvement of human, animal, plant, and ecosystem health and toward a deeper understanding of microbial diversity and evolution.'}"
      ]
     },
     "execution_count": 52,
     "metadata": {},
     "output_type": "execute_result"
    }
   ],
   "source": [
    "{ int(r[0]['BookDocument']['PMID']) : str(r[0]['BookDocument']['Abstract']['AbstractText'][0]) }"
   ]
  },
  {
   "cell_type": "markdown",
   "metadata": {},
   "source": [
    "### Abstracts dataset"
   ]
  },
  {
   "cell_type": "markdown",
   "metadata": {},
   "source": [
    "We can now assemble a dataset mapping paper ids to their abstracts."
   ]
  },
  {
   "cell_type": "code",
   "execution_count": 53,
   "metadata": {
    "collapsed": false
   },
   "outputs": [],
   "source": [
    "Abstracts_file = 'data/' + search_term + '__Abstracts.pkl.bz2'"
   ]
  },
  {
   "cell_type": "code",
   "execution_count": 59,
   "metadata": {
    "collapsed": false
   },
   "outputs": [
    {
     "name": "stdout",
     "output_type": "stream",
     "text": [
      "Fetching Abstracts of results: \n",
      "\n",
      "0...................\n",
      "10000...................\n",
      "20000...................\n",
      "30000...................\n",
      "40000...................\n",
      "50000...................\n",
      "60000...................\n",
      "70000...................\n",
      "80000...................\n",
      "90000...................\n",
      "100000...................\n",
      "110000...................\n",
      "120000...................\n",
      "130000...................\n",
      "140000...................\n",
      "150000...................\n",
      "160000...................\n",
      "170000...................\n",
      "180000...................\n",
      "190000."
     ]
    }
   ],
   "source": [
    "import http.client\n",
    "from collections import deque\n",
    "\n",
    "if os.path.exists( Abstracts_file ):\n",
    "    Abstracts = cPickle.load( bz2.BZ2File( Abstracts_file, 'rb' ) )\n",
    "else:\n",
    "    # `Abstracts` will be incrementally assembled, by performing multiple queries,\n",
    "    # each returning at most `retrieve_per_query` entries.\n",
    "    Abstracts = deque()\n",
    "    retrieve_per_query = 500\n",
    "    \n",
    "    print('Fetching Abstracts of results: ')\n",
    "    for start in range( 0, len(Ids), retrieve_per_query ):\n",
    "        if (start % 10000 == 0):\n",
    "            print('')\n",
    "            print(start, end='')\n",
    "        else:\n",
    "            print('.', end='')\n",
    "        \n",
    "        # build comma separated string with the ids at indexes [start, start+retrieve_per_query)\n",
    "        query_ids = ','.join( [ str(id) for id in Ids[ start : start+retrieve_per_query ] ] )\n",
    "        \n",
    "        # issue requests to the server, until we get the full amount of data we expect\n",
    "        while True:\n",
    "            try:\n",
    "                s = Entrez.read( Entrez.efetch(db=\"pubmed\", id=query_ids, retmode=\"xml\" ) )\n",
    "            except httplib.IncompleteRead:\n",
    "                print('r', end='')\n",
    "                continue\n",
    "            break\n",
    "        \n",
    "        i = 0\n",
    "        for p in s:\n",
    "            abstr = ''\n",
    "            if 'MedlineCitation' in p:\n",
    "                pmid = p['MedlineCitation']['PMID']\n",
    "                if 'Abstract' in p['MedlineCitation']['Article']:\n",
    "                    abstr = p['MedlineCitation']['Article']['Abstract']['AbstractText'][0]\n",
    "            elif 'BookDocument' in p:\n",
    "                pmid = p['BookDocument']['PMID']\n",
    "                if 'Abstract' in p['BookDocument']:\n",
    "                    abstr = p['BookDocument']['Abstract']['AbstractText'][0]\n",
    "            else:\n",
    "                raise Exception('Unrecognized record type, for id %d (keys: %s)' % (Ids[start+i], str(p.keys())) )\n",
    "            \n",
    "            Abstracts.append( (int(pmid), str(abstr)) )\n",
    "            i += 1\n",
    "    \n",
    "    # Save Abstracts, as a dictionary indexed by Ids\n",
    "    Abstracts = dict( Abstracts )\n",
    "    \n",
    "    pickle.dump( Abstracts, bz2.BZ2File( Abstracts_file, 'wb' ) )"
   ]
  },
  {
   "cell_type": "markdown",
   "metadata": {},
   "source": [
    "Taking a look at one paper's abstract:"
   ]
  },
  {
   "cell_type": "code",
   "execution_count": 60,
   "metadata": {
    "collapsed": false
   },
   "outputs": [
    {
     "data": {
      "text/plain": [
       "'The frequency with which melioidosis results from inhalation rather than percutaneous inoculation or ingestion is unknown. We recovered Burkholderia pseudomallei from air samples at the residence of a patient with presumptive inhalational melioidosis and used whole-genome sequencing to link the environmental bacteria to B. pseudomallei recovered from the patient.'"
      ]
     },
     "execution_count": 60,
     "metadata": {},
     "output_type": "execute_result"
    }
   ],
   "source": [
    "Abstracts[26488732]"
   ]
  },
  {
   "cell_type": "markdown",
   "metadata": {},
   "source": [
    "## ELink: Searching for related items in NCBI Entrez"
   ]
  },
  {
   "cell_type": "markdown",
   "metadata": {},
   "source": [
    "To understand how to obtain paper citations with Entrez, we will first assemble a small set of PubMed IDs, and then query for their citations.\n",
    "To that end, we search here for papers published in the [PLOS Computational Biology](http://www.ploscompbiol.org/) journal (as before, having also the word \"air\" in either the title or abstract):"
   ]
  },
  {
   "cell_type": "code",
   "execution_count": 64,
   "metadata": {
    "collapsed": false
   },
   "outputs": [
    {
     "data": {
      "text/plain": [
       "['24853675', '23737742', '23209398', '22383866', '20865052', '19300479']"
      ]
     },
     "execution_count": 64,
     "metadata": {},
     "output_type": "execute_result"
    }
   ],
   "source": [
    "CA_search_term = search_term+'[TIAB] AND PLoS computational biology[JOUR]'\n",
    "CA_ids = Entrez.read( Entrez.esearch( db=\"pubmed\", term=CA_search_term ) )['IdList']\n",
    "CA_ids"
   ]
  },
  {
   "cell_type": "code",
   "execution_count": 65,
   "metadata": {
    "collapsed": false
   },
   "outputs": [
    {
     "data": {
      "text/plain": [
       "{'19300479': ('Computational model of the insect pheromone transduction cascade.',\n",
       "  ['Gu Y', 'Lucas P', 'Rospars JP'],\n",
       "  '2009',\n",
       "  'PLoS computational biology',\n",
       "  '10.1371/journal.pcbi.1000321'),\n",
       " '20865052': ('Reverse engineering of oxygen transport in the lung: adaptation to changing demands and resources through space-filling networks.',\n",
       "  ['Hou C', 'Gheorghiu S', 'Huxley VH', 'Pfeifer P'],\n",
       "  '2010',\n",
       "  'PLoS computational biology',\n",
       "  '10.1371/journal.pcbi.1000902'),\n",
       " '22383866': ('A cell-based computational modeling approach for developing site-directed molecular probes.',\n",
       "  ['Yu JY', 'Zheng N', 'Mane G', 'Min KA', 'Hinestroza JP', 'Zhu H', 'Stringer KA', 'Rosania GR'],\n",
       "  '2012',\n",
       "  'PLoS computational biology',\n",
       "  '10.1371/journal.pcbi.1002378'),\n",
       " '23209398': ('Experimental studies and dynamics modeling analysis of the swimming and diving of whirligig beetles (Coleoptera: Gyrinidae).',\n",
       "  ['Xu Z', 'Lenaghan SC', 'Reese BE', 'Jia X', 'Zhang M'],\n",
       "  '2012',\n",
       "  'PLoS computational biology',\n",
       "  '10.1371/journal.pcbi.1002792'),\n",
       " '23737742': ('A mechanical design principle for tissue structure and function in the airway tree.',\n",
       "  ['LaPrad AS', 'Lutchen KR', 'Suki B'],\n",
       "  '2013',\n",
       "  'PLoS computational biology',\n",
       "  '10.1371/journal.pcbi.1003083'),\n",
       " '24853675': ('Evolution of pathogen specialisation in a host metapopulation: joint effects of host and pathogen dispersal.',\n",
       "  ['Papaïx J', 'Burdon JJ', 'Lannou C', 'Thrall PH'],\n",
       "  '2014',\n",
       "  'PLoS computational biology',\n",
       "  '10.1371/journal.pcbi.1003633')}"
      ]
     },
     "execution_count": 65,
     "metadata": {},
     "output_type": "execute_result"
    }
   ],
   "source": [
    "CA_summ = {\n",
    "    p['Id'] : ( p['Title'], p['AuthorList'], p['PubDate'][:4], p['FullJournalName'], p.get('DOI', '') )\n",
    "    for p in Entrez.read( Entrez.esummary(db=\"pubmed\", id=','.join( CA_ids )) )\n",
    "    }\n",
    "CA_summ"
   ]
  },
  {
   "cell_type": "markdown",
   "metadata": {},
   "source": [
    "Because we restricted our search to papers in an open-access journal, you can then follow their DOIs to freely access their PDFs at the journal's website:<br>[10.1371/journal.pcbi.0040023](http://dx.doi.org/10.1371/journal.pcbi.0040023), [10.1371/journal.pcbi.1000948](http://dx.doi.org/10.1371/journal.pcbi.1000948), [10.1371/journal.pcbi.1002236](http://dx.doi.org/10.1371/journal.pcbi.1002236)."
   ]
  },
  {
   "cell_type": "markdown",
   "metadata": {},
   "source": [
    "We will now issue calls to `Entrez.elink()` using these PubMed IDs, to retrieve the IDs of papers that cite them.\n",
    "The database from which the IDs will be retrieved is [PubMed Central](http://www.ncbi.nlm.nih.gov/pmc/), a free digital database of full-text scientific literature in the biomedical and life sciences.\n",
    "\n",
    "You can, for instance, find [archived here](http://www.ncbi.nlm.nih.gov/pmc/articles/PMC2951343/), with the PubMed Central ID 2951343, the paper \"Critical dynamics in the evolution of stochastic strategies for the iterated prisoner's dilemma\", which as we saw above, has the PubMed ID 20949101.\n",
    "\n",
    "A complete list of the kinds of links you can retrieve with `Entrez.elink()` can be found [here](http://eutils.ncbi.nlm.nih.gov/entrez/query/static/entrezlinks.html)."
   ]
  },
  {
   "cell_type": "code",
   "execution_count": 68,
   "metadata": {
    "collapsed": false
   },
   "outputs": [
    {
     "data": {
      "text/plain": [
       "[{'IdList': ['24853675'], 'DbFrom': 'pubmed', 'ERROR': [], 'LinkSetDb': [{'LinkName': 'pubmed_pmc_refs', 'DbTo': 'pmc', 'Link': [{'Id': '4408149'}, {'Id': '4105914'}]}], 'LinkSetDbHistory': []}]"
      ]
     },
     "execution_count": 68,
     "metadata": {},
     "output_type": "execute_result"
    }
   ],
   "source": [
    "CA_citing = {\n",
    "    id : Entrez.read( Entrez.elink(\n",
    "            cmd = \"neighbor\",               # ELink command mode: \"neighbor\", returns\n",
    "                                            #     a set of UIDs in `db` linked to the input UIDs in `dbfrom`.\n",
    "            dbfrom = \"pubmed\",              # Database containing the input UIDs: PubMed\n",
    "            db = \"pmc\",                     # Database from which to retrieve UIDs: PubMed Central\n",
    "            LinkName = \"pubmed_pmc_refs\",   # Name of the Entrez link to retrieve: \"pubmed_pmc_refs\", gets\n",
    "                                            #     \"Full-text articles in the PubMed Central Database that cite the current articles\"\n",
    "            from_uid = id                   # input UIDs\n",
    "            ) )\n",
    "    for id in CA_ids\n",
    "    }\n",
    "\n",
    "CA_citing['24853675']"
   ]
  },
  {
   "cell_type": "markdown",
   "metadata": {},
   "source": [
    "We have in `CA_citing[paper_id][0]['LinkSetDb'][0]['Link']` the list of papers citing `paper_id`. To get it as just a list of ids, we can do"
   ]
  },
  {
   "cell_type": "code",
   "execution_count": 70,
   "metadata": {
    "collapsed": false
   },
   "outputs": [
    {
     "data": {
      "text/plain": [
       "['4408149', '4105914']"
      ]
     },
     "execution_count": 70,
     "metadata": {},
     "output_type": "execute_result"
    }
   ],
   "source": [
    "cits = [ l['Id'] for l in CA_citing['24853675'][0]['LinkSetDb'][0]['Link'] ]\n",
    "cits"
   ]
  },
  {
   "cell_type": "markdown",
   "metadata": {},
   "source": [
    "However, one more step is needed, as what we have now are PubMed Central IDs, and not PubMed IDs. Their conversion can be achieved through an additional call to `Entrez.elink()`:"
   ]
  },
  {
   "cell_type": "code",
   "execution_count": 71,
   "metadata": {
    "collapsed": false
   },
   "outputs": [
    {
     "data": {
      "text/plain": [
       "[{'IdList': ['4105914', '4408149'], 'DbFrom': 'pmc', 'ERROR': [], 'LinkSetDb': [{'LinkName': 'pmc_pubmed', 'DbTo': 'pubmed', 'Link': [{'Id': '25926883'}, {'Id': '25067946'}]}], 'LinkSetDbHistory': []}]"
      ]
     },
     "execution_count": 71,
     "metadata": {},
     "output_type": "execute_result"
    }
   ],
   "source": [
    "cits_pm = Entrez.read( Entrez.elink( dbfrom=\"pmc\", db=\"pubmed\", LinkName=\"pmc_pubmed\", from_uid=\",\".join(cits)) )\n",
    "cits_pm"
   ]
  },
  {
   "cell_type": "code",
   "execution_count": 72,
   "metadata": {
    "collapsed": false
   },
   "outputs": [
    {
     "data": {
      "text/plain": [
       "{'4105914': '25926883', '4408149': '25067946'}"
      ]
     },
     "execution_count": 72,
     "metadata": {},
     "output_type": "execute_result"
    }
   ],
   "source": [
    "ids_map = { pmc_id : link['Id'] for (pmc_id,link) in zip(cits_pm[0]['IdList'], cits_pm[0]['LinkSetDb'][0]['Link']) }\n",
    "ids_map"
   ]
  },
  {
   "cell_type": "markdown",
   "metadata": {},
   "source": [
    "And to check these papers:"
   ]
  },
  {
   "cell_type": "code",
   "execution_count": 74,
   "metadata": {
    "collapsed": false
   },
   "outputs": [
    {
     "data": {
      "text/plain": [
       "{'25067946': ('Guiding deployment of resistance in cereals using evolutionary principles.',\n",
       "  ['Burdon JJ', 'Barrett LG', 'Rebetzke G', 'Thrall PH'],\n",
       "  '2014',\n",
       "  'Evolutionary applications',\n",
       "  '10.1111/eva.12175'),\n",
       " '25926883': ('Crop pathogen emergence and evolution in agro-ecological landscapes.',\n",
       "  ['Papaïx J', 'Burdon JJ', 'Zhan J', 'Thrall PH'],\n",
       "  '2015',\n",
       "  'Evolutionary applications',\n",
       "  '10.1111/eva.12251')}"
      ]
     },
     "execution_count": 74,
     "metadata": {},
     "output_type": "execute_result"
    }
   ],
   "source": [
    "{   p['Id'] : ( p['Title'], p['AuthorList'], p['PubDate'][:4], p['FullJournalName'], p.get('DOI', '') )\n",
    "    for p in Entrez.read( Entrez.esummary(db=\"pubmed\", id=','.join( ids_map.values() )) )\n",
    "    }"
   ]
  },
  {
   "cell_type": "markdown",
   "metadata": {},
   "source": [
    "### Citations dataset"
   ]
  },
  {
   "cell_type": "markdown",
   "metadata": {},
   "source": [
    "We have now seen all the steps required to assemble a dataset of citations to each of the papers in our dataset."
   ]
  },
  {
   "cell_type": "code",
   "execution_count": 85,
   "metadata": {
    "collapsed": false
   },
   "outputs": [],
   "source": [
    "Citations_file = 'data/' + search_term + '__Citations.pkl.bz2'\n",
    "Citations = []"
   ]
  },
  {
   "cell_type": "markdown",
   "metadata": {},
   "source": [
    "At least one server query will be issued per paper in `Ids`. Because NCBI allows for at most 3 queries per second (see [here](http://biopython.org/DIST/docs/api/Bio.Entrez-pysrc.html#_open)), this dataset will take a long time to assemble. Should you need to interrupt it for some reason, or the connection fail at some point, it is safe to just rerun the cell below until all data is collected."
   ]
  },
  {
   "cell_type": "code",
   "execution_count": 86,
   "metadata": {
    "collapsed": false
   },
   "outputs": [
    {
     "name": "stdout",
     "output_type": "stream",
     "text": [
      "\n",
      "190500...................................."
     ]
    },
    {
     "ename": "NameError",
     "evalue": "name 'httplib' is not defined",
     "output_type": "error",
     "traceback": [
      "\u001b[1;31m---------------------------------------------------------------------------\u001b[0m",
      "\u001b[1;31mKeyboardInterrupt\u001b[0m                         Traceback (most recent call last)",
      "\u001b[1;32m<ipython-input-86-b62ddfb4da9f>\u001b[0m in \u001b[0;36m<module>\u001b[1;34m()\u001b[0m\n\u001b[0;32m     15\u001b[0m                 \u001b[1;31m# query for papers archived in PubMed Central that cite the paper with PubMed ID `pm_id`\u001b[0m\u001b[1;33m\u001b[0m\u001b[1;33m\u001b[0m\u001b[0m\n\u001b[1;32m---> 16\u001b[1;33m                 \u001b[0mc\u001b[0m \u001b[1;33m=\u001b[0m \u001b[0mEntrez\u001b[0m\u001b[1;33m.\u001b[0m\u001b[0mread\u001b[0m\u001b[1;33m(\u001b[0m \u001b[0mEntrez\u001b[0m\u001b[1;33m.\u001b[0m\u001b[0melink\u001b[0m\u001b[1;33m(\u001b[0m \u001b[0mdbfrom\u001b[0m \u001b[1;33m=\u001b[0m \u001b[1;34m\"pubmed\"\u001b[0m\u001b[1;33m,\u001b[0m \u001b[0mdb\u001b[0m\u001b[1;33m=\u001b[0m\u001b[1;34m\"pmc\"\u001b[0m\u001b[1;33m,\u001b[0m \u001b[0mLinkName\u001b[0m \u001b[1;33m=\u001b[0m \u001b[1;34m\"pubmed_pmc_refs\"\u001b[0m\u001b[1;33m,\u001b[0m \u001b[0mid\u001b[0m\u001b[1;33m=\u001b[0m\u001b[0mstr\u001b[0m\u001b[1;33m(\u001b[0m\u001b[0mpm_id\u001b[0m\u001b[1;33m)\u001b[0m \u001b[1;33m)\u001b[0m \u001b[1;33m)\u001b[0m\u001b[1;33m\u001b[0m\u001b[0m\n\u001b[0m\u001b[0;32m     17\u001b[0m \u001b[1;33m\u001b[0m\u001b[0m\n",
      "\u001b[1;32m/usr/lib/python3/dist-packages/Bio/Entrez/__init__.py\u001b[0m in \u001b[0;36melink\u001b[1;34m(**keywds)\u001b[0m\n\u001b[0;32m    223\u001b[0m     \u001b[0mvariables\u001b[0m\u001b[1;33m.\u001b[0m\u001b[0mupdate\u001b[0m\u001b[1;33m(\u001b[0m\u001b[0mkeywds\u001b[0m\u001b[1;33m)\u001b[0m\u001b[1;33m\u001b[0m\u001b[0m\n\u001b[1;32m--> 224\u001b[1;33m     \u001b[1;32mreturn\u001b[0m \u001b[0m_open\u001b[0m\u001b[1;33m(\u001b[0m\u001b[0mcgi\u001b[0m\u001b[1;33m,\u001b[0m \u001b[0mvariables\u001b[0m\u001b[1;33m)\u001b[0m\u001b[1;33m\u001b[0m\u001b[0m\n\u001b[0m\u001b[0;32m    225\u001b[0m \u001b[1;33m\u001b[0m\u001b[0m\n",
      "\u001b[1;32m/usr/lib/python3/dist-packages/Bio/Entrez/__init__.py\u001b[0m in \u001b[0;36m_open\u001b[1;34m(cgi, params, post)\u001b[0m\n\u001b[0;32m    423\u001b[0m     \u001b[1;32mif\u001b[0m \u001b[0mwait\u001b[0m \u001b[1;33m>\u001b[0m \u001b[1;36m0\u001b[0m\u001b[1;33m:\u001b[0m\u001b[1;33m\u001b[0m\u001b[0m\n\u001b[1;32m--> 424\u001b[1;33m         \u001b[0mtime\u001b[0m\u001b[1;33m.\u001b[0m\u001b[0msleep\u001b[0m\u001b[1;33m(\u001b[0m\u001b[0mwait\u001b[0m\u001b[1;33m)\u001b[0m\u001b[1;33m\u001b[0m\u001b[0m\n\u001b[0m\u001b[0;32m    425\u001b[0m         \u001b[0m_open\u001b[0m\u001b[1;33m.\u001b[0m\u001b[0mprevious\u001b[0m \u001b[1;33m=\u001b[0m \u001b[0mcurrent\u001b[0m \u001b[1;33m+\u001b[0m \u001b[0mwait\u001b[0m\u001b[1;33m\u001b[0m\u001b[0m\n",
      "\u001b[1;31mKeyboardInterrupt\u001b[0m: ",
      "\nDuring handling of the above exception, another exception occurred:\n",
      "\u001b[1;31mNameError\u001b[0m                                 Traceback (most recent call last)",
      "\u001b[1;32m<ipython-input-86-b62ddfb4da9f>\u001b[0m in \u001b[0;36m<module>\u001b[1;34m()\u001b[0m\n\u001b[0;32m     33\u001b[0m                     \u001b[0mc\u001b[0m \u001b[1;33m=\u001b[0m \u001b[0mp\u001b[0m\u001b[1;33m\u001b[0m\u001b[0m\n\u001b[0;32m     34\u001b[0m \u001b[1;33m\u001b[0m\u001b[0m\n\u001b[1;32m---> 35\u001b[1;33m             \u001b[1;32mexcept\u001b[0m \u001b[0mhttplib\u001b[0m\u001b[1;33m.\u001b[0m\u001b[0mBadStatusLine\u001b[0m\u001b[1;33m:\u001b[0m\u001b[1;33m\u001b[0m\u001b[0m\n\u001b[0m\u001b[0;32m     36\u001b[0m                 \u001b[1;31m# Presumably, the server closed the connection before sending a valid response. Retry until we have the data.\u001b[0m\u001b[1;33m\u001b[0m\u001b[1;33m\u001b[0m\u001b[0m\n\u001b[0;32m     37\u001b[0m                 \u001b[0mprint\u001b[0m\u001b[1;33m(\u001b[0m\u001b[1;34m'r'\u001b[0m\u001b[1;33m)\u001b[0m\u001b[1;33m\u001b[0m\u001b[0m\n",
      "\u001b[1;31mNameError\u001b[0m: name 'httplib' is not defined"
     ]
    }
   ],
   "source": [
    "import http.client\n",
    "\n",
    "if Citations == [] and os.path.exists( Citations_file ):\n",
    "    Citations = pickle.load( bz2.BZ2File( Citations_file, 'rb' ) )\n",
    "\n",
    "if len(Citations) < len(Ids):\n",
    "    \n",
    "    i = len(Citations)\n",
    "    checkpoint = len(Ids) / 10 + 1      # save to hard drive at every 10% of Ids fetched\n",
    "    \n",
    "    for pm_id in Ids[i:]:               # either starts from index 0, or resumes from where we previously left off\n",
    "        \n",
    "        while True:\n",
    "            try:\n",
    "                # query for papers archived in PubMed Central that cite the paper with PubMed ID `pm_id`\n",
    "                c = Entrez.read( Entrez.elink( dbfrom = \"pubmed\", db=\"pmc\", LinkName = \"pubmed_pmc_refs\", id=str(pm_id) ) )\n",
    "                \n",
    "                c = c[0]['LinkSetDb']\n",
    "                if len(c) == 0:\n",
    "                    # no citations found for the current paper\n",
    "                    c = []\n",
    "                else:\n",
    "                    c = [ l['Id'] for l in c[0]['Link'] ]\n",
    "                    \n",
    "                    # convert citations from PubMed Central IDs to PubMed IDs\n",
    "                    p = []\n",
    "                    retrieve_per_query = 500\n",
    "                    for start in range( 0, len(c), retrieve_per_query ):\n",
    "                        query_ids = ','.join( c[start : start+retrieve_per_query] )\n",
    "                        r = Entrez.read( Entrez.elink( dbfrom=\"pmc\", db=\"pubmed\", LinkName=\"pmc_pubmed\", from_uid=query_ids ) )\n",
    "                        # select the IDs. If no matching PubMed ID was found, [] is returned instead\n",
    "                        p.extend( [] if r[0]['LinkSetDb']==[] else [ int(link['Id']) for link in r[0]['LinkSetDb'][0]['Link'] ] )\n",
    "                    c = p\n",
    "            \n",
    "            except httplib.BadStatusLine:\n",
    "                # Presumably, the server closed the connection before sending a valid response. Retry until we have the data.\n",
    "                print('r')\n",
    "                continue\n",
    "            break\n",
    "        \n",
    "        Citations.append( (pm_id, c) )\n",
    "        if (i % 10000 == 0):\n",
    "            print('')\n",
    "            print(start, end='')\n",
    "        if (i % 100 == 0):\n",
    "            print('.', end='')\n",
    "        i += 1\n",
    "        \n",
    "        if i % checkpoint == 0:\n",
    "            print('\\tsaving at checkpoint', i)\n",
    "            pickle.dump( Citations, bz2.BZ2File( Citations_file, 'wb' ) )\n",
    "    \n",
    "    print('\\n done.')\n",
    "    \n",
    "    # Save Citations, as a dictionary indexed by Ids\n",
    "    Citations = dict( Citations )\n",
    "    \n",
    "    pickle.dump( Citations, bz2.BZ2File( Citations_file, 'wb' ) )"
   ]
  },
  {
   "cell_type": "markdown",
   "metadata": {},
   "source": [
    "To see that we have indeed obtained the data we expected, you can match the ids below (citations to the paper \"Critical dynamics in the evolution of stochastic strategies for the iterated prisoner's dilemma\"), with the ids listed at the end of last section."
   ]
  },
  {
   "cell_type": "code",
   "execution_count": null,
   "metadata": {
    "collapsed": false
   },
   "outputs": [],
   "source": [
    "Citations[26488732]"
   ]
  },
  {
   "cell_type": "markdown",
   "metadata": {},
   "source": [
    "## Where do we go from here?"
   ]
  },
  {
   "cell_type": "markdown",
   "metadata": {},
   "source": [
    "Running the code above generates multiple local files, containing the datasets we'll be working with. Loading them into memory is a matter of just issuing a call like<br>\n",
    "``data = pickle.load( bz2.BZ2File( data_file, 'rb' ) )``.\n",
    "\n",
    "The Entrez module will therefore no longer be needed, unless you wish to extend your data processing with additional information retrieved from PubMed.\n",
    "\n",
    "Should you be interested in looking at alternative ways to handle the data, have a look at the [sqlite3](http://docs.python.org/3/library/sqlite3.html) module included in Python's standard library, or [Pandas](http://pandas.pydata.org/), the Python Data Analysis Library."
   ]
  }
 ],
 "metadata": {
  "kernelspec": {
   "display_name": "Python 3",
   "language": "python",
   "name": "python3"
  },
  "language_info": {
   "codemirror_mode": {
    "name": "ipython",
    "version": 3
   },
   "file_extension": ".py",
   "mimetype": "text/x-python",
   "name": "python",
   "nbconvert_exporter": "python",
   "pygments_lexer": "ipython3",
   "version": "3.4.3"
  }
 },
 "nbformat": 4,
 "nbformat_minor": 0
}
